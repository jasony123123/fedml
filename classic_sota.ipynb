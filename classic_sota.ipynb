{
  "nbformat": 4,
  "nbformat_minor": 0,
  "metadata": {
    "colab": {
      "name": "nbnb.ipynb",
      "provenance": [],
      "collapsed_sections": []
    },
    "kernelspec": {
      "name": "python3",
      "display_name": "Python 3"
    },
    "language_info": {
      "name": "python"
    },
    "accelerator": "GPU"
  },
  "cells": [
    {
      "cell_type": "code",
      "source": [
        "# from google.colab import drive\n",
        "# drive.mount('/content/drive')"
      ],
      "metadata": {
        "id": "5UeioFTmJHJp"
      },
      "execution_count": 2,
      "outputs": []
    },
    {
      "cell_type": "code",
      "execution_count": 3,
      "metadata": {
        "colab": {
          "base_uri": "https://localhost:8080/"
        },
        "id": "gsA9_-pvwViZ",
        "outputId": "df05ba69-ae94-4dfb-9667-bfb11a712ca2"
      },
      "outputs": [
        {
          "output_type": "stream",
          "name": "stdout",
          "text": [
            "Cloning into 'pytorch-cifar100'...\n",
            "remote: Enumerating objects: 1188, done.\u001b[K\n",
            "remote: Total 1188 (delta 0), reused 0 (delta 0), pack-reused 1188\u001b[K\n",
            "Receiving objects: 100% (1188/1188), 530.69 KiB | 1010.00 KiB/s, done.\n",
            "Resolving deltas: 100% (753/753), done.\n"
          ]
        }
      ],
      "source": [
        "!git clone https://github.com/weiaicunzai/pytorch-cifar100"
      ]
    },
    {
      "cell_type": "code",
      "source": [
        "%cd pytorch-cifar100/"
      ],
      "metadata": {
        "colab": {
          "base_uri": "https://localhost:8080/"
        },
        "id": "v4A7o-smww8V",
        "outputId": "2f5ce818-1883-4623-e0d1-1d57645c557e"
      },
      "execution_count": 5,
      "outputs": [
        {
          "output_type": "stream",
          "name": "stdout",
          "text": [
            "/content/pytorch-cifar100\n"
          ]
        }
      ]
    },
    {
      "cell_type": "code",
      "source": [
        "from models.resnet import resnet18\n",
        "\n",
        "import torch\n",
        "import torch.nn as nn\n",
        "import torch.optim as optim\n",
        "import torch.nn.functional as F\n",
        "import torch.backends.cudnn as cudnn\n",
        "from torch.utils.data import random_split\n",
        "\n",
        "import torchvision\n",
        "import torchvision.transforms as transforms\n",
        "\n",
        "import time\n",
        "import numpy as np"
      ],
      "metadata": {
        "id": "JdKGHBq2w04z"
      },
      "execution_count": 6,
      "outputs": []
    },
    {
      "cell_type": "code",
      "source": [
        "class Node(object):\n",
        "    def __init__(self, dataset, shuffle, batch_size=128):\n",
        "        self.dataloader = torch.utils.data.DataLoader(dataset, batch_size=batch_size, shuffle=shuffle, num_workers=2)\n",
        "    def set_more_hyperp(self, lr, mom, wd):\n",
        "        self.LEARNING_RATE = lr\n",
        "        self.MOMENTUM = mom\n",
        "        self.WEIGHT_DECAY = wd\n",
        "\n",
        "    def create_model(self):\n",
        "        self.model = resnet18()\n",
        "        self.model = nn.DataParallel(self.model).cuda()\n",
        "    def load_model(self, other_node):\n",
        "        self.model = resnet18()\n",
        "        self.model.load_state_dict(other_node.model.module.state_dict())\n",
        "        self.model = nn.DataParallel(self.model).cuda()\n",
        "    def aggregate_then_load_model(self, other_nodes):\n",
        "        params = [node.model.module.state_dict() for node in other_nodes]\n",
        "        self.model = resnet18()\n",
        "        param_master = dict(self.model.state_dict())\n",
        "        for name in param_master:\n",
        "            param_master[name] = 0\n",
        "            for p in params:\n",
        "                param_master[name] += p[name] * (1.0 / len(other_nodes))\n",
        "        self.model.load_state_dict(param_master)\n",
        "        self.model = nn.DataParallel(self.model).cuda()\n",
        "    def save_model(self, path):\n",
        "      torch.save(self.model.module.state_dict(), path)\n",
        "    def load_saved_model(self, path):\n",
        "      weights = torch.load(path)\n",
        "      self.model = resnet18()\n",
        "      self.model.load_state_dict(weights)\n",
        "      self.model = nn.DataParallel(self.model).cuda()\n",
        "\n",
        "    class AverageMeter(object):\n",
        "        def __init__(self):\n",
        "            self.reset()\n",
        "        def reset(self):\n",
        "            self.val = 0\n",
        "            self.avg = 0\n",
        "            self.sum = 0\n",
        "            self.count = 0\n",
        "        def update(self, val, n=1):\n",
        "            self.val = val\n",
        "            self.sum += val * n\n",
        "            self.count += n\n",
        "            self.avg = self.sum / self.count\n",
        "    def accuracy(self, output, target, topk=(1,)):\n",
        "        \"\"\"Computes the precision@k for the specified values of k\"\"\"\n",
        "        maxk = max(topk)\n",
        "        batch_size = target.size(0)\n",
        "        _, pred = output.topk(maxk, 1, True, True)\n",
        "        pred = pred.t()\n",
        "        correct = pred.eq(target.view(1, -1).expand_as(pred))\n",
        "        res = []\n",
        "        for k in topk:\n",
        "            correct_k = correct[:k].view(-1).float().sum(0)\n",
        "            res.append(correct_k.mul_(100.0 / batch_size))\n",
        "        return res\n",
        "\n",
        "    def train_model(self, which_epoch):\n",
        "        criterion = nn.CrossEntropyLoss().cuda()\n",
        "        optimizer = optim.SGD(self.model.parameters(), self.LEARNING_RATE, momentum=self.MOMENTUM, weight_decay=self.WEIGHT_DECAY)\n",
        "\n",
        "        batch_time = self.AverageMeter()\n",
        "        data_time = self.AverageMeter()\n",
        "        losses = self.AverageMeter()\n",
        "        top1 = self.AverageMeter()\n",
        "\n",
        "        self.model.train()\n",
        "\n",
        "        end = time.time()\n",
        "        for i, (input, target) in enumerate(self.dataloader):\n",
        "            # measure data loading time\n",
        "            data_time.update(time.time() - end)\n",
        "\n",
        "            input, target = input.cuda(), target.cuda()\n",
        "\n",
        "            # compute output\n",
        "            output = self.model(input)\n",
        "            loss = criterion(output, target)\n",
        "\n",
        "            # measure accuracy and record loss\n",
        "            prec = self.accuracy(output, target)[0]\n",
        "            losses.update(loss.item(), input.size(0))\n",
        "            top1.update(prec.item(), input.size(0))\n",
        "\n",
        "            # compute gradient and do SGD step\n",
        "            optimizer.zero_grad()\n",
        "            loss.backward()\n",
        "            optimizer.step()\n",
        "\n",
        "            # measure elapsed time\n",
        "            batch_time.update(time.time() - end)\n",
        "            end = time.time()\n",
        "        \n",
        "        return {\n",
        "            'epoch': which_epoch,\n",
        "            'batch_time.avg': batch_time.avg,\n",
        "            'data_time.avg': data_time.avg,\n",
        "            'losses.avg': losses.avg,\n",
        "            'top1.avg': top1.avg}\n",
        "\n",
        "    def evaluate_model(self):\n",
        "        criterion = nn.CrossEntropyLoss().cuda()\n",
        "        batch_time = self.AverageMeter()\n",
        "        losses = self.AverageMeter()\n",
        "        top1 = self.AverageMeter()\n",
        "\n",
        "        # switch to evaluate mode\n",
        "        self.model.eval()\n",
        "\n",
        "        end = time.time()\n",
        "        with torch.no_grad():\n",
        "            for i, (input, target) in enumerate(self.dataloader):\n",
        "                input, target = input.cuda(), target.cuda()\n",
        "\n",
        "                # compute output\n",
        "                output = self.model(input)\n",
        "                loss = criterion(output, target)\n",
        "\n",
        "                # measure accuracy and record loss\n",
        "                prec = self.accuracy(output, target)[0]\n",
        "                losses.update(loss.item(), input.size(0))\n",
        "                top1.update(prec.item(), input.size(0))\n",
        "\n",
        "                # measure elapsed time\n",
        "                batch_time.update(time.time() - end)\n",
        "                end = time.time()\n",
        "\n",
        "        return {\n",
        "            'batch_time.avg': batch_time.avg,\n",
        "            'losses.avg': losses.avg,\n",
        "            'top1.avg': top1.avg}"
      ],
      "metadata": {
        "id": "B5R8BYQB_L9b"
      },
      "execution_count": 16,
      "outputs": []
    },
    {
      "cell_type": "code",
      "source": [
        "CIFAR100_TRAIN_MEAN = [0.5070751592371323, 0.48654887331495095, 0.4409178433670343]\n",
        "CIFAR100_TRAIN_STD = [0.2673342858792401, 0.2564384629170883, 0.27615047132568404]\n",
        "\n",
        "train_dataset = torchvision.datasets.CIFAR100(\n",
        "  root='./data',\n",
        "  train=True,\n",
        "  download=True,\n",
        "  transform=transforms.Compose([\n",
        "    transforms.RandomCrop(32, padding=4),\n",
        "    transforms.RandomHorizontalFlip(),\n",
        "    transforms.RandomRotation(15),\n",
        "    transforms.ToTensor(),\n",
        "    transforms.Normalize(CIFAR100_TRAIN_MEAN, CIFAR100_TRAIN_STD)\n",
        "    ]))\n",
        "\n",
        "train_split_datasest = random_split(train_dataset, [10000, 10000, 10000, 10000, 10000])\n",
        "\n",
        "test_dataset = torchvision.datasets.CIFAR100(\n",
        "  root='./data',\n",
        "  train=False,\n",
        "  download=False,\n",
        "  transform=transforms.Compose([\n",
        "      transforms.ToTensor(),\n",
        "      transforms.Normalize(CIFAR100_TRAIN_MEAN, CIFAR100_TRAIN_STD)\n",
        "  ]))"
      ],
      "metadata": {
        "id": "kFQmLHq2yHyi",
        "colab": {
          "base_uri": "https://localhost:8080/"
        },
        "outputId": "990437fd-3f37-4de5-f1e7-f05dc718b2a9"
      },
      "execution_count": 17,
      "outputs": [
        {
          "output_type": "stream",
          "name": "stdout",
          "text": [
            "Files already downloaded and verified\n"
          ]
        }
      ]
    },
    {
      "cell_type": "markdown",
      "source": [
        "CLASSIC TRAINING"
      ],
      "metadata": {
        "id": "3VKQIVNtN1Cf"
      }
    },
    {
      "cell_type": "code",
      "source": [
        "server_classic = Node(test_dataset, shuffle=False, batch_size=128)\n",
        "client_classic = Node(train_dataset, shuffle=True, batch_size=128)\n",
        "client_classic.create_model()\n",
        "training_logs, testing_logs = [], []"
      ],
      "metadata": {
        "id": "gBb5F8qMyAd8"
      },
      "execution_count": 20,
      "outputs": []
    },
    {
      "cell_type": "code",
      "source": [
        "client_classic.set_more_hyperp(lr=0.1, mom=0.9, wd=5e-4)\n",
        "for epoch in range(1, 20+1):\n",
        "    training_logs.append(client_classic.train_model(epoch))\n",
        "    server_classic.load_model(client_classic)\n",
        "    testing_logs.append(server_classic.evaluate_model())\n",
        "    print(training_logs[-1])\n",
        "    print(testing_logs[-1])"
      ],
      "metadata": {
        "colab": {
          "base_uri": "https://localhost:8080/"
        },
        "id": "b9S1pBs7yAV1",
        "outputId": "e46e9b38-4ff9-4a56-f868-15bc982cec83"
      },
      "execution_count": 21,
      "outputs": [
        {
          "output_type": "stream",
          "name": "stdout",
          "text": [
            "{'epoch': 1, 'batch_time.avg': 0.34748696854047456, 'data_time.avg': 0.00357284570289085, 'losses.avg': 3.962310236816406, 'top1.avg': 9.09}\n",
            "{'batch_time.avg': 0.10869331903095487, 'losses.avg': 3.614988480758667, 'top1.avg': 13.43}\n",
            "{'epoch': 2, 'batch_time.avg': 0.34866335934690196, 'data_time.avg': 0.0034339330385408135, 'losses.avg': 3.3654900790405273, 'top1.avg': 17.798}\n",
            "{'batch_time.avg': 0.10811860048318211, 'losses.avg': 3.336258583068848, 'top1.avg': 20.57}\n",
            "{'epoch': 3, 'batch_time.avg': 0.3486738918382493, 'data_time.avg': 0.003492673034863094, 'losses.avg': 2.921759614715576, 'top1.avg': 26.09}\n",
            "{'batch_time.avg': 0.10809768906122522, 'losses.avg': 2.7744102478027344, 'top1.avg': 29.33}\n",
            "{'epoch': 4, 'batch_time.avg': 0.3486125176519994, 'data_time.avg': 0.003409546049659514, 'losses.avg': 2.526426815032959, 'top1.avg': 34.144}\n",
            "{'batch_time.avg': 0.10822745214534711, 'losses.avg': 2.595032322692871, 'top1.avg': 33.26}\n",
            "{'epoch': 5, 'batch_time.avg': 0.3485636833073843, 'data_time.avg': 0.0034786276805126456, 'losses.avg': 2.2492850566864013, 'top1.avg': 39.89}\n",
            "{'batch_time.avg': 0.10832399356214306, 'losses.avg': 2.2404971046447755, 'top1.avg': 41.12}\n",
            "{'epoch': 6, 'batch_time.avg': 0.34855812833742106, 'data_time.avg': 0.0037174828522040715, 'losses.avg': 2.0519255361175537, 'top1.avg': 44.442}\n",
            "{'batch_time.avg': 0.10893653917916213, 'losses.avg': 2.005077088165283, 'top1.avg': 45.94}\n",
            "{'epoch': 7, 'batch_time.avg': 0.3468099872169592, 'data_time.avg': 0.003966150991142253, 'losses.avg': 1.916376053199768, 'top1.avg': 47.318}\n",
            "{'batch_time.avg': 0.10779165618027313, 'losses.avg': 2.16025115814209, 'top1.avg': 43.77}\n",
            "{'epoch': 8, 'batch_time.avg': 0.3475271057899651, 'data_time.avg': 0.0036826767884861784, 'losses.avg': 1.812551372642517, 'top1.avg': 49.916}\n",
            "{'batch_time.avg': 0.10860381548917747, 'losses.avg': 1.9397272134780883, 'top1.avg': 47.27}\n",
            "{'epoch': 9, 'batch_time.avg': 0.34876169390080836, 'data_time.avg': 0.0037796783935078577, 'losses.avg': 1.734459177017212, 'top1.avg': 51.922}\n",
            "{'batch_time.avg': 0.10877934588661677, 'losses.avg': 2.1758897426605226, 'top1.avg': 43.38}\n",
            "{'epoch': 10, 'batch_time.avg': 0.3486186488510093, 'data_time.avg': 0.0037620781022874293, 'losses.avg': 1.6718046517944336, 'top1.avg': 53.25}\n",
            "{'batch_time.avg': 0.10864252380177944, 'losses.avg': 1.9939263896942139, 'top1.avg': 47.26}\n",
            "{'epoch': 11, 'batch_time.avg': 0.34844913507056663, 'data_time.avg': 0.0038546125602234357, 'losses.avg': 1.6196465676879883, 'top1.avg': 54.568}\n",
            "{'batch_time.avg': 0.10853512679474263, 'losses.avg': 1.8281336874008178, 'top1.avg': 50.09}\n",
            "{'epoch': 12, 'batch_time.avg': 0.3484833246606695, 'data_time.avg': 0.003889118618977344, 'losses.avg': 1.5759108014297485, 'top1.avg': 55.54}\n",
            "{'batch_time.avg': 0.10915830769116365, 'losses.avg': 1.8631592811584472, 'top1.avg': 50.01}\n",
            "{'epoch': 13, 'batch_time.avg': 0.3483145297945613, 'data_time.avg': 0.0038659621382613318, 'losses.avg': 1.5318652313995362, 'top1.avg': 57.036}\n",
            "{'batch_time.avg': 0.10891313794292981, 'losses.avg': 1.8104103771209716, 'top1.avg': 52.4}\n",
            "{'epoch': 14, 'batch_time.avg': 0.34827719137186897, 'data_time.avg': 0.003942661578088161, 'losses.avg': 1.501822371444702, 'top1.avg': 57.546}\n",
            "{'batch_time.avg': 0.10831852804256391, 'losses.avg': 1.7624639944076539, 'top1.avg': 52.82}\n",
            "{'epoch': 15, 'batch_time.avg': 0.3482453371862621, 'data_time.avg': 0.0037059430271158436, 'losses.avg': 1.4737357851409911, 'top1.avg': 58.482}\n",
            "{'batch_time.avg': 0.1082888645461843, 'losses.avg': 1.7402755500793456, 'top1.avg': 53.41}\n",
            "{'epoch': 16, 'batch_time.avg': 0.34831003886659434, 'data_time.avg': 0.0037444034195921916, 'losses.avg': 1.4494028775024415, 'top1.avg': 58.836}\n",
            "{'batch_time.avg': 0.1079143481918528, 'losses.avg': 1.8025170152664185, 'top1.avg': 52.2}\n",
            "{'epoch': 17, 'batch_time.avg': 0.3481947125681221, 'data_time.avg': 0.0037045100765764867, 'losses.avg': 1.4368077039718627, 'top1.avg': 59.306}\n",
            "{'batch_time.avg': 0.10881873323947569, 'losses.avg': 1.8243794692993165, 'top1.avg': 52.88}\n",
            "{'epoch': 18, 'batch_time.avg': 0.3481947211048487, 'data_time.avg': 0.003668197280610614, 'losses.avg': 1.4079223603057862, 'top1.avg': 60.208}\n",
            "{'batch_time.avg': 0.10794798030128962, 'losses.avg': 1.7326696413040161, 'top1.avg': 53.04}\n",
            "{'epoch': 19, 'batch_time.avg': 0.3481655962326947, 'data_time.avg': 0.003554001488649022, 'losses.avg': 1.4037012523269654, 'top1.avg': 60.066}\n",
            "{'batch_time.avg': 0.10835353935821147, 'losses.avg': 1.7651971593856812, 'top1.avg': 53.51}\n",
            "{'epoch': 20, 'batch_time.avg': 0.34815579302170696, 'data_time.avg': 0.003472733680549485, 'losses.avg': 1.372617202720642, 'top1.avg': 60.972}\n",
            "{'batch_time.avg': 0.10823592354979696, 'losses.avg': 1.6943073080062867, 'top1.avg': 54.9}\n"
          ]
        }
      ]
    },
    {
      "cell_type": "code",
      "source": [
        "client_classic.save_model('trained-model-epoch-20')"
      ],
      "metadata": {
        "id": "B7Vuf6QxyAMu"
      },
      "execution_count": 22,
      "outputs": []
    },
    {
      "cell_type": "code",
      "source": [
        "client_classic.set_more_hyperp(lr=0.1, mom=0.9, wd=5e-4)\n",
        "for epoch in range(21, 30+1):\n",
        "    training_logs.append(client_classic.train_model(epoch))\n",
        "    server_classic.load_model(client_classic)\n",
        "    testing_logs.append(server_classic.evaluate_model())\n",
        "    print(training_logs[-1])\n",
        "    print(testing_logs[-1])"
      ],
      "metadata": {
        "id": "4ByHDuXbMGIJ",
        "colab": {
          "base_uri": "https://localhost:8080/"
        },
        "outputId": "87be4ca7-d5f7-4f2c-cbb9-f919880da62c"
      },
      "execution_count": 23,
      "outputs": [
        {
          "output_type": "stream",
          "name": "stdout",
          "text": [
            "{'epoch': 21, 'batch_time.avg': 0.34732557989447316, 'data_time.avg': 0.0036392882656868155, 'losses.avg': 1.3557959514617919, 'top1.avg': 61.432}\n",
            "{'batch_time.avg': 0.10803548595573328, 'losses.avg': 1.6294720294952392, 'top1.avg': 56.63}\n",
            "{'epoch': 22, 'batch_time.avg': 0.34836134093496807, 'data_time.avg': 0.003665012471816119, 'losses.avg': 1.3512666953277588, 'top1.avg': 61.682}\n",
            "{'batch_time.avg': 0.10809960546372813, 'losses.avg': 1.7013730962753295, 'top1.avg': 55.29}\n",
            "{'epoch': 23, 'batch_time.avg': 0.3499395414386564, 'data_time.avg': 0.0036105518145939275, 'losses.avg': 1.3383345281219483, 'top1.avg': 61.772}\n",
            "{'batch_time.avg': 0.10952035384842113, 'losses.avg': 1.5601480533599854, 'top1.avg': 57.57}\n",
            "{'epoch': 24, 'batch_time.avg': 0.35101334823062047, 'data_time.avg': 0.0035216369287437185, 'losses.avg': 1.3258705700683593, 'top1.avg': 62.072}\n",
            "{'batch_time.avg': 0.10926208616812018, 'losses.avg': 1.5714661674499513, 'top1.avg': 56.91}\n",
            "{'epoch': 25, 'batch_time.avg': 0.35119297986140335, 'data_time.avg': 0.0035297614534187806, 'losses.avg': 1.3167549941635133, 'top1.avg': 62.406}\n",
            "{'batch_time.avg': 0.10957062093517449, 'losses.avg': 1.7301571899414063, 'top1.avg': 55.02}\n",
            "{'epoch': 26, 'batch_time.avg': 0.3503629569812199, 'data_time.avg': 0.004200458526611328, 'losses.avg': 1.3078146593093871, 'top1.avg': 62.602}\n",
            "{'batch_time.avg': 0.10896647730960121, 'losses.avg': 1.771028862762451, 'top1.avg': 53.69}\n",
            "{'epoch': 27, 'batch_time.avg': 0.3501530352150998, 'data_time.avg': 0.0036763254638827974, 'losses.avg': 1.2868104861831664, 'top1.avg': 63.194}\n",
            "{'batch_time.avg': 0.10965055453626416, 'losses.avg': 2.1900670251846313, 'top1.avg': 47.08}\n",
            "{'epoch': 28, 'batch_time.avg': 0.34993132240022234, 'data_time.avg': 0.0037391521131900874, 'losses.avg': 1.299520069503784, 'top1.avg': 62.864}\n",
            "{'batch_time.avg': 0.10959326768223243, 'losses.avg': 1.609636491394043, 'top1.avg': 56.95}\n",
            "{'epoch': 29, 'batch_time.avg': 0.3498293719328273, 'data_time.avg': 0.0038034940314719745, 'losses.avg': 1.2789983729553223, 'top1.avg': 63.306}\n",
            "{'batch_time.avg': 0.10957641842999036, 'losses.avg': 1.8297868003845215, 'top1.avg': 52.3}\n",
            "{'epoch': 30, 'batch_time.avg': 0.3499058518568268, 'data_time.avg': 0.0036222056659591167, 'losses.avg': 1.2742777904510498, 'top1.avg': 63.556}\n",
            "{'batch_time.avg': 0.10961864568010161, 'losses.avg': 1.6858421649932862, 'top1.avg': 55.62}\n"
          ]
        }
      ]
    },
    {
      "cell_type": "code",
      "source": [
        "client_classic.save_model('trained-model-epoch-30')"
      ],
      "metadata": {
        "id": "VWFFUs7aEAxg"
      },
      "execution_count": 24,
      "outputs": []
    },
    {
      "cell_type": "code",
      "source": [
        "client_classic.set_more_hyperp(lr=0.02, mom=0.9, wd=5e-4)\n",
        "for epoch in range(31, 40+1):\n",
        "    training_logs.append(client_classic.train_model(epoch))\n",
        "    server_classic.load_model(client_classic)\n",
        "    testing_logs.append(server_classic.evaluate_model())\n",
        "    print(training_logs[-1])\n",
        "    print(testing_logs[-1])"
      ],
      "metadata": {
        "id": "Q8D--_JqEDpo",
        "outputId": "2002d24a-1c0b-495d-8724-36d24fd5de74",
        "colab": {
          "base_uri": "https://localhost:8080/"
        }
      },
      "execution_count": 25,
      "outputs": [
        {
          "output_type": "stream",
          "name": "stdout",
          "text": [
            "{'epoch': 31, 'batch_time.avg': 0.3503056639600593, 'data_time.avg': 0.003823669365299937, 'losses.avg': 0.8110101011657714, 'top1.avg': 76.152}\n",
            "{'batch_time.avg': 0.10901822923104974, 'losses.avg': 1.010975661277771, 'top1.avg': 70.69}\n",
            "{'epoch': 32, 'batch_time.avg': 0.3495160667487727, 'data_time.avg': 0.0038308889969535494, 'losses.avg': 0.6677106137657165, 'top1.avg': 79.986}\n",
            "{'batch_time.avg': 0.10937377470958082, 'losses.avg': 1.0129452381134034, 'top1.avg': 71.26}\n",
            "{'epoch': 33, 'batch_time.avg': 0.3498897924447608, 'data_time.avg': 0.003686883565410019, 'losses.avg': 0.6028931803321839, 'top1.avg': 82.122}\n",
            "{'batch_time.avg': 0.11003841025919854, 'losses.avg': 1.0202454795837403, 'top1.avg': 71.32}\n",
            "{'epoch': 34, 'batch_time.avg': 0.3510475353816586, 'data_time.avg': 0.004162974979566491, 'losses.avg': 0.5527554134559631, 'top1.avg': 83.216}\n",
            "{'batch_time.avg': 0.10940356797809843, 'losses.avg': 1.0846254504203796, 'top1.avg': 69.9}\n",
            "{'epoch': 35, 'batch_time.avg': 0.3499576844217832, 'data_time.avg': 0.0040610348781966185, 'losses.avg': 0.5214387754249573, 'top1.avg': 84.216}\n",
            "{'batch_time.avg': 0.10899711862395081, 'losses.avg': 1.053156280517578, 'top1.avg': 71.26}\n",
            "{'epoch': 36, 'batch_time.avg': 0.34998813492562764, 'data_time.avg': 0.003616179956499573, 'losses.avg': 0.5006988153457642, 'top1.avg': 84.696}\n",
            "{'batch_time.avg': 0.10878304288357118, 'losses.avg': 1.1045762210845946, 'top1.avg': 69.78}\n",
            "{'epoch': 37, 'batch_time.avg': 0.3505694494223046, 'data_time.avg': 0.003812428935409507, 'losses.avg': 0.47937646814346313, 'top1.avg': 85.262}\n",
            "{'batch_time.avg': 0.10868332054041609, 'losses.avg': 1.1135155889511108, 'top1.avg': 70.11}\n",
            "{'epoch': 38, 'batch_time.avg': 0.3501466960858201, 'data_time.avg': 0.0035825556196520092, 'losses.avg': 0.46271540061950683, 'top1.avg': 85.83}\n",
            "{'batch_time.avg': 0.10905492154857781, 'losses.avg': 1.121229759979248, 'top1.avg': 70.11}\n",
            "{'epoch': 39, 'batch_time.avg': 0.3498984822226912, 'data_time.avg': 0.003714327312186551, 'losses.avg': 0.45158746671676636, 'top1.avg': 86.048}\n",
            "{'batch_time.avg': 0.10915786103357243, 'losses.avg': 1.1911291223526002, 'top1.avg': 68.81}\n",
            "{'epoch': 40, 'batch_time.avg': 0.3499969429981983, 'data_time.avg': 0.0036337887844466185, 'losses.avg': 0.4427806119155884, 'top1.avg': 86.262}\n",
            "{'batch_time.avg': 0.10900150975094566, 'losses.avg': 1.1813104721069336, 'top1.avg': 69.38}\n"
          ]
        }
      ]
    },
    {
      "cell_type": "code",
      "source": [
        "client_classic.save_model('trained-model-epoch-40')"
      ],
      "metadata": {
        "id": "E12tOR8OJtCs"
      },
      "execution_count": 26,
      "outputs": []
    },
    {
      "cell_type": "code",
      "source": [
        "import json\n",
        "with open('classic_logs.json', 'w') as outfile:\n",
        "    outfile.write(str(json.dumps({'training_logs': training_logs, 'testing_logs': testing_logs})))"
      ],
      "metadata": {
        "id": "lqfD--8iKGbK"
      },
      "execution_count": 34,
      "outputs": []
    },
    {
      "cell_type": "code",
      "source": [
        "import matplotlib.pyplot as plt\n",
        "\n",
        "plt.plot([x['losses.avg'] for x in training_logs], label='classic_train_loss')\n",
        "plt.plot([x['losses.avg'] for x in testing_logs], label='classic_test_loss')\n",
        "plt.legend()\n",
        "plt.show()\n",
        "\n",
        "plt.plot([x['top1.avg'] for x in training_logs], label='classic_train_acc')\n",
        "plt.plot([x['top1.avg'] for x in testing_logs], label='classic_test_acc')\n",
        "plt.legend()\n",
        "plt.show()"
      ],
      "metadata": {
        "id": "OYWS7v0NK7rZ",
        "outputId": "3adcf6c4-7ffe-446a-d14b-412687db508c",
        "colab": {
          "base_uri": "https://localhost:8080/",
          "height": 517
        }
      },
      "execution_count": 41,
      "outputs": [
        {
          "output_type": "display_data",
          "data": {
            "image/png": "[encoded data removed]",
            "text/plain": [
              "<Figure size 432x288 with 1 Axes>"
            ]
          },
          "metadata": {
            "needs_background": "light"
          }
        },
        {
          "output_type": "display_data",
          "data": {
            "image/png": "[encoded data removed]",
            "text/plain": [
              "<Figure size 432x288 with 1 Axes>"
            ]
          },
          "metadata": {
            "needs_background": "light"
          }
        }
      ]
    },
    {
      "cell_type": "markdown",
      "source": [
        "FEDERATED TRAINING"
      ],
      "metadata": {
        "id": "NE6ndT6QOQtz"
      }
    },
    {
      "cell_type": "code",
      "source": [
        "clients_subsets = [Node(data, do_shuffle=True) for data in train_split_datasest]\n",
        "server_federator = Node(test_dataset, do_shuffle=False)"
      ],
      "metadata": {
        "id": "o_fUZybvL_6g"
      },
      "execution_count": null,
      "outputs": []
    },
    {
      "cell_type": "code",
      "source": [
        "server_federator.create_model()\n",
        "\n",
        "for epoch in range(1, 50+1):\n",
        "    for client_idx in range(len(clients_subsets)):\n",
        "        client = clients_subsets[client_idx]\n",
        "        client.load_model(server_federator)\n",
        "        print('client training #', client_idx, client.train_model(epoch))\n",
        "    server_federator.aggregate_then_load_model(clients_subsets)\n",
        "    print('server evaluation:', server_federator.evaluate_model())"
      ],
      "metadata": {
        "colab": {
          "base_uri": "https://localhost:8080/"
        },
        "id": "7trC6YHROUtX",
        "outputId": "1aac8988-2581-43b0-8cfc-a0c233472030"
      },
      "execution_count": null,
      "outputs": [
        {
          "output_type": "stream",
          "name": "stdout",
          "text": [
            "client training # 0 {'epoch': 1, 'batch_time.avg': 0.045098413394976264, 'data_time.avg': 0.015087894246548036, 'losses.avg': 4.407847500610352, 'top1.avg': 3.21}\n",
            "client training # 1 {'epoch': 1, 'batch_time.avg': 0.043727980384343786, 'data_time.avg': 0.014109557188009913, 'losses.avg': 4.422984429168701, 'top1.avg': 3.11}\n",
            "client training # 2 {'epoch': 1, 'batch_time.avg': 0.0432941098756428, 'data_time.avg': 0.014947981774052488, 'losses.avg': 4.428100756072998, 'top1.avg': 2.92}\n",
            "client training # 3 {'epoch': 1, 'batch_time.avg': 0.04370737075805664, 'data_time.avg': 0.014210625539852095, 'losses.avg': 4.429288793182373, 'top1.avg': 3.09}\n",
            "client training # 4 {'epoch': 1, 'batch_time.avg': 0.04381493073475512, 'data_time.avg': 0.014723104766652555, 'losses.avg': 4.4212605628967285, 'top1.avg': 3.28}\n",
            "server evaluation: {'batch_time.avg': 0.025038034101075763, 'losses.avg': 4.557403146362304, 'top1.avg': 1.42}\n",
            "client training # 0 {'epoch': 2, 'batch_time.avg': 0.04317911968955511, 'data_time.avg': 0.015842630893369264, 'losses.avg': 4.116439108276367, 'top1.avg': 5.75}\n",
            "client training # 1 {'epoch': 2, 'batch_time.avg': 0.04312804379040682, 'data_time.avg': 0.01418221449550194, 'losses.avg': 4.128496341705322, 'top1.avg': 5.39}\n",
            "client training # 2 {'epoch': 2, 'batch_time.avg': 0.04293629489367521, 'data_time.avg': 0.013714413099651095, 'losses.avg': 4.110511348342896, 'top1.avg': 5.49}\n",
            "client training # 3 {'epoch': 2, 'batch_time.avg': 0.043956312952162346, 'data_time.avg': 0.01579471781283994, 'losses.avg': 4.110515972137451, 'top1.avg': 5.73}\n",
            "client training # 4 {'epoch': 2, 'batch_time.avg': 0.04433429693873925, 'data_time.avg': 0.015347402307051646, 'losses.avg': 4.110550259780884, 'top1.avg': 5.51}\n",
            "server evaluation: {'batch_time.avg': 0.02484748333315306, 'losses.avg': 4.062288917541504, 'top1.avg': 6.25}\n",
            "client training # 0 {'epoch': 3, 'batch_time.avg': 0.043938618672044974, 'data_time.avg': 0.013305012183853342, 'losses.avg': 3.925584033203125, 'top1.avg': 8.22}\n",
            "client training # 1 {'epoch': 3, 'batch_time.avg': 0.04415095908732354, 'data_time.avg': 0.014509819730927673, 'losses.avg': 3.9240119552612303, 'top1.avg': 8.45}\n",
            "client training # 2 {'epoch': 3, 'batch_time.avg': 0.04469345491143722, 'data_time.avg': 0.01538725140728528, 'losses.avg': 3.9311595920562743, 'top1.avg': 8.26}\n",
            "client training # 3 {'epoch': 3, 'batch_time.avg': 0.04422300374960598, 'data_time.avg': 0.01637026629870451, 'losses.avg': 3.9180585903167726, 'top1.avg': 8.4}\n",
            "client training # 4 {'epoch': 3, 'batch_time.avg': 0.0439721029016036, 'data_time.avg': 0.015264541287965413, 'losses.avg': 3.926158253479004, 'top1.avg': 8.57}\n",
            "server evaluation: {'batch_time.avg': 0.02428544322146645, 'losses.avg': 3.7418298835754396, 'top1.avg': 11.95}\n",
            "client training # 0 {'epoch': 4, 'batch_time.avg': 0.043820474721208404, 'data_time.avg': 0.012998789171629313, 'losses.avg': 3.774181991195679, 'top1.avg': 10.39}\n",
            "client training # 1 {'epoch': 4, 'batch_time.avg': 0.043597082548503634, 'data_time.avg': 0.014506982851632034, 'losses.avg': 3.7683285625457765, 'top1.avg': 10.77}\n",
            "client training # 2 {'epoch': 4, 'batch_time.avg': 0.04525628572777857, 'data_time.avg': 0.014333788352676584, 'losses.avg': 3.7822038928985595, 'top1.avg': 10.46}\n",
            "client training # 3 {'epoch': 4, 'batch_time.avg': 0.044975392426116555, 'data_time.avg': 0.014846943601777282, 'losses.avg': 3.777564803314209, 'top1.avg': 10.5}\n",
            "client training # 4 {'epoch': 4, 'batch_time.avg': 0.04345693467538568, 'data_time.avg': 0.014489852929417091, 'losses.avg': 3.781734935760498, 'top1.avg': 10.45}\n",
            "server evaluation: {'batch_time.avg': 0.024698242356505574, 'losses.avg': 3.6004598236083982, 'top1.avg': 13.71}\n",
            "client training # 0 {'epoch': 5, 'batch_time.avg': 0.04424537586260446, 'data_time.avg': 0.01449445531338076, 'losses.avg': 3.6832201091766357, 'top1.avg': 11.92}\n",
            "client training # 1 {'epoch': 5, 'batch_time.avg': 0.043762789496892614, 'data_time.avg': 0.013805380350426782, 'losses.avg': 3.660948139190674, 'top1.avg': 12.79}\n",
            "client training # 2 {'epoch': 5, 'batch_time.avg': 0.04380294341075269, 'data_time.avg': 0.013781767857225635, 'losses.avg': 3.686766473388672, 'top1.avg': 11.85}\n",
            "client training # 3 {'epoch': 5, 'batch_time.avg': 0.043888994410068174, 'data_time.avg': 0.013282893579217452, 'losses.avg': 3.6606703010559083, 'top1.avg': 12.08}\n",
            "client training # 4 {'epoch': 5, 'batch_time.avg': 0.04412153702747973, 'data_time.avg': 0.015761173224147364, 'losses.avg': 3.663674095916748, 'top1.avg': 12.47}\n",
            "server evaluation: {'batch_time.avg': 0.024875387360778035, 'losses.avg': 3.5396496883392334, 'top1.avg': 14.54}\n",
            "client training # 0 {'epoch': 6, 'batch_time.avg': 0.0442894108687775, 'data_time.avg': 0.013495768172831475, 'losses.avg': 3.5591122631073, 'top1.avg': 13.91}\n",
            "client training # 1 {'epoch': 6, 'batch_time.avg': 0.04358350777927833, 'data_time.avg': 0.013397262066225463, 'losses.avg': 3.555022289276123, 'top1.avg': 13.94}\n",
            "client training # 2 {'epoch': 6, 'batch_time.avg': 0.0442172062547901, 'data_time.avg': 0.013765522196323057, 'losses.avg': 3.566260464477539, 'top1.avg': 14.44}\n",
            "client training # 3 {'epoch': 6, 'batch_time.avg': 0.04460434068607379, 'data_time.avg': 0.016178589832933642, 'losses.avg': 3.5575389656066894, 'top1.avg': 14.36}\n",
            "client training # 4 {'epoch': 6, 'batch_time.avg': 0.04389793963371953, 'data_time.avg': 0.014454207842863059, 'losses.avg': 3.573868796157837, 'top1.avg': 14.44}\n",
            "server evaluation: {'batch_time.avg': 0.024836727335483214, 'losses.avg': 3.355599948883057, 'top1.avg': 18.43}\n",
            "client training # 0 {'epoch': 7, 'batch_time.avg': 0.044151792043372044, 'data_time.avg': 0.014736380758164804, 'losses.avg': 3.4606125213623047, 'top1.avg': 15.75}\n",
            "client training # 1 {'epoch': 7, 'batch_time.avg': 0.044825200793109365, 'data_time.avg': 0.013874135439908957, 'losses.avg': 3.4534689506530762, 'top1.avg': 16.08}\n",
            "client training # 2 {'epoch': 7, 'batch_time.avg': 0.04543495178222656, 'data_time.avg': 0.014115342610998999, 'losses.avg': 3.4538189140319826, 'top1.avg': 16.24}\n",
            "client training # 3 {'epoch': 7, 'batch_time.avg': 0.04586893093736866, 'data_time.avg': 0.014341149149061759, 'losses.avg': 3.4572953048706054, 'top1.avg': 16.15}\n",
            "client training # 4 {'epoch': 7, 'batch_time.avg': 0.04609943341605271, 'data_time.avg': 0.015266638767870166, 'losses.avg': 3.452546244430542, 'top1.avg': 16.09}\n",
            "server evaluation: {'batch_time.avg': 0.024962968464139142, 'losses.avg': 3.2908765647888183, 'top1.avg': 19.23}\n",
            "client training # 0 {'epoch': 8, 'batch_time.avg': 0.04362971571427357, 'data_time.avg': 0.012982462025895904, 'losses.avg': 3.3695457180023194, 'top1.avg': 17.94}\n",
            "client training # 1 {'epoch': 8, 'batch_time.avg': 0.043973433820507196, 'data_time.avg': 0.014063841179956365, 'losses.avg': 3.3572503757476806, 'top1.avg': 17.73}\n",
            "client training # 2 {'epoch': 8, 'batch_time.avg': 0.043464126466195796, 'data_time.avg': 0.01458647884900057, 'losses.avg': 3.354681678009033, 'top1.avg': 18.92}\n",
            "client training # 3 {'epoch': 8, 'batch_time.avg': 0.04452231564099276, 'data_time.avg': 0.014526575426512126, 'losses.avg': 3.341253527069092, 'top1.avg': 18.03}\n",
            "client training # 4 {'epoch': 8, 'batch_time.avg': 0.043527935124650786, 'data_time.avg': 0.01426129703280292, 'losses.avg': 3.354461925125122, 'top1.avg': 17.19}\n",
            "server evaluation: {'batch_time.avg': 0.024271569674528096, 'losses.avg': 3.1479787322998045, 'top1.avg': 22.24}\n",
            "client training # 0 {'epoch': 9, 'batch_time.avg': 0.04290653784063798, 'data_time.avg': 0.013789765442473978, 'losses.avg': 3.249206244277954, 'top1.avg': 19.85}\n",
            "client training # 1 {'epoch': 9, 'batch_time.avg': 0.04368688185003739, 'data_time.avg': 0.016087830821170084, 'losses.avg': 3.2255001331329347, 'top1.avg': 19.51}\n",
            "client training # 2 {'epoch': 9, 'batch_time.avg': 0.04495819610885427, 'data_time.avg': 0.015095590036126632, 'losses.avg': 3.2504584297180177, 'top1.avg': 19.33}\n",
            "client training # 3 {'epoch': 9, 'batch_time.avg': 0.04485705834400805, 'data_time.avg': 0.014597814294356333, 'losses.avg': 3.2527948211669924, 'top1.avg': 19.32}\n",
            "client training # 4 {'epoch': 9, 'batch_time.avg': 0.044413379476040224, 'data_time.avg': 0.015268591385853441, 'losses.avg': 3.2419551525115966, 'top1.avg': 20.02}\n",
            "server evaluation: {'batch_time.avg': 0.02485590645029575, 'losses.avg': 3.093480573654175, 'top1.avg': 23.21}\n",
            "client training # 0 {'epoch': 10, 'batch_time.avg': 0.04406016687803631, 'data_time.avg': 0.015472907054273389, 'losses.avg': 3.1373328399658202, 'top1.avg': 22.41}\n",
            "client training # 1 {'epoch': 10, 'batch_time.avg': 0.04482992691329763, 'data_time.avg': 0.014312822607499135, 'losses.avg': 3.1347441398620606, 'top1.avg': 21.87}\n",
            "client training # 2 {'epoch': 10, 'batch_time.avg': 0.04408787172051925, 'data_time.avg': 0.014865799795223188, 'losses.avg': 3.143404008483887, 'top1.avg': 21.35}\n",
            "client training # 3 {'epoch': 10, 'batch_time.avg': 0.043079542208321484, 'data_time.avg': 0.014107704162597656, 'losses.avg': 3.1419260822296144, 'top1.avg': 21.72}\n",
            "client training # 4 {'epoch': 10, 'batch_time.avg': 0.04322996018808099, 'data_time.avg': 0.012334216999102242, 'losses.avg': 3.1270653739929197, 'top1.avg': 22.32}\n",
            "server evaluation: {'batch_time.avg': 0.02469686918620822, 'losses.avg': 2.9184111698150637, 'top1.avg': 26.82}\n",
            "client training # 0 {'epoch': 11, 'batch_time.avg': 0.04421697990803779, 'data_time.avg': 0.01437328736993331, 'losses.avg': 3.0113996101379397, 'top1.avg': 24.36}\n",
            "client training # 1 {'epoch': 11, 'batch_time.avg': 0.04406457913072803, 'data_time.avg': 0.013846068442622317, 'losses.avg': 3.0379908588409426, 'top1.avg': 23.48}\n",
            "client training # 2 {'epoch': 11, 'batch_time.avg': 0.04335902612420577, 'data_time.avg': 0.01446343373648728, 'losses.avg': 3.025186083602905, 'top1.avg': 23.48}\n",
            "client training # 3 {'epoch': 11, 'batch_time.avg': 0.043859714194189145, 'data_time.avg': 0.015058451061007342, 'losses.avg': 3.047703873062134, 'top1.avg': 23.4}\n",
            "client training # 4 {'epoch': 11, 'batch_time.avg': 0.04327382920663568, 'data_time.avg': 0.014306605616702309, 'losses.avg': 3.015052562713623, 'top1.avg': 23.85}\n",
            "server evaluation: {'batch_time.avg': 0.025338713126846508, 'losses.avg': 2.794077802658081, 'top1.avg': 28.52}\n",
            "client training # 0 {'epoch': 12, 'batch_time.avg': 0.04341806942903543, 'data_time.avg': 0.014628820781466326, 'losses.avg': 2.9229970985412597, 'top1.avg': 26.2}\n",
            "client training # 1 {'epoch': 12, 'batch_time.avg': 0.043052380598044095, 'data_time.avg': 0.014482223534885841, 'losses.avg': 2.93019924621582, 'top1.avg': 25.36}\n",
            "client training # 2 {'epoch': 12, 'batch_time.avg': 0.04350368886054316, 'data_time.avg': 0.014554723908629599, 'losses.avg': 2.922286738204956, 'top1.avg': 25.53}\n",
            "client training # 3 {'epoch': 12, 'batch_time.avg': 0.04376020009004617, 'data_time.avg': 0.013503811027430281, 'losses.avg': 2.9499533866882324, 'top1.avg': 25.24}\n",
            "client training # 4 {'epoch': 12, 'batch_time.avg': 0.043805780290048335, 'data_time.avg': 0.015202549439442308, 'losses.avg': 2.930168157958984, 'top1.avg': 25.18}\n",
            "server evaluation: {'batch_time.avg': 0.025069698502745808, 'losses.avg': 2.7455411209106444, 'top1.avg': 29.79}\n",
            "client training # 0 {'epoch': 13, 'batch_time.avg': 0.0440799918355821, 'data_time.avg': 0.013672089274925522, 'losses.avg': 2.8398975048065185, 'top1.avg': 27.82}\n",
            "client training # 1 {'epoch': 13, 'batch_time.avg': 0.04280074940452093, 'data_time.avg': 0.014009348953826517, 'losses.avg': 2.8404961502075197, 'top1.avg': 27.35}\n",
            "client training # 2 {'epoch': 13, 'batch_time.avg': 0.043141280548482, 'data_time.avg': 0.013927535165714312, 'losses.avg': 2.8457175144195554, 'top1.avg': 27.77}\n",
            "client training # 3 {'epoch': 13, 'batch_time.avg': 0.04244195962254005, 'data_time.avg': 0.015245081503180009, 'losses.avg': 2.8548585536956788, 'top1.avg': 28.04}\n",
            "client training # 4 {'epoch': 13, 'batch_time.avg': 0.04344524914705301, 'data_time.avg': 0.014758137207996996, 'losses.avg': 2.8476267333984375, 'top1.avg': 27.11}\n",
            "server evaluation: {'batch_time.avg': 0.024627585954303984, 'losses.avg': 2.7284630893707273, 'top1.avg': 29.96}\n",
            "client training # 0 {'epoch': 14, 'batch_time.avg': 0.04317866699605048, 'data_time.avg': 0.012672119502779803, 'losses.avg': 2.780256539916992, 'top1.avg': 28.56}\n",
            "client training # 1 {'epoch': 14, 'batch_time.avg': 0.043062714081776296, 'data_time.avg': 0.014653872840012176, 'losses.avg': 2.762369633102417, 'top1.avg': 28.66}\n",
            "client training # 2 {'epoch': 14, 'batch_time.avg': 0.044381307650216015, 'data_time.avg': 0.014616136309466784, 'losses.avg': 2.794349817276001, 'top1.avg': 28.11}\n",
            "client training # 3 {'epoch': 14, 'batch_time.avg': 0.04311861871164056, 'data_time.avg': 0.014669484730008283, 'losses.avg': 2.7754371265411377, 'top1.avg': 28.59}\n",
            "client training # 4 {'epoch': 14, 'batch_time.avg': 0.04357208481317834, 'data_time.avg': 0.01498192171507244, 'losses.avg': 2.7713607173919677, 'top1.avg': 28.52}\n",
            "server evaluation: {'batch_time.avg': 0.024542123456544513, 'losses.avg': 2.6416296768188476, 'top1.avg': 31.83}\n",
            "client training # 0 {'epoch': 15, 'batch_time.avg': 0.04324323919754994, 'data_time.avg': 0.01423196852961673, 'losses.avg': 2.6921510509490965, 'top1.avg': 31.07}\n",
            "client training # 1 {'epoch': 15, 'batch_time.avg': 0.04287606553186344, 'data_time.avg': 0.014614859713783747, 'losses.avg': 2.6920809776306154, 'top1.avg': 29.79}\n",
            "client training # 2 {'epoch': 15, 'batch_time.avg': 0.04417549809323081, 'data_time.avg': 0.014288721205312995, 'losses.avg': 2.7142336921691896, 'top1.avg': 30.4}\n",
            "client training # 3 {'epoch': 15, 'batch_time.avg': 0.04392172415045243, 'data_time.avg': 0.01529500152491316, 'losses.avg': 2.6953342777252196, 'top1.avg': 29.86}\n",
            "client training # 4 {'epoch': 15, 'batch_time.avg': 0.043847065937669974, 'data_time.avg': 0.015224776690519309, 'losses.avg': 2.709157344818115, 'top1.avg': 29.85}\n",
            "server evaluation: {'batch_time.avg': 0.024712303016759172, 'losses.avg': 2.55040421295166, 'top1.avg': 33.66}\n",
            "client training # 0 {'epoch': 16, 'batch_time.avg': 0.04477788526800614, 'data_time.avg': 0.015072330643859091, 'losses.avg': 2.626154280471802, 'top1.avg': 31.84}\n",
            "client training # 1 {'epoch': 16, 'batch_time.avg': 0.04335085349746897, 'data_time.avg': 0.014507616622538506, 'losses.avg': 2.623928518676758, 'top1.avg': 31.46}\n",
            "client training # 2 {'epoch': 16, 'batch_time.avg': 0.042768671542783326, 'data_time.avg': 0.014919703519797023, 'losses.avg': 2.6258812713623048, 'top1.avg': 31.09}\n",
            "client training # 3 {'epoch': 16, 'batch_time.avg': 0.043565122387077236, 'data_time.avg': 0.014293839659871934, 'losses.avg': 2.632933799743652, 'top1.avg': 31.59}\n",
            "client training # 4 {'epoch': 16, 'batch_time.avg': 0.043624135512339915, 'data_time.avg': 0.01457333262962631, 'losses.avg': 2.6354186340332033, 'top1.avg': 31.03}\n",
            "server evaluation: {'batch_time.avg': 0.02468915227093274, 'losses.avg': 2.5003405559539793, 'top1.avg': 34.68}\n",
            "client training # 0 {'epoch': 17, 'batch_time.avg': 0.043378075466880314, 'data_time.avg': 0.013421692425691628, 'losses.avg': 2.5432223350524903, 'top1.avg': 33.67}\n",
            "client training # 1 {'epoch': 17, 'batch_time.avg': 0.04357962065105197, 'data_time.avg': 0.014690652678284464, 'losses.avg': 2.566281800079346, 'top1.avg': 32.48}\n",
            "client training # 2 {'epoch': 17, 'batch_time.avg': 0.04319838934306857, 'data_time.avg': 0.01318552826024309, 'losses.avg': 2.5493826873779297, 'top1.avg': 34.1}\n",
            "client training # 3 {'epoch': 17, 'batch_time.avg': 0.04352414155308204, 'data_time.avg': 0.015160584751563736, 'losses.avg': 2.573047640991211, 'top1.avg': 32.97}\n",
            "client training # 4 {'epoch': 17, 'batch_time.avg': 0.0440848024585579, 'data_time.avg': 0.015201143071621279, 'losses.avg': 2.558819813156128, 'top1.avg': 32.67}\n",
            "server evaluation: {'batch_time.avg': 0.02460179449636725, 'losses.avg': 2.4287274951934816, 'top1.avg': 36.4}\n",
            "client training # 0 {'epoch': 18, 'batch_time.avg': 0.043600350995607016, 'data_time.avg': 0.014141387577298322, 'losses.avg': 2.484857448196411, 'top1.avg': 34.49}\n",
            "client training # 1 {'epoch': 18, 'batch_time.avg': 0.04350151894967767, 'data_time.avg': 0.01374013212662709, 'losses.avg': 2.4905203140258787, 'top1.avg': 33.76}\n",
            "client training # 2 {'epoch': 18, 'batch_time.avg': 0.04348256618161745, 'data_time.avg': 0.013232520863979677, 'losses.avg': 2.49186480178833, 'top1.avg': 34.18}\n",
            "client training # 3 {'epoch': 18, 'batch_time.avg': 0.04357685620271707, 'data_time.avg': 0.015186807777308211, 'losses.avg': 2.4796869899749754, 'top1.avg': 34.4}\n",
            "client training # 4 {'epoch': 18, 'batch_time.avg': 0.043486006652252586, 'data_time.avg': 0.012519338462926164, 'losses.avg': 2.4965449111938476, 'top1.avg': 34.26}\n",
            "server evaluation: {'batch_time.avg': 0.024778236316729197, 'losses.avg': 2.336195864868164, 'top1.avg': 38.24}\n",
            "client training # 0 {'epoch': 19, 'batch_time.avg': 0.04326078257983244, 'data_time.avg': 0.013559809213952173, 'losses.avg': 2.422271564483643, 'top1.avg': 35.44}\n",
            "client training # 1 {'epoch': 19, 'batch_time.avg': 0.042960212200502806, 'data_time.avg': 0.013826982884467402, 'losses.avg': 2.452429754638672, 'top1.avg': 35.11}\n",
            "client training # 2 {'epoch': 19, 'batch_time.avg': 0.04415331912946097, 'data_time.avg': 0.014340768886517875, 'losses.avg': 2.433674857711792, 'top1.avg': 35.94}\n",
            "client training # 3 {'epoch': 19, 'batch_time.avg': 0.043109039717082735, 'data_time.avg': 0.014748072322410873, 'losses.avg': 2.4542896423339844, 'top1.avg': 34.85}\n",
            "client training # 4 {'epoch': 19, 'batch_time.avg': 0.04417542868022677, 'data_time.avg': 0.015116851541060435, 'losses.avg': 2.411401148605347, 'top1.avg': 35.97}\n",
            "server evaluation: {'batch_time.avg': 0.024549798120426226, 'losses.avg': 2.2511629173278807, 'top1.avg': 40.45}\n",
            "client training # 0 {'epoch': 20, 'batch_time.avg': 0.04249085052103936, 'data_time.avg': 0.012853245191936251, 'losses.avg': 2.3528479888916016, 'top1.avg': 37.1}\n",
            "client training # 1 {'epoch': 20, 'batch_time.avg': 0.04416436786893048, 'data_time.avg': 0.015697349475908885, 'losses.avg': 2.3830942485809326, 'top1.avg': 36.53}\n",
            "client training # 2 {'epoch': 20, 'batch_time.avg': 0.04312924191921572, 'data_time.avg': 0.014433543893355357, 'losses.avg': 2.3809295875549314, 'top1.avg': 36.83}\n",
            "client training # 3 {'epoch': 20, 'batch_time.avg': 0.04280609420583218, 'data_time.avg': 0.013148905355719071, 'losses.avg': 2.3899899826049804, 'top1.avg': 36.64}\n",
            "client training # 4 {'epoch': 20, 'batch_time.avg': 0.04404237904126131, 'data_time.avg': 0.014746008040029792, 'losses.avg': 2.3836647621154787, 'top1.avg': 36.6}\n",
            "server evaluation: {'batch_time.avg': 0.024872791918018198, 'losses.avg': 2.236570462036133, 'top1.avg': 40.24}\n",
            "client training # 0 {'epoch': 21, 'batch_time.avg': 0.04428583157213428, 'data_time.avg': 0.014804486986957018, 'losses.avg': 2.302616736602783, 'top1.avg': 39.02}\n",
            "client training # 1 {'epoch': 21, 'batch_time.avg': 0.04499625556076629, 'data_time.avg': 0.01456056063688254, 'losses.avg': 2.32209621925354, 'top1.avg': 38.0}\n",
            "client training # 2 {'epoch': 21, 'batch_time.avg': 0.04394328141514259, 'data_time.avg': 0.015380461004715932, 'losses.avg': 2.3326475646972655, 'top1.avg': 38.01}\n",
            "client training # 3 {'epoch': 21, 'batch_time.avg': 0.042905128454860254, 'data_time.avg': 0.01427383966083768, 'losses.avg': 2.322412755584717, 'top1.avg': 38.07}\n",
            "client training # 4 {'epoch': 21, 'batch_time.avg': 0.043706405011913446, 'data_time.avg': 0.014375104179865197, 'losses.avg': 2.307888009262085, 'top1.avg': 37.54}\n",
            "server evaluation: {'batch_time.avg': 0.024761610393282733, 'losses.avg': 2.170874870300293, 'top1.avg': 41.55}\n",
            "client training # 0 {'epoch': 22, 'batch_time.avg': 0.04330859003187735, 'data_time.avg': 0.013972104350222817, 'losses.avg': 2.254775700759888, 'top1.avg': 39.35}\n",
            "client training # 1 {'epoch': 22, 'batch_time.avg': 0.04322629035273685, 'data_time.avg': 0.015791093246846258, 'losses.avg': 2.279068814086914, 'top1.avg': 38.82}\n",
            "client training # 2 {'epoch': 22, 'batch_time.avg': 0.04305166232435009, 'data_time.avg': 0.0142549532878248, 'losses.avg': 2.27995640335083, 'top1.avg': 39.02}\n",
            "client training # 3 {'epoch': 22, 'batch_time.avg': 0.04336922681784328, 'data_time.avg': 0.013311343857004672, 'losses.avg': 2.277047245025635, 'top1.avg': 39.27}\n",
            "client training # 4 {'epoch': 22, 'batch_time.avg': 0.04451521137092687, 'data_time.avg': 0.014955140367338929, 'losses.avg': 2.2742625869750976, 'top1.avg': 39.22}\n",
            "server evaluation: {'batch_time.avg': 0.024255677114559126, 'losses.avg': 2.1159288234710694, 'top1.avg': 43.14}\n",
            "client training # 0 {'epoch': 23, 'batch_time.avg': 0.04286985759493671, 'data_time.avg': 0.014209406285346308, 'losses.avg': 2.2257184894561766, 'top1.avg': 40.71}\n",
            "client training # 1 {'epoch': 23, 'batch_time.avg': 0.04302571393266509, 'data_time.avg': 0.013954382908495166, 'losses.avg': 2.2193626766204835, 'top1.avg': 39.96}\n",
            "client training # 2 {'epoch': 23, 'batch_time.avg': 0.04292123528975475, 'data_time.avg': 0.013926005061668686, 'losses.avg': 2.2003314037323, 'top1.avg': 40.69}\n",
            "client training # 3 {'epoch': 23, 'batch_time.avg': 0.04346876808359653, 'data_time.avg': 0.013242051571230345, 'losses.avg': 2.216686156654358, 'top1.avg': 40.33}\n",
            "client training # 4 {'epoch': 23, 'batch_time.avg': 0.042313693444940105, 'data_time.avg': 0.015218426909627793, 'losses.avg': 2.2224624938964843, 'top1.avg': 40.13}\n",
            "server evaluation: {'batch_time.avg': 0.023878363114369066, 'losses.avg': 2.168661459159851, 'top1.avg': 42.83}\n",
            "client training # 0 {'epoch': 24, 'batch_time.avg': 0.042850494384765625, 'data_time.avg': 0.013334648518622675, 'losses.avg': 2.1652953998565674, 'top1.avg': 41.79}\n",
            "client training # 1 {'epoch': 24, 'batch_time.avg': 0.04304304907593546, 'data_time.avg': 0.013184936740730383, 'losses.avg': 2.1703437267303465, 'top1.avg': 40.8}\n",
            "client training # 2 {'epoch': 24, 'batch_time.avg': 0.04368298566794094, 'data_time.avg': 0.014069391202323044, 'losses.avg': 2.1846173259735107, 'top1.avg': 40.49}\n",
            "client training # 3 {'epoch': 24, 'batch_time.avg': 0.043196916580200195, 'data_time.avg': 0.013806134839601155, 'losses.avg': 2.1939885292053223, 'top1.avg': 40.57}\n",
            "client training # 4 {'epoch': 24, 'batch_time.avg': 0.043996822984912726, 'data_time.avg': 0.014166294773922691, 'losses.avg': 2.1782028480529787, 'top1.avg': 40.92}\n",
            "server evaluation: {'batch_time.avg': 0.02459715589692321, 'losses.avg': 1.9944832918167115, 'top1.avg': 45.64}\n",
            "client training # 0 {'epoch': 25, 'batch_time.avg': 0.04313949391811709, 'data_time.avg': 0.012584749656387522, 'losses.avg': 2.132478108215332, 'top1.avg': 42.35}\n",
            "client training # 1 {'epoch': 25, 'batch_time.avg': 0.04320882845528518, 'data_time.avg': 0.014578580856323242, 'losses.avg': 2.156663611984253, 'top1.avg': 41.55}\n",
            "client training # 2 {'epoch': 25, 'batch_time.avg': 0.04316540609432172, 'data_time.avg': 0.013821366467053377, 'losses.avg': 2.1300655055999758, 'top1.avg': 42.36}\n",
            "client training # 3 {'epoch': 25, 'batch_time.avg': 0.04355691354486007, 'data_time.avg': 0.013411211062081253, 'losses.avg': 2.1284488372802732, 'top1.avg': 42.77}\n",
            "client training # 4 {'epoch': 25, 'batch_time.avg': 0.04361518425277517, 'data_time.avg': 0.015054394927205918, 'losses.avg': 2.1250966705322267, 'top1.avg': 42.15}\n",
            "server evaluation: {'batch_time.avg': 0.024715372278720518, 'losses.avg': 1.9911052484512328, 'top1.avg': 46.15}\n",
            "client training # 0 {'epoch': 26, 'batch_time.avg': 0.043790732757954656, 'data_time.avg': 0.016565893269792388, 'losses.avg': 2.090799076080322, 'top1.avg': 43.03}\n",
            "client training # 1 {'epoch': 26, 'batch_time.avg': 0.04442036906375161, 'data_time.avg': 0.015052810499939737, 'losses.avg': 2.092675592803955, 'top1.avg': 43.07}\n",
            "client training # 2 {'epoch': 26, 'batch_time.avg': 0.0437165483643737, 'data_time.avg': 0.014672372914567779, 'losses.avg': 2.100759445953369, 'top1.avg': 43.29}\n",
            "client training # 3 {'epoch': 26, 'batch_time.avg': 0.04351422756533079, 'data_time.avg': 0.014132297491725487, 'losses.avg': 2.0872392959594728, 'top1.avg': 43.5}\n",
            "client training # 4 {'epoch': 26, 'batch_time.avg': 0.04272199280654328, 'data_time.avg': 0.01366732090334349, 'losses.avg': 2.0763523727416993, 'top1.avg': 43.4}\n",
            "server evaluation: {'batch_time.avg': 0.024353824084318135, 'losses.avg': 1.9596341960906982, 'top1.avg': 46.6}\n",
            "client training # 0 {'epoch': 27, 'batch_time.avg': 0.04336597647848008, 'data_time.avg': 0.012933308565163915, 'losses.avg': 2.0602773754119874, 'top1.avg': 43.71}\n",
            "client training # 1 {'epoch': 27, 'batch_time.avg': 0.04362623902815807, 'data_time.avg': 0.015920940833755687, 'losses.avg': 2.0826248329162595, 'top1.avg': 43.0}\n",
            "client training # 2 {'epoch': 27, 'batch_time.avg': 0.04332511334479609, 'data_time.avg': 0.013052412226230284, 'losses.avg': 2.05586544342041, 'top1.avg': 43.84}\n",
            "client training # 3 {'epoch': 27, 'batch_time.avg': 0.04303357570986204, 'data_time.avg': 0.014754847635196734, 'losses.avg': 2.0744355058670045, 'top1.avg': 43.41}\n",
            "client training # 4 {'epoch': 27, 'batch_time.avg': 0.04407594475565078, 'data_time.avg': 0.014835101139696338, 'losses.avg': 2.0520550983428953, 'top1.avg': 44.61}\n",
            "server evaluation: {'batch_time.avg': 0.02500744710994672, 'losses.avg': 1.889730217552185, 'top1.avg': 48.15}\n",
            "client training # 0 {'epoch': 28, 'batch_time.avg': 0.044101081316984155, 'data_time.avg': 0.014538185505927363, 'losses.avg': 2.017351776504517, 'top1.avg': 44.8}\n",
            "client training # 1 {'epoch': 28, 'batch_time.avg': 0.043724207938471926, 'data_time.avg': 0.015090637569186053, 'losses.avg': 2.0416160720825194, 'top1.avg': 43.71}\n",
            "client training # 2 {'epoch': 28, 'batch_time.avg': 0.04385816598240333, 'data_time.avg': 0.015078324305860303, 'losses.avg': 2.0268266609191894, 'top1.avg': 44.46}\n",
            "client training # 3 {'epoch': 28, 'batch_time.avg': 0.043515190293517296, 'data_time.avg': 0.014849810660639895, 'losses.avg': 2.040911156463623, 'top1.avg': 44.51}\n",
            "client training # 4 {'epoch': 28, 'batch_time.avg': 0.04384621487388128, 'data_time.avg': 0.015392366843887522, 'losses.avg': 2.0168560428619386, 'top1.avg': 44.6}\n",
            "server evaluation: {'batch_time.avg': 0.024534273751174347, 'losses.avg': 1.9537804170608521, 'top1.avg': 47.72}\n",
            "client training # 0 {'epoch': 29, 'batch_time.avg': 0.043448427055455464, 'data_time.avg': 0.013586783710914322, 'losses.avg': 1.9834498844146728, 'top1.avg': 45.93}\n",
            "client training # 1 {'epoch': 29, 'batch_time.avg': 0.04346459123152721, 'data_time.avg': 0.013550375081315826, 'losses.avg': 1.9957283412933349, 'top1.avg': 45.04}\n",
            "client training # 2 {'epoch': 29, 'batch_time.avg': 0.04380170906646342, 'data_time.avg': 0.015468890153909032, 'losses.avg': 1.98408815574646, 'top1.avg': 46.29}\n",
            "client training # 3 {'epoch': 29, 'batch_time.avg': 0.04378666757028314, 'data_time.avg': 0.015240693394141861, 'losses.avg': 1.9904366199493408, 'top1.avg': 45.65}\n",
            "client training # 4 {'epoch': 29, 'batch_time.avg': 0.043452133106279975, 'data_time.avg': 0.01384058783325968, 'losses.avg': 1.985872504425049, 'top1.avg': 45.6}\n",
            "server evaluation: {'batch_time.avg': 0.024331623994851413, 'losses.avg': 1.853412843322754, 'top1.avg': 49.33}\n",
            "client training # 0 {'epoch': 30, 'batch_time.avg': 0.04322306415702723, 'data_time.avg': 0.01300719116307512, 'losses.avg': 1.9604337284088136, 'top1.avg': 46.34}\n",
            "client training # 1 {'epoch': 30, 'batch_time.avg': 0.04277252245552932, 'data_time.avg': 0.013621043555344207, 'losses.avg': 1.963039912033081, 'top1.avg': 45.93}\n",
            "client training # 2 {'epoch': 30, 'batch_time.avg': 0.0428731109522566, 'data_time.avg': 0.01490287539325183, 'losses.avg': 1.9482145698547364, 'top1.avg': 46.52}\n",
            "client training # 3 {'epoch': 30, 'batch_time.avg': 0.042814804028861134, 'data_time.avg': 0.01327452176733862, 'losses.avg': 1.9783686923980712, 'top1.avg': 46.14}\n",
            "client training # 4 {'epoch': 30, 'batch_time.avg': 0.04336478740354128, 'data_time.avg': 0.014899145198773734, 'losses.avg': 1.973132564163208, 'top1.avg': 45.7}\n",
            "server evaluation: {'batch_time.avg': 0.026663239998153492, 'losses.avg': 1.8609682794570923, 'top1.avg': 49.46}\n",
            "client training # 0 {'epoch': 31, 'batch_time.avg': 0.043514550486697424, 'data_time.avg': 0.01400254647943038, 'losses.avg': 1.9122768230438232, 'top1.avg': 46.91}\n",
            "client training # 1 {'epoch': 31, 'batch_time.avg': 0.04405376579188093, 'data_time.avg': 0.014069237286531472, 'losses.avg': 1.9453422889709473, 'top1.avg': 46.36}\n",
            "client training # 2 {'epoch': 31, 'batch_time.avg': 0.04440113562571851, 'data_time.avg': 0.014919670322273352, 'losses.avg': 1.9375166110992432, 'top1.avg': 46.61}\n",
            "client training # 3 {'epoch': 31, 'batch_time.avg': 0.043422122544880155, 'data_time.avg': 0.015104698229439651, 'losses.avg': 1.933719388961792, 'top1.avg': 46.84}\n",
            "client training # 4 {'epoch': 31, 'batch_time.avg': 0.04527644266056109, 'data_time.avg': 0.015592101254040681, 'losses.avg': 1.919214695739746, 'top1.avg': 46.76}\n",
            "server evaluation: {'batch_time.avg': 0.024615148954753634, 'losses.avg': 1.90373665599823, 'top1.avg': 49.2}\n",
            "client training # 0 {'epoch': 32, 'batch_time.avg': 0.04627651806119122, 'data_time.avg': 0.013563497157036504, 'losses.avg': 1.9227847423553466, 'top1.avg': 47.05}\n",
            "client training # 1 {'epoch': 32, 'batch_time.avg': 0.045654185210602195, 'data_time.avg': 0.015895686572111104, 'losses.avg': 1.9015975536346434, 'top1.avg': 47.54}\n",
            "client training # 2 {'epoch': 32, 'batch_time.avg': 0.04713796663887893, 'data_time.avg': 0.015829216075848928, 'losses.avg': 1.9077537284851074, 'top1.avg': 47.59}\n",
            "client training # 3 {'epoch': 32, 'batch_time.avg': 0.04726595214650601, 'data_time.avg': 0.015778203553791288, 'losses.avg': 1.9355789169311524, 'top1.avg': 46.92}\n",
            "client training # 4 {'epoch': 32, 'batch_time.avg': 0.046908764899531497, 'data_time.avg': 0.01560530783254889, 'losses.avg': 1.8991825368881226, 'top1.avg': 47.04}\n",
            "server evaluation: {'batch_time.avg': 0.026027945023548753, 'losses.avg': 1.8751253917694093, 'top1.avg': 49.33}\n",
            "client training # 0 {'epoch': 33, 'batch_time.avg': 0.04748003694075573, 'data_time.avg': 0.016723590561106234, 'losses.avg': 1.8757518939971924, 'top1.avg': 48.11}\n",
            "client training # 1 {'epoch': 33, 'batch_time.avg': 0.04600353180607663, 'data_time.avg': 0.01500068736981742, 'losses.avg': 1.8844622200012207, 'top1.avg': 47.71}\n",
            "client training # 2 {'epoch': 33, 'batch_time.avg': 0.04636375813544551, 'data_time.avg': 0.014653414110594157, 'losses.avg': 1.881256335258484, 'top1.avg': 47.99}\n",
            "client training # 3 {'epoch': 33, 'batch_time.avg': 0.04670002188863633, 'data_time.avg': 0.014964662020719504, 'losses.avg': 1.8678852035522462, 'top1.avg': 48.12}\n",
            "client training # 4 {'epoch': 33, 'batch_time.avg': 0.04619612874864023, 'data_time.avg': 0.01536252528806276, 'losses.avg': 1.8818944231033325, 'top1.avg': 48.23}\n",
            "server evaluation: {'batch_time.avg': 0.02569571326050577, 'losses.avg': 1.8153478353500365, 'top1.avg': 50.16}\n",
            "client training # 0 {'epoch': 34, 'batch_time.avg': 0.043763652632508095, 'data_time.avg': 0.014635200741924818, 'losses.avg': 1.8637209228515625, 'top1.avg': 48.51}\n",
            "client training # 1 {'epoch': 34, 'batch_time.avg': 0.04386849946613553, 'data_time.avg': 0.015271929245960863, 'losses.avg': 1.8501046314239502, 'top1.avg': 48.82}\n",
            "client training # 2 {'epoch': 34, 'batch_time.avg': 0.04458985449392584, 'data_time.avg': 0.014224487014963656, 'losses.avg': 1.8598685241699218, 'top1.avg': 48.4}\n",
            "client training # 3 {'epoch': 34, 'batch_time.avg': 0.0437686956381496, 'data_time.avg': 0.014221079741852194, 'losses.avg': 1.8700324516296387, 'top1.avg': 48.77}\n",
            "client training # 4 {'epoch': 34, 'batch_time.avg': 0.04351118244702303, 'data_time.avg': 0.013757041738003115, 'losses.avg': 1.859511926651001, 'top1.avg': 48.99}\n",
            "server evaluation: {'batch_time.avg': 0.02440548244910904, 'losses.avg': 1.8029599252700805, 'top1.avg': 51.58}\n",
            "client training # 0 {'epoch': 35, 'batch_time.avg': 0.04346475420118887, 'data_time.avg': 0.013923795917366125, 'losses.avg': 1.8228935306549072, 'top1.avg': 49.31}\n",
            "client training # 1 {'epoch': 35, 'batch_time.avg': 0.04414350171632404, 'data_time.avg': 0.013914404036123542, 'losses.avg': 1.8337199802398683, 'top1.avg': 49.11}\n",
            "client training # 2 {'epoch': 35, 'batch_time.avg': 0.043501362015929405, 'data_time.avg': 0.015008600452278234, 'losses.avg': 1.8460666748046874, 'top1.avg': 48.79}\n",
            "client training # 3 {'epoch': 35, 'batch_time.avg': 0.04325838934017133, 'data_time.avg': 0.01500345181815232, 'losses.avg': 1.8441682222366333, 'top1.avg': 48.66}\n",
            "client training # 4 {'epoch': 35, 'batch_time.avg': 0.044061763377129276, 'data_time.avg': 0.013405836081203026, 'losses.avg': 1.8344117475509643, 'top1.avg': 48.52}\n",
            "server evaluation: {'batch_time.avg': 0.024697014048129698, 'losses.avg': 1.7265079860687256, 'top1.avg': 52.91}\n",
            "client training # 0 {'epoch': 36, 'batch_time.avg': 0.04427618618252911, 'data_time.avg': 0.01449994799457019, 'losses.avg': 1.8081607236862183, 'top1.avg': 49.42}\n",
            "client training # 1 {'epoch': 36, 'batch_time.avg': 0.04443077497844455, 'data_time.avg': 0.015686367131486724, 'losses.avg': 1.8260803518295288, 'top1.avg': 49.49}\n",
            "client training # 2 {'epoch': 36, 'batch_time.avg': 0.04344652272477935, 'data_time.avg': 0.01571469065509265, 'losses.avg': 1.8161452674865723, 'top1.avg': 49.11}\n",
            "client training # 3 {'epoch': 36, 'batch_time.avg': 0.0434501804882967, 'data_time.avg': 0.01339851451825492, 'losses.avg': 1.7993553047180175, 'top1.avg': 49.93}\n",
            "client training # 4 {'epoch': 36, 'batch_time.avg': 0.043641111518763286, 'data_time.avg': 0.01510670517064348, 'losses.avg': 1.798161280441284, 'top1.avg': 49.91}\n",
            "server evaluation: {'batch_time.avg': 0.02521703514871718, 'losses.avg': 1.8236020191192628, 'top1.avg': 50.78}\n",
            "client training # 0 {'epoch': 37, 'batch_time.avg': 0.044772727580010135, 'data_time.avg': 0.01603279536283469, 'losses.avg': 1.7793579071044923, 'top1.avg': 50.63}\n",
            "client training # 1 {'epoch': 37, 'batch_time.avg': 0.04343932188009914, 'data_time.avg': 0.015587197074407264, 'losses.avg': 1.8014913080215453, 'top1.avg': 50.13}\n",
            "client training # 2 {'epoch': 37, 'batch_time.avg': 0.04329152952266645, 'data_time.avg': 0.01456230199789699, 'losses.avg': 1.780458539199829, 'top1.avg': 50.46}\n",
            "client training # 3 {'epoch': 37, 'batch_time.avg': 0.042922858950458, 'data_time.avg': 0.014478182490867905, 'losses.avg': 1.780317476272583, 'top1.avg': 50.28}\n",
            "client training # 4 {'epoch': 37, 'batch_time.avg': 0.04440263253224047, 'data_time.avg': 0.015419781962527504, 'losses.avg': 1.7817437088012695, 'top1.avg': 50.45}\n",
            "server evaluation: {'batch_time.avg': 0.024789282038242003, 'losses.avg': 1.7172248302459716, 'top1.avg': 52.76}\n",
            "client training # 0 {'epoch': 38, 'batch_time.avg': 0.04394416869441165, 'data_time.avg': 0.013901849336261991, 'losses.avg': 1.7450612155914307, 'top1.avg': 50.92}\n",
            "client training # 1 {'epoch': 38, 'batch_time.avg': 0.04308651972420608, 'data_time.avg': 0.014793257170085665, 'losses.avg': 1.7590402284622193, 'top1.avg': 50.74}\n",
            "client training # 2 {'epoch': 38, 'batch_time.avg': 0.04331308376939991, 'data_time.avg': 0.014909517915943001, 'losses.avg': 1.7585568717956543, 'top1.avg': 50.47}\n",
            "client training # 3 {'epoch': 38, 'batch_time.avg': 0.043016210387024696, 'data_time.avg': 0.013923083679585517, 'losses.avg': 1.772082805633545, 'top1.avg': 51.35}\n",
            "client training # 4 {'epoch': 38, 'batch_time.avg': 0.04375121261500105, 'data_time.avg': 0.013292246227022967, 'losses.avg': 1.7647455055236816, 'top1.avg': 50.92}\n",
            "server evaluation: {'batch_time.avg': 0.024354847171638584, 'losses.avg': 1.6953871829986573, 'top1.avg': 53.77}\n",
            "client training # 0 {'epoch': 39, 'batch_time.avg': 0.04322062564801566, 'data_time.avg': 0.013740310186072241, 'losses.avg': 1.7629970520019531, 'top1.avg': 51.01}\n",
            "client training # 1 {'epoch': 39, 'batch_time.avg': 0.04827847360055658, 'data_time.avg': 0.01746059369437302, 'losses.avg': 1.7410168886184691, 'top1.avg': 51.61}\n",
            "client training # 2 {'epoch': 39, 'batch_time.avg': 0.044409932969491694, 'data_time.avg': 0.014945715288572673, 'losses.avg': 1.7437194549560546, 'top1.avg': 51.26}\n",
            "client training # 3 {'epoch': 39, 'batch_time.avg': 0.043615956849689726, 'data_time.avg': 0.014751446397998665, 'losses.avg': 1.761185583114624, 'top1.avg': 50.75}\n",
            "client training # 4 {'epoch': 39, 'batch_time.avg': 0.04297083842603466, 'data_time.avg': 0.014533788343019124, 'losses.avg': 1.7701272956848144, 'top1.avg': 50.91}\n",
            "server evaluation: {'batch_time.avg': 0.024684688712977156, 'losses.avg': 1.756590888595581, 'top1.avg': 53.17}\n",
            "client training # 0 {'epoch': 40, 'batch_time.avg': 0.04355919813808007, 'data_time.avg': 0.012680983241600326, 'losses.avg': 1.7252957313537598, 'top1.avg': 51.61}\n",
            "client training # 1 {'epoch': 40, 'batch_time.avg': 0.043559521059446694, 'data_time.avg': 0.014414699771736242, 'losses.avg': 1.7376744689941406, 'top1.avg': 51.17}\n",
            "client training # 2 {'epoch': 40, 'batch_time.avg': 0.04418613035467606, 'data_time.avg': 0.013840871521189242, 'losses.avg': 1.7318702407836915, 'top1.avg': 51.72}\n",
            "client training # 3 {'epoch': 40, 'batch_time.avg': 0.042557381376435485, 'data_time.avg': 0.01436174066760872, 'losses.avg': 1.7440697296142578, 'top1.avg': 51.0}\n",
            "client training # 4 {'epoch': 40, 'batch_time.avg': 0.0435471444190303, 'data_time.avg': 0.013585570492321931, 'losses.avg': 1.6987094110488892, 'top1.avg': 52.51}\n",
            "server evaluation: {'batch_time.avg': 0.02460697029210344, 'losses.avg': 1.6421273275375365, 'top1.avg': 54.28}\n",
            "client training # 0 {'epoch': 41, 'batch_time.avg': 0.044767114180552806, 'data_time.avg': 0.01492822622951073, 'losses.avg': 1.6858352062225341, 'top1.avg': 52.8}\n",
            "client training # 1 {'epoch': 41, 'batch_time.avg': 0.04404291321959677, 'data_time.avg': 0.015454754044737997, 'losses.avg': 1.7389548946380615, 'top1.avg': 51.12}\n",
            "client training # 2 {'epoch': 41, 'batch_time.avg': 0.04400611829154099, 'data_time.avg': 0.013544954831087136, 'losses.avg': 1.710630948638916, 'top1.avg': 52.09}\n",
            "client training # 3 {'epoch': 41, 'batch_time.avg': 0.04348191430297079, 'data_time.avg': 0.01392195194582396, 'losses.avg': 1.7024992593765258, 'top1.avg': 52.81}\n",
            "client training # 4 {'epoch': 41, 'batch_time.avg': 0.04331484927406794, 'data_time.avg': 0.016212587115130846, 'losses.avg': 1.7093826652526856, 'top1.avg': 51.77}\n",
            "server evaluation: {'batch_time.avg': 0.024336829970154582, 'losses.avg': 1.6679722190856934, 'top1.avg': 54.14}\n",
            "client training # 0 {'epoch': 42, 'batch_time.avg': 0.0429920576795747, 'data_time.avg': 0.014117584952825233, 'losses.avg': 1.6999292625427247, 'top1.avg': 52.77}\n",
            "client training # 1 {'epoch': 42, 'batch_time.avg': 0.04348175736922252, 'data_time.avg': 0.013401022440270532, 'losses.avg': 1.710555415725708, 'top1.avg': 52.05}\n",
            "client training # 2 {'epoch': 42, 'batch_time.avg': 0.04356524612330183, 'data_time.avg': 0.014489919324464437, 'losses.avg': 1.6957531969070434, 'top1.avg': 51.76}\n",
            "client training # 3 {'epoch': 42, 'batch_time.avg': 0.043346281293072275, 'data_time.avg': 0.01389683952814416, 'losses.avg': 1.6748601476669311, 'top1.avg': 53.3}\n",
            "client training # 4 {'epoch': 42, 'batch_time.avg': 0.04371274272097817, 'data_time.avg': 0.013711048077933396, 'losses.avg': 1.6867508026123046, 'top1.avg': 52.66}\n",
            "server evaluation: {'batch_time.avg': 0.024875393396691432, 'losses.avg': 1.7719057455062865, 'top1.avg': 52.81}\n",
            "client training # 0 {'epoch': 43, 'batch_time.avg': 0.04383046113992039, 'data_time.avg': 0.015261212481728082, 'losses.avg': 1.6914959999084473, 'top1.avg': 52.63}\n",
            "client training # 1 {'epoch': 43, 'batch_time.avg': 0.043351961087576954, 'data_time.avg': 0.014154573030109648, 'losses.avg': 1.6605249504089354, 'top1.avg': 52.8}\n",
            "client training # 2 {'epoch': 43, 'batch_time.avg': 0.043091641196721715, 'data_time.avg': 0.013385558430152603, 'losses.avg': 1.6963372798919678, 'top1.avg': 52.72}\n",
            "client training # 3 {'epoch': 43, 'batch_time.avg': 0.04350559319121928, 'data_time.avg': 0.0153421721880949, 'losses.avg': 1.6949036237716675, 'top1.avg': 52.55}\n",
            "client training # 4 {'epoch': 43, 'batch_time.avg': 0.04347760466080677, 'data_time.avg': 0.014663291882865036, 'losses.avg': 1.6777477642059326, 'top1.avg': 52.31}\n",
            "server evaluation: {'batch_time.avg': 0.024753676185125036, 'losses.avg': 1.624136993598938, 'top1.avg': 55.5}\n",
            "client training # 0 {'epoch': 44, 'batch_time.avg': 0.043670026561881924, 'data_time.avg': 0.013993471483641032, 'losses.avg': 1.6669098482131959, 'top1.avg': 53.2}\n",
            "client training # 1 {'epoch': 44, 'batch_time.avg': 0.0433315928978256, 'data_time.avg': 0.014535556865643852, 'losses.avg': 1.6449090175628662, 'top1.avg': 53.37}\n",
            "client training # 2 {'epoch': 44, 'batch_time.avg': 0.04460366466377355, 'data_time.avg': 0.014687839942642405, 'losses.avg': 1.6573995456695556, 'top1.avg': 53.14}\n",
            "client training # 3 {'epoch': 44, 'batch_time.avg': 0.04293405255184898, 'data_time.avg': 0.013929934441288816, 'losses.avg': 1.665553713607788, 'top1.avg': 52.85}\n",
            "client training # 4 {'epoch': 44, 'batch_time.avg': 0.04348301585716537, 'data_time.avg': 0.0139470130582399, 'losses.avg': 1.6495963478088378, 'top1.avg': 53.9}\n",
            "server evaluation: {'batch_time.avg': 0.024180874039855183, 'losses.avg': 1.672854548072815, 'top1.avg': 54.99}\n",
            "client training # 0 {'epoch': 45, 'batch_time.avg': 0.043053186392482325, 'data_time.avg': 0.013980409767054305, 'losses.avg': 1.6419897453308105, 'top1.avg': 53.51}\n",
            "client training # 1 {'epoch': 45, 'batch_time.avg': 0.04314394842220258, 'data_time.avg': 0.014826925495002844, 'losses.avg': 1.651254335975647, 'top1.avg': 53.6}\n",
            "client training # 2 {'epoch': 45, 'batch_time.avg': 0.04291595688349084, 'data_time.avg': 0.01437153393709207, 'losses.avg': 1.6508452201843262, 'top1.avg': 53.55}\n",
            "client training # 3 {'epoch': 45, 'batch_time.avg': 0.042715679241132135, 'data_time.avg': 0.014504299888127967, 'losses.avg': 1.6587353050231934, 'top1.avg': 52.94}\n",
            "client training # 4 {'epoch': 45, 'batch_time.avg': 0.04364844515353818, 'data_time.avg': 0.013547960715957834, 'losses.avg': 1.6359936191558837, 'top1.avg': 53.56}\n",
            "server evaluation: {'batch_time.avg': 0.02435889123361322, 'losses.avg': 1.620696273612976, 'top1.avg': 55.45}\n",
            "client training # 0 {'epoch': 46, 'batch_time.avg': 0.04373120054414001, 'data_time.avg': 0.014033314547961272, 'losses.avg': 1.605352163505554, 'top1.avg': 54.47}\n",
            "client training # 1 {'epoch': 46, 'batch_time.avg': 0.04329913477354412, 'data_time.avg': 0.013348618640175348, 'losses.avg': 1.65834691696167, 'top1.avg': 52.87}\n",
            "client training # 2 {'epoch': 46, 'batch_time.avg': 0.0431119610991659, 'data_time.avg': 0.013630921327615087, 'losses.avg': 1.6458102542877198, 'top1.avg': 53.4}\n",
            "client training # 3 {'epoch': 46, 'batch_time.avg': 0.04318694826922839, 'data_time.avg': 0.01421353786806517, 'losses.avg': 1.647745993423462, 'top1.avg': 53.77}\n",
            "client training # 4 {'epoch': 46, 'batch_time.avg': 0.04353257674205152, 'data_time.avg': 0.01508819000630439, 'losses.avg': 1.6314133354187013, 'top1.avg': 53.65}\n",
            "server evaluation: {'batch_time.avg': 0.02458258218403104, 'losses.avg': 1.5951135509490966, 'top1.avg': 55.45}\n",
            "client training # 0 {'epoch': 47, 'batch_time.avg': 0.043957840038251275, 'data_time.avg': 0.014438936981973769, 'losses.avg': 1.611377869796753, 'top1.avg': 54.73}\n",
            "client training # 1 {'epoch': 47, 'batch_time.avg': 0.043152573742444, 'data_time.avg': 0.015836109088945994, 'losses.avg': 1.623114909362793, 'top1.avg': 54.02}\n",
            "client training # 2 {'epoch': 47, 'batch_time.avg': 0.042921078356006476, 'data_time.avg': 0.014751217033289656, 'losses.avg': 1.6186348793029786, 'top1.avg': 54.8}\n",
            "client training # 3 {'epoch': 47, 'batch_time.avg': 0.0431674703767028, 'data_time.avg': 0.01484754719311678, 'losses.avg': 1.622781560897827, 'top1.avg': 53.86}\n",
            "client training # 4 {'epoch': 47, 'batch_time.avg': 0.044536255582978454, 'data_time.avg': 0.01512401918821697, 'losses.avg': 1.6117481811523438, 'top1.avg': 54.62}\n",
            "server evaluation: {'batch_time.avg': 0.024999552135226092, 'losses.avg': 1.6520264442443848, 'top1.avg': 55.25}\n",
            "client training # 0 {'epoch': 48, 'batch_time.avg': 0.04414983037151868, 'data_time.avg': 0.013794123371945152, 'losses.avg': 1.623155976486206, 'top1.avg': 54.22}\n",
            "client training # 1 {'epoch': 48, 'batch_time.avg': 0.04322612436511849, 'data_time.avg': 0.01370454438125031, 'losses.avg': 1.6102438898086548, 'top1.avg': 54.34}\n",
            "client training # 2 {'epoch': 48, 'batch_time.avg': 0.04248429551909241, 'data_time.avg': 0.014208377162112465, 'losses.avg': 1.6087420921325684, 'top1.avg': 54.95}\n",
            "client training # 3 {'epoch': 48, 'batch_time.avg': 0.04269860062418105, 'data_time.avg': 0.015229351912872701, 'losses.avg': 1.5861259132385255, 'top1.avg': 55.73}\n",
            "client training # 4 {'epoch': 48, 'batch_time.avg': 0.042962143692789195, 'data_time.avg': 0.013697787176204634, 'losses.avg': 1.5954208848953246, 'top1.avg': 54.57}\n",
            "server evaluation: {'batch_time.avg': 0.024684402007090895, 'losses.avg': 1.5669400547027588, 'top1.avg': 56.49}\n",
            "client training # 0 {'epoch': 49, 'batch_time.avg': 0.04347233832636966, 'data_time.avg': 0.014559211610238763, 'losses.avg': 1.580526634979248, 'top1.avg': 55.38}\n",
            "client training # 1 {'epoch': 49, 'batch_time.avg': 0.04374614244774927, 'data_time.avg': 0.014647438556333131, 'losses.avg': 1.595780790901184, 'top1.avg': 55.11}\n",
            "client training # 2 {'epoch': 49, 'batch_time.avg': 0.04351468931270551, 'data_time.avg': 0.014322350296793105, 'losses.avg': 1.5929042846679689, 'top1.avg': 54.77}\n",
            "client training # 3 {'epoch': 49, 'batch_time.avg': 0.04348445844046677, 'data_time.avg': 0.01434547388100926, 'losses.avg': 1.617779930305481, 'top1.avg': 54.11}\n",
            "client training # 4 {'epoch': 49, 'batch_time.avg': 0.04385970212236236, 'data_time.avg': 0.014809958542449564, 'losses.avg': 1.5932267948150636, 'top1.avg': 54.81}\n",
            "server evaluation: {'batch_time.avg': 0.02447399308409872, 'losses.avg': 1.6077312423706054, 'top1.avg': 55.54}\n",
            "client training # 0 {'epoch': 50, 'batch_time.avg': 0.04355235341229016, 'data_time.avg': 0.013257944131199318, 'losses.avg': 1.569373037147522, 'top1.avg': 55.48}\n",
            "client training # 1 {'epoch': 50, 'batch_time.avg': 0.04364672190026392, 'data_time.avg': 0.014602474019497255, 'losses.avg': 1.586328324508667, 'top1.avg': 54.58}\n",
            "client training # 2 {'epoch': 50, 'batch_time.avg': 0.0431522176235537, 'data_time.avg': 0.013780171358132665, 'losses.avg': 1.5701763084411622, 'top1.avg': 55.5}\n",
            "client training # 3 {'epoch': 50, 'batch_time.avg': 0.04298558416245859, 'data_time.avg': 0.015187969690636743, 'losses.avg': 1.579968085861206, 'top1.avg': 55.2}\n",
            "client training # 4 {'epoch': 50, 'batch_time.avg': 0.04279158387003066, 'data_time.avg': 0.01433948927287814, 'losses.avg': 1.5846611303329468, 'top1.avg': 55.09}\n",
            "server evaluation: {'batch_time.avg': 0.024601365946516206, 'losses.avg': 1.6224830926895142, 'top1.avg': 55.98}\n"
          ]
        }
      ]
    },
    {
      "cell_type": "code",
      "source": [
        "import matplotlib.pyplot as plt"
      ],
      "metadata": {
        "id": "En347XTbR3Q-"
      },
      "execution_count": null,
      "outputs": []
    },
    {
      "cell_type": "code",
      "source": [
        "classic_train_loss = [3.965691941986084, 3.4069320793151854, 2.946572094116211, 2.596434449996948, 2.3487498406219482, 2.16729426071167, 2.0290422665786743, 1.92869426612854, 1.8368714684295655, 1.765304737625122, 1.6939938619613648, 1.6557500473022462, 1.603310743484497, 1.5727674898910522, 1.530354594154358, 1.5025509560394288, 1.4725685466766358, 1.4448754391479492, 1.4293597588348388, 1.4009588390350343, 1.3794029256439209, 1.3553950616455077, 1.3390285612106323, 1.3178037009429933, 1.3055015800094605, 1.2878509717941284, 1.2785267517471313, 1.2664795195007323, 1.2438034731292724, 1.2425956858062743, 1.2296533066558837, 1.2195974557495117, 1.2112799390411377, 1.2090723837280273, 1.19190546169281, 1.191831263961792, 1.1754102536392212, 1.1739903101348876, 1.1695545966720582, 1.1556492107391358, 1.1425098427200318, 1.1397763904571534, 1.1337738972473144, 1.1364482787322998, 1.127581592578888, 1.116870287284851, 1.1134231979751588, 1.0995022151184082, 1.1039014613723754, 1.0957720928192138]\n",
        "classic_train_top1acc = [8.392, 16.956, 25.35, 32.466, 37.45, 41.394, 44.69, 47.1, 49.208, 50.832, 52.84, 53.51, 54.84, 55.288, 56.766, 57.326, 58.216, 58.864, 59.05, 59.79, 60.45, 61.004, 61.464, 62.232, 62.372, 62.876, 63.072, 63.16, 64.102, 63.824, 64.276, 64.558, 64.776, 64.96, 65.262, 65.154, 65.64, 65.794, 65.984, 66.162, 66.416, 66.676, 66.8, 66.762, 66.98, 67.06, 67.458, 67.94, 67.36, 67.878]\n",
        "classic_test_top1acc = [13.51, 19.21, 24.23, 26.49, 31.06, 39.13, 42.15, 40.96, 44.28, 45.64, 49.41, 46.68, 46.95, 50.03, 51.08, 49.02, 48.83, 51.64, 50.82, 53.63, 54.41, 53.27, 54.05, 49.94, 56.41, 53.67, 55.17, 55.51, 55.32, 55.19, 53.08, 52.67, 56.17, 55.43, 58.23, 56.35, 56.22, 53.46, 57.88, 57.92, 56.46, 55.72, 57.65, 53.53, 55.99, 57.04, 57.86, 56.21, 55.75, 58.21]\n",
        "classic_test_loss = [3.6688918243408204, 3.376181998825073, 3.20298840675354, 3.091620096206665, 2.8207536922454834, 2.39261364364624, 2.164037648010254, 2.308090034866333, 2.0775985471725464, 2.055665376663208, 1.8748367027282715, 2.0164350200653076, 2.0315410840988157, 1.8866001306533813, 1.798959330177307, 1.9383202211380004, 1.9893050521850586, 1.8283601097106934, 1.8963709201812744, 1.7485911703109742, 1.6732444269180298, 1.73476007938385, 1.722839471244812, 1.9449490215301513, 1.6673974636077882, 1.7588103134155273, 1.6698077518463135, 1.713263515663147, 1.691243706703186, 1.7058834276199342, 1.8404252334594726, 1.8527012060165404, 1.678942085647583, 1.6767854955673218, 1.5470750368118287, 1.601269814491272, 1.6671858100891113, 1.7997516109466554, 1.5811682159423828, 1.566693622970581, 1.6721143342971803, 1.753659036064148, 1.6010358058929444, 1.8569971284866333, 1.6682708547592162, 1.657852016067505, 1.6116361072540284, 1.6756641611099243, 1.719181840324402, 1.588701534461975]"
      ],
      "metadata": {
        "id": "Tl_2UpTGaVHT"
      },
      "execution_count": null,
      "outputs": []
    },
    {
      "cell_type": "code",
      "source": [
        "federated_server_loss = [4.557403146362304, 4.062288917541504, 3.7418298835754396, 3.6004598236083982, 3.5396496883392334, 3.355599948883057, 3.2908765647888183, 3.1479787322998045, 3.093480573654175, 2.9184111698150637, 2.794077802658081, 2.7455411209106444, 2.7284630893707273, 2.6416296768188476, 2.55040421295166, 2.5003405559539793, 2.4287274951934816, 2.336195864868164, 2.2511629173278807, 2.236570462036133, 2.170874870300293, 2.1159288234710694, 2.168661459159851, 1.9944832918167115, 1.9911052484512328, 1.9596341960906982, 1.889730217552185, 1.9537804170608521, 1.853412843322754, 1.8609682794570923, 1.90373665599823, 1.8751253917694093, 1.8153478353500365, 1.8029599252700805, 1.7265079860687256, 1.8236020191192628, 1.7172248302459716, 1.6953871829986573, 1.756590888595581, 1.6421273275375365, 1.6679722190856934, 1.7719057455062865, 1.624136993598938, 1.672854548072815, 1.620696273612976, 1.5951135509490966, 1.6520264442443848, 1.5669400547027588, 1.6077312423706054, 1.6224830926895142]\n",
        "federated_server_top1acc = [1.42, 6.25, 11.95, 13.71, 14.54, 18.43, 19.23, 22.24, 23.21, 26.82, 28.52, 29.79, 29.96, 31.83, 33.66, 34.68, 36.4, 38.24, 40.45, 40.24, 41.55, 43.14, 42.83, 45.64, 46.15, 46.6, 48.15, 47.72, 49.33, 49.46, 49.2, 49.33, 50.16, 51.58, 52.91, 50.78, 52.76, 53.77, 53.17, 54.28, 54.14, 52.81, 55.5, 54.99, 55.45, 55.45, 55.25, 56.49, 55.54, 55.98]\n",
        "federated_client0_top1acc = [3.21, 5.75, 8.22, 10.39, 11.92, 13.91, 15.75, 17.94, 19.85, 22.41, 24.36, 26.2, 27.82, 28.56, 31.07, 31.84, 33.67, 34.49, 35.44, 37.1, 39.02, 39.35, 40.71, 41.79, 42.35, 43.03, 43.71, 44.8, 45.93, 46.34, 46.91, 47.05, 48.11, 48.51, 49.31, 49.42, 50.63, 50.92, 51.01, 51.61, 52.8, 52.77, 52.63, 53.2, 53.51, 54.47, 54.73, 54.22, 55.38, 55.48]\n",
        "federated_client1_top1acc = [3.11, 5.39, 8.45, 10.77, 12.79, 13.94, 16.08, 17.73, 19.51, 21.87, 23.48, 25.36, 27.35, 28.66, 29.79, 31.46, 32.48, 33.76, 35.11, 36.53, 38.0, 38.82, 39.96, 40.8, 41.55, 43.07, 43.0, 43.71, 45.04, 45.93, 46.36, 47.54, 47.71, 48.82, 49.11, 49.49, 50.13, 50.74, 51.61, 51.17, 51.12, 52.05, 52.8, 53.37, 53.6, 52.87, 54.02, 54.34, 55.11, 54.58]\n",
        "federated_client2_top1acc = [2.92, 5.49, 8.26, 10.46, 11.85, 14.44, 16.24, 18.92, 19.33, 21.35, 23.48, 25.53, 27.77, 28.11, 30.4, 31.09, 34.1, 34.18, 35.94, 36.83, 38.01, 39.02, 40.69, 40.49, 42.36, 43.29, 43.84, 44.46, 46.29, 46.52, 46.61, 47.59, 47.99, 48.4, 48.79, 49.11, 50.46, 50.47, 51.26, 51.72, 52.09, 51.76, 52.72, 53.14, 53.55, 53.4, 54.8, 54.95, 54.77, 55.5]\n",
        "federated_client3_top1acc = [3.09, 5.73, 8.4, 10.5, 12.08, 14.36, 16.15, 18.03, 19.32, 21.72, 23.4, 25.24, 28.04, 28.59, 29.86, 31.59, 32.97, 34.4, 34.85, 36.64, 38.07, 39.27, 40.33, 40.57, 42.77, 43.5, 43.41, 44.51, 45.65, 46.14, 46.84, 46.92, 48.12, 48.77, 48.66, 49.93, 50.28, 51.35, 50.75, 51.0, 52.81, 53.3, 52.55, 52.85, 52.94, 53.77, 53.86, 55.73, 54.11, 55.2]\n",
        "federated_client4_top1acc = [3.28, 5.51, 8.57, 10.45, 12.47, 14.44, 16.09, 17.19, 20.02, 22.32, 23.85, 25.18, 27.11, 28.52, 29.85, 31.03, 32.67, 34.26, 35.97, 36.6, 37.54, 39.22, 40.13, 40.92, 42.15, 43.4, 44.61, 44.6, 45.6, 45.7, 46.76, 47.04, 48.23, 48.99, 48.52, 49.91, 50.45, 50.92, 50.91, 52.51, 51.77, 52.66, 52.31, 53.9, 53.56, 53.65, 54.62, 54.57, 54.81, 55.09]\n",
        "federated_client0_loss = [4.407847500610352, 4.116439108276367, 3.925584033203125, 3.774181991195679, 3.6832201091766357, 3.5591122631073, 3.4606125213623047, 3.3695457180023194, 3.249206244277954, 3.1373328399658202, 3.0113996101379397, 2.9229970985412597, 2.8398975048065185, 2.780256539916992, 2.6921510509490965, 2.626154280471802, 2.5432223350524903, 2.484857448196411, 2.422271564483643, 2.3528479888916016, 2.302616736602783, 2.254775700759888, 2.2257184894561766, 2.1652953998565674, 2.132478108215332, 2.090799076080322, 2.0602773754119874, 2.017351776504517, 1.9834498844146728, 1.9604337284088136, 1.9122768230438232, 1.9227847423553466, 1.8757518939971924, 1.8637209228515625, 1.8228935306549072, 1.8081607236862183, 1.7793579071044923, 1.7450612155914307, 1.7629970520019531, 1.7252957313537598, 1.6858352062225341, 1.6999292625427247, 1.6914959999084473, 1.6669098482131959, 1.6419897453308105, 1.605352163505554, 1.611377869796753, 1.623155976486206, 1.580526634979248, 1.569373037147522]\n",
        "federated_client1_loss = [4.422984429168701, 4.128496341705322, 3.9240119552612303, 3.7683285625457765, 3.660948139190674, 3.555022289276123, 3.4534689506530762, 3.3572503757476806, 3.2255001331329347, 3.1347441398620606, 3.0379908588409426, 2.93019924621582, 2.8404961502075197, 2.762369633102417, 2.6920809776306154, 2.623928518676758, 2.566281800079346, 2.4905203140258787, 2.452429754638672, 2.3830942485809326, 2.32209621925354, 2.279068814086914, 2.2193626766204835, 2.1703437267303465, 2.156663611984253, 2.092675592803955, 2.0826248329162595, 2.0416160720825194, 1.9957283412933349, 1.963039912033081, 1.9453422889709473, 1.9015975536346434, 1.8844622200012207, 1.8501046314239502, 1.8337199802398683, 1.8260803518295288, 1.8014913080215453, 1.7590402284622193, 1.7410168886184691, 1.7376744689941406, 1.7389548946380615, 1.710555415725708, 1.6605249504089354, 1.6449090175628662, 1.651254335975647, 1.65834691696167, 1.623114909362793, 1.6102438898086548, 1.595780790901184, 1.586328324508667]\n",
        "federated_client2_loss = [4.428100756072998, 4.110511348342896, 3.9311595920562743, 3.7822038928985595, 3.686766473388672, 3.566260464477539, 3.4538189140319826, 3.354681678009033, 3.2504584297180177, 3.143404008483887, 3.025186083602905, 2.922286738204956, 2.8457175144195554, 2.794349817276001, 2.7142336921691896, 2.6258812713623048, 2.5493826873779297, 2.49186480178833, 2.433674857711792, 2.3809295875549314, 2.3326475646972655, 2.27995640335083, 2.2003314037323, 2.1846173259735107, 2.1300655055999758, 2.100759445953369, 2.05586544342041, 2.0268266609191894, 1.98408815574646, 1.9482145698547364, 1.9375166110992432, 1.9077537284851074, 1.881256335258484, 1.8598685241699218, 1.8460666748046874, 1.8161452674865723, 1.780458539199829, 1.7585568717956543, 1.7437194549560546, 1.7318702407836915, 1.710630948638916, 1.6957531969070434, 1.6963372798919678, 1.6573995456695556, 1.6508452201843262, 1.6458102542877198, 1.6186348793029786, 1.6087420921325684, 1.5929042846679689, 1.5701763084411622]\n",
        "federated_client3_loss = [4.429288793182373, 4.110515972137451, 3.9180585903167726, 3.777564803314209, 3.6606703010559083, 3.5575389656066894, 3.4572953048706054, 3.341253527069092, 3.2527948211669924, 3.1419260822296144, 3.047703873062134, 2.9499533866882324, 2.8548585536956788, 2.7754371265411377, 2.6953342777252196, 2.632933799743652, 2.573047640991211, 2.4796869899749754, 2.4542896423339844, 2.3899899826049804, 2.322412755584717, 2.277047245025635, 2.216686156654358, 2.1939885292053223, 2.1284488372802732, 2.0872392959594728, 2.0744355058670045, 2.040911156463623, 1.9904366199493408, 1.9783686923980712, 1.933719388961792, 1.9355789169311524, 1.8678852035522462, 1.8700324516296387, 1.8441682222366333, 1.7993553047180175, 1.780317476272583, 1.772082805633545, 1.761185583114624, 1.7440697296142578, 1.7024992593765258, 1.6748601476669311, 1.6949036237716675, 1.665553713607788, 1.6587353050231934, 1.647745993423462, 1.622781560897827, 1.5861259132385255, 1.617779930305481, 1.579968085861206]\n",
        "federated_client4_loss = [4.4212605628967285, 4.110550259780884, 3.926158253479004, 3.781734935760498, 3.663674095916748, 3.573868796157837, 3.452546244430542, 3.354461925125122, 3.2419551525115966, 3.1270653739929197, 3.015052562713623, 2.930168157958984, 2.8476267333984375, 2.7713607173919677, 2.709157344818115, 2.6354186340332033, 2.558819813156128, 2.4965449111938476, 2.411401148605347, 2.3836647621154787, 2.307888009262085, 2.2742625869750976, 2.2224624938964843, 2.1782028480529787, 2.1250966705322267, 2.0763523727416993, 2.0520550983428953, 2.0168560428619386, 1.985872504425049, 1.973132564163208, 1.919214695739746, 1.8991825368881226, 1.8818944231033325, 1.859511926651001, 1.8344117475509643, 1.798161280441284, 1.7817437088012695, 1.7647455055236816, 1.7701272956848144, 1.6987094110488892, 1.7093826652526856, 1.6867508026123046, 1.6777477642059326, 1.6495963478088378, 1.6359936191558837, 1.6314133354187013, 1.6117481811523438, 1.5954208848953246, 1.5932267948150636, 1.5846611303329468]"
      ],
      "metadata": {
        "id": "A2FkziXtbJuE"
      },
      "execution_count": null,
      "outputs": []
    },
    {
      "cell_type": "code",
      "source": [
        "len(classic_train_loss)"
      ],
      "metadata": {
        "colab": {
          "base_uri": "https://localhost:8080/"
        },
        "id": "VPlp3C4XeEme",
        "outputId": "1fd0cbab-eb18-4329-aae3-460877a32e57"
      },
      "execution_count": null,
      "outputs": [
        {
          "output_type": "execute_result",
          "data": {
            "text/plain": [
              "50"
            ]
          },
          "metadata": {},
          "execution_count": 13
        }
      ]
    },
    {
      "cell_type": "code",
      "source": [
        "plt.plot(classic_train_loss, label='classic_train_loss')\n",
        "plt.plot(classic_test_loss, label='classic_test_loss')\n",
        "plt.plot(federated_server_loss, label='federated_server_loss')\n",
        "plt.plot(federated_client0_loss, label='federated_client0_loss')\n",
        "plt.plot(federated_client1_loss, label='federated_client1_loss')\n",
        "plt.plot(federated_client2_loss, label='federated_client2_loss')\n",
        "plt.plot(federated_client3_loss, label='federated_client3_loss')\n",
        "plt.plot(federated_client4_loss, label='federated_client4_loss')\n",
        "plt.legend()\n",
        "plt.show()"
      ],
      "metadata": {
        "colab": {
          "base_uri": "https://localhost:8080/",
          "height": 264
        },
        "id": "rXdFHCC3d2d0",
        "outputId": "d43aaed7-2f52-44e1-eed0-6398beaf8692"
      },
      "execution_count": null,
      "outputs": [
        {
          "output_type": "display_data",
          "data": {
            "image/png": "[encoded data removed]",
            "text/plain": [
              "<Figure size 432x288 with 1 Axes>"
            ]
          },
          "metadata": {
            "needs_background": "light"
          }
        }
      ]
    },
    {
      "cell_type": "code",
      "source": [
        "plt.plot(classic_train_top1acc, label='classic_train_top1acc')\n",
        "plt.plot(classic_test_top1acc, label='classic_test_top1acc')\n",
        "plt.plot(federated_server_top1acc, label='federated_server_top1acc')\n",
        "plt.plot(federated_client0_top1acc, label='federated_client0_top1acc')\n",
        "plt.plot(federated_client1_top1acc, label='federated_client1_top1acc')\n",
        "plt.plot(federated_client2_top1acc, label='federated_client2_top1acc')\n",
        "plt.plot(federated_client3_top1acc, label='federated_client3_top1acc')\n",
        "plt.plot(federated_client4_top1acc, label='federated_client4_top1acc')\n",
        "plt.legend()\n",
        "plt.show()"
      ],
      "metadata": {
        "colab": {
          "base_uri": "https://localhost:8080/",
          "height": 265
        },
        "id": "3kquyxPjeCjd",
        "outputId": "cc68b633-9c58-4fb6-e383-10b762a4262e"
      },
      "execution_count": null,
      "outputs": [
        {
          "output_type": "display_data",
          "data": {
            "image/png": "[encoded data removed]",
            "text/plain": [
              "<Figure size 432x288 with 1 Axes>"
            ]
          },
          "metadata": {
            "needs_background": "light"
          }
        }
      ]
    },
    {
      "cell_type": "code",
      "source": [
        ""
      ],
      "metadata": {
        "id": "6SZVpoZ4efv6"
      },
      "execution_count": null,
      "outputs": []
    }
  ]
}