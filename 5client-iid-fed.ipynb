{
  "nbformat": 4,
  "nbformat_minor": 0,
  "metadata": {
    "colab": {
      "name": "Copy of nbnb.ipynb",
      "provenance": [],
      "collapsed_sections": []
    },
    "kernelspec": {
      "name": "python3",
      "display_name": "Python 3"
    },
    "language_info": {
      "name": "python"
    },
    "accelerator": "GPU",
    "widgets": {
      "application/vnd.jupyter.widget-state+json": {
        "1546227445c645c59d82d014bdcd2bec": {
          "model_module": "@jupyter-widgets/controls",
          "model_name": "HBoxModel",
          "model_module_version": "1.5.0",
          "state": {
            "_view_name": "HBoxView",
            "_dom_classes": [],
            "_model_name": "HBoxModel",
            "_view_module": "@jupyter-widgets/controls",
            "_model_module_version": "1.5.0",
            "_view_count": null,
            "_view_module_version": "1.5.0",
            "box_style": "",
            "layout": "IPY_MODEL_f7fc7083daaf4e48a59cb1cf49e270df",
            "_model_module": "@jupyter-widgets/controls",
            "children": [
              "IPY_MODEL_a642c0c7894d4ee8a5ce81743ac5a80f",
              "IPY_MODEL_5475a9c8322a47a48a6c9487299532ae",
              "IPY_MODEL_2feb836ba2d643188120dcc97884c0f8"
            ]
          }
        },
        "f7fc7083daaf4e48a59cb1cf49e270df": {
          "model_module": "@jupyter-widgets/base",
          "model_name": "LayoutModel",
          "model_module_version": "1.2.0",
          "state": {
            "_view_name": "LayoutView",
            "grid_template_rows": null,
            "right": null,
            "justify_content": null,
            "_view_module": "@jupyter-widgets/base",
            "overflow": null,
            "_model_module_version": "1.2.0",
            "_view_count": null,
            "flex_flow": null,
            "width": null,
            "min_width": null,
            "border": null,
            "align_items": null,
            "bottom": null,
            "_model_module": "@jupyter-widgets/base",
            "top": null,
            "grid_column": null,
            "overflow_y": null,
            "overflow_x": null,
            "grid_auto_flow": null,
            "grid_area": null,
            "grid_template_columns": null,
            "flex": null,
            "_model_name": "LayoutModel",
            "justify_items": null,
            "grid_row": null,
            "max_height": null,
            "align_content": null,
            "visibility": null,
            "align_self": null,
            "height": null,
            "min_height": null,
            "padding": null,
            "grid_auto_rows": null,
            "grid_gap": null,
            "max_width": null,
            "order": null,
            "_view_module_version": "1.2.0",
            "grid_template_areas": null,
            "object_position": null,
            "object_fit": null,
            "grid_auto_columns": null,
            "margin": null,
            "display": null,
            "left": null
          }
        },
        "a642c0c7894d4ee8a5ce81743ac5a80f": {
          "model_module": "@jupyter-widgets/controls",
          "model_name": "HTMLModel",
          "model_module_version": "1.5.0",
          "state": {
            "_view_name": "HTMLView",
            "style": "IPY_MODEL_8a00a963b1fa464db5cc95656610512a",
            "_dom_classes": [],
            "description": "",
            "_model_name": "HTMLModel",
            "placeholder": "​",
            "_view_module": "@jupyter-widgets/controls",
            "_model_module_version": "1.5.0",
            "value": "",
            "_view_count": null,
            "_view_module_version": "1.5.0",
            "description_tooltip": null,
            "_model_module": "@jupyter-widgets/controls",
            "layout": "IPY_MODEL_bf5b3ac61d274f43a0eee37f64f2be35"
          }
        },
        "5475a9c8322a47a48a6c9487299532ae": {
          "model_module": "@jupyter-widgets/controls",
          "model_name": "FloatProgressModel",
          "model_module_version": "1.5.0",
          "state": {
            "_view_name": "ProgressView",
            "style": "IPY_MODEL_b782b5fb2ad44741a207e6368534e63a",
            "_dom_classes": [],
            "description": "",
            "_model_name": "FloatProgressModel",
            "bar_style": "success",
            "max": 169001437,
            "_view_module": "@jupyter-widgets/controls",
            "_model_module_version": "1.5.0",
            "value": 169001437,
            "_view_count": null,
            "_view_module_version": "1.5.0",
            "orientation": "horizontal",
            "min": 0,
            "description_tooltip": null,
            "_model_module": "@jupyter-widgets/controls",
            "layout": "IPY_MODEL_25596011544c44ad976f6d07a7e4c8a3"
          }
        },
        "2feb836ba2d643188120dcc97884c0f8": {
          "model_module": "@jupyter-widgets/controls",
          "model_name": "HTMLModel",
          "model_module_version": "1.5.0",
          "state": {
            "_view_name": "HTMLView",
            "style": "IPY_MODEL_91076785e930410faa42995d76df3929",
            "_dom_classes": [],
            "description": "",
            "_model_name": "HTMLModel",
            "placeholder": "​",
            "_view_module": "@jupyter-widgets/controls",
            "_model_module_version": "1.5.0",
            "value": " 169001984/? [00:12&lt;00:00, 15897562.61it/s]",
            "_view_count": null,
            "_view_module_version": "1.5.0",
            "description_tooltip": null,
            "_model_module": "@jupyter-widgets/controls",
            "layout": "IPY_MODEL_338f32480caf4d5c8ff68946cf9b5c0c"
          }
        },
        "8a00a963b1fa464db5cc95656610512a": {
          "model_module": "@jupyter-widgets/controls",
          "model_name": "DescriptionStyleModel",
          "model_module_version": "1.5.0",
          "state": {
            "_view_name": "StyleView",
            "_model_name": "DescriptionStyleModel",
            "description_width": "",
            "_view_module": "@jupyter-widgets/base",
            "_model_module_version": "1.5.0",
            "_view_count": null,
            "_view_module_version": "1.2.0",
            "_model_module": "@jupyter-widgets/controls"
          }
        },
        "bf5b3ac61d274f43a0eee37f64f2be35": {
          "model_module": "@jupyter-widgets/base",
          "model_name": "LayoutModel",
          "model_module_version": "1.2.0",
          "state": {
            "_view_name": "LayoutView",
            "grid_template_rows": null,
            "right": null,
            "justify_content": null,
            "_view_module": "@jupyter-widgets/base",
            "overflow": null,
            "_model_module_version": "1.2.0",
            "_view_count": null,
            "flex_flow": null,
            "width": null,
            "min_width": null,
            "border": null,
            "align_items": null,
            "bottom": null,
            "_model_module": "@jupyter-widgets/base",
            "top": null,
            "grid_column": null,
            "overflow_y": null,
            "overflow_x": null,
            "grid_auto_flow": null,
            "grid_area": null,
            "grid_template_columns": null,
            "flex": null,
            "_model_name": "LayoutModel",
            "justify_items": null,
            "grid_row": null,
            "max_height": null,
            "align_content": null,
            "visibility": null,
            "align_self": null,
            "height": null,
            "min_height": null,
            "padding": null,
            "grid_auto_rows": null,
            "grid_gap": null,
            "max_width": null,
            "order": null,
            "_view_module_version": "1.2.0",
            "grid_template_areas": null,
            "object_position": null,
            "object_fit": null,
            "grid_auto_columns": null,
            "margin": null,
            "display": null,
            "left": null
          }
        },
        "b782b5fb2ad44741a207e6368534e63a": {
          "model_module": "@jupyter-widgets/controls",
          "model_name": "ProgressStyleModel",
          "model_module_version": "1.5.0",
          "state": {
            "_view_name": "StyleView",
            "_model_name": "ProgressStyleModel",
            "description_width": "",
            "_view_module": "@jupyter-widgets/base",
            "_model_module_version": "1.5.0",
            "_view_count": null,
            "_view_module_version": "1.2.0",
            "bar_color": null,
            "_model_module": "@jupyter-widgets/controls"
          }
        },
        "25596011544c44ad976f6d07a7e4c8a3": {
          "model_module": "@jupyter-widgets/base",
          "model_name": "LayoutModel",
          "model_module_version": "1.2.0",
          "state": {
            "_view_name": "LayoutView",
            "grid_template_rows": null,
            "right": null,
            "justify_content": null,
            "_view_module": "@jupyter-widgets/base",
            "overflow": null,
            "_model_module_version": "1.2.0",
            "_view_count": null,
            "flex_flow": null,
            "width": null,
            "min_width": null,
            "border": null,
            "align_items": null,
            "bottom": null,
            "_model_module": "@jupyter-widgets/base",
            "top": null,
            "grid_column": null,
            "overflow_y": null,
            "overflow_x": null,
            "grid_auto_flow": null,
            "grid_area": null,
            "grid_template_columns": null,
            "flex": null,
            "_model_name": "LayoutModel",
            "justify_items": null,
            "grid_row": null,
            "max_height": null,
            "align_content": null,
            "visibility": null,
            "align_self": null,
            "height": null,
            "min_height": null,
            "padding": null,
            "grid_auto_rows": null,
            "grid_gap": null,
            "max_width": null,
            "order": null,
            "_view_module_version": "1.2.0",
            "grid_template_areas": null,
            "object_position": null,
            "object_fit": null,
            "grid_auto_columns": null,
            "margin": null,
            "display": null,
            "left": null
          }
        },
        "91076785e930410faa42995d76df3929": {
          "model_module": "@jupyter-widgets/controls",
          "model_name": "DescriptionStyleModel",
          "model_module_version": "1.5.0",
          "state": {
            "_view_name": "StyleView",
            "_model_name": "DescriptionStyleModel",
            "description_width": "",
            "_view_module": "@jupyter-widgets/base",
            "_model_module_version": "1.5.0",
            "_view_count": null,
            "_view_module_version": "1.2.0",
            "_model_module": "@jupyter-widgets/controls"
          }
        },
        "338f32480caf4d5c8ff68946cf9b5c0c": {
          "model_module": "@jupyter-widgets/base",
          "model_name": "LayoutModel",
          "model_module_version": "1.2.0",
          "state": {
            "_view_name": "LayoutView",
            "grid_template_rows": null,
            "right": null,
            "justify_content": null,
            "_view_module": "@jupyter-widgets/base",
            "overflow": null,
            "_model_module_version": "1.2.0",
            "_view_count": null,
            "flex_flow": null,
            "width": null,
            "min_width": null,
            "border": null,
            "align_items": null,
            "bottom": null,
            "_model_module": "@jupyter-widgets/base",
            "top": null,
            "grid_column": null,
            "overflow_y": null,
            "overflow_x": null,
            "grid_auto_flow": null,
            "grid_area": null,
            "grid_template_columns": null,
            "flex": null,
            "_model_name": "LayoutModel",
            "justify_items": null,
            "grid_row": null,
            "max_height": null,
            "align_content": null,
            "visibility": null,
            "align_self": null,
            "height": null,
            "min_height": null,
            "padding": null,
            "grid_auto_rows": null,
            "grid_gap": null,
            "max_width": null,
            "order": null,
            "_view_module_version": "1.2.0",
            "grid_template_areas": null,
            "object_position": null,
            "object_fit": null,
            "grid_auto_columns": null,
            "margin": null,
            "display": null,
            "left": null
          }
        }
      }
    }
  },
  "cells": [
    {
      "cell_type": "code",
      "source": [
        "from google.colab import drive\n",
        "drive.mount('/content/drive')"
      ],
      "metadata": {
        "id": "5UeioFTmJHJp",
        "outputId": "ef67b8b1-1e26-4b37-c9db-f5eca246f2cb",
        "colab": {
          "base_uri": "https://localhost:8080/"
        }
      },
      "execution_count": null,
      "outputs": [
        {
          "output_type": "stream",
          "name": "stdout",
          "text": [
            "Mounted at /content/drive\n"
          ]
        }
      ]
    },
    {
      "cell_type": "code",
      "execution_count": null,
      "metadata": {
        "colab": {
          "base_uri": "https://localhost:8080/"
        },
        "id": "gsA9_-pvwViZ",
        "outputId": "19ae2455-42a7-4648-b4c6-b3a2d7e396a6"
      },
      "outputs": [
        {
          "output_type": "stream",
          "name": "stdout",
          "text": [
            "Cloning into 'pytorch-cifar100'...\n",
            "remote: Enumerating objects: 1188, done.\u001b[K\n",
            "remote: Total 1188 (delta 0), reused 0 (delta 0), pack-reused 1188\u001b[K\n",
            "Receiving objects: 100% (1188/1188), 530.69 KiB | 2.67 MiB/s, done.\n",
            "Resolving deltas: 100% (753/753), done.\n"
          ]
        }
      ],
      "source": [
        "!git clone https://github.com/weiaicunzai/pytorch-cifar100"
      ]
    },
    {
      "cell_type": "code",
      "source": [
        "%cd pytorch-cifar100/"
      ],
      "metadata": {
        "colab": {
          "base_uri": "https://localhost:8080/"
        },
        "id": "v4A7o-smww8V",
        "outputId": "275e42b2-797b-4e05-f113-35abc6ae65b4"
      },
      "execution_count": null,
      "outputs": [
        {
          "output_type": "stream",
          "name": "stdout",
          "text": [
            "/content/pytorch-cifar100\n"
          ]
        }
      ]
    },
    {
      "cell_type": "code",
      "source": [
        "from models.resnet import resnet18\n",
        "\n",
        "import torch\n",
        "import torch.nn as nn\n",
        "import torch.optim as optim\n",
        "import torch.nn.functional as F\n",
        "import torch.backends.cudnn as cudnn\n",
        "from torch.utils.data import random_split\n",
        "\n",
        "import torchvision\n",
        "import torchvision.transforms as transforms\n",
        "\n",
        "import time\n",
        "import numpy as np"
      ],
      "metadata": {
        "id": "JdKGHBq2w04z"
      },
      "execution_count": null,
      "outputs": []
    },
    {
      "cell_type": "code",
      "source": [
        "class Node(object):\n",
        "    def __init__(self, dataset, shuffle, batch_size=128):\n",
        "        self.dataloader = torch.utils.data.DataLoader(dataset, batch_size=batch_size, shuffle=shuffle, num_workers=2)\n",
        "    def set_more_hyperp(self, lr, mom, wd):\n",
        "        self.LEARNING_RATE = lr\n",
        "        self.MOMENTUM = mom\n",
        "        self.WEIGHT_DECAY = wd\n",
        "\n",
        "    def create_model(self):\n",
        "        self.model = resnet18()\n",
        "        self.model = nn.DataParallel(self.model).cuda()\n",
        "    def load_model(self, other_node):\n",
        "        self.model = resnet18()\n",
        "        self.model.load_state_dict(other_node.model.module.state_dict())\n",
        "        self.model = nn.DataParallel(self.model).cuda()\n",
        "    def aggregate_then_load_model(self, other_nodes):\n",
        "        params = [node.model.module.state_dict() for node in other_nodes]\n",
        "        self.model = resnet18()\n",
        "        param_master = dict(self.model.state_dict())\n",
        "        for name in param_master:\n",
        "            param_master[name] = 0\n",
        "            for p in params:\n",
        "                param_master[name] += p[name] * (1.0 / len(other_nodes))\n",
        "        self.model.load_state_dict(param_master)\n",
        "        self.model = nn.DataParallel(self.model).cuda()\n",
        "    def save_model(self, path):\n",
        "      torch.save(self.model.module.state_dict(), path)\n",
        "    def load_saved_model(self, path):\n",
        "      weights = torch.load(path)\n",
        "      self.model = resnet18()\n",
        "      self.model.load_state_dict(weights)\n",
        "      self.model = nn.DataParallel(self.model).cuda()\n",
        "\n",
        "    class AverageMeter(object):\n",
        "        def __init__(self):\n",
        "            self.reset()\n",
        "        def reset(self):\n",
        "            self.val = 0\n",
        "            self.avg = 0\n",
        "            self.sum = 0\n",
        "            self.count = 0\n",
        "        def update(self, val, n=1):\n",
        "            self.val = val\n",
        "            self.sum += val * n\n",
        "            self.count += n\n",
        "            self.avg = self.sum / self.count\n",
        "    def accuracy(self, output, target, topk=(1,)):\n",
        "        \"\"\"Computes the precision@k for the specified values of k\"\"\"\n",
        "        maxk = max(topk)\n",
        "        batch_size = target.size(0)\n",
        "        _, pred = output.topk(maxk, 1, True, True)\n",
        "        pred = pred.t()\n",
        "        correct = pred.eq(target.view(1, -1).expand_as(pred))\n",
        "        res = []\n",
        "        for k in topk:\n",
        "            correct_k = correct[:k].view(-1).float().sum(0)\n",
        "            res.append(correct_k.mul_(100.0 / batch_size))\n",
        "        return res\n",
        "\n",
        "    def train_model(self, which_epoch):\n",
        "        criterion = nn.CrossEntropyLoss().cuda()\n",
        "        optimizer = optim.SGD(self.model.parameters(), self.LEARNING_RATE, momentum=self.MOMENTUM, weight_decay=self.WEIGHT_DECAY)\n",
        "\n",
        "        batch_time = self.AverageMeter()\n",
        "        data_time = self.AverageMeter()\n",
        "        losses = self.AverageMeter()\n",
        "        top1 = self.AverageMeter()\n",
        "\n",
        "        self.model.train()\n",
        "\n",
        "        end = time.time()\n",
        "        for i, (input, target) in enumerate(self.dataloader):\n",
        "            # measure data loading time\n",
        "            data_time.update(time.time() - end)\n",
        "\n",
        "            input, target = input.cuda(), target.cuda()\n",
        "\n",
        "            # compute output\n",
        "            output = self.model(input)\n",
        "            loss = criterion(output, target)\n",
        "\n",
        "            # measure accuracy and record loss\n",
        "            prec = self.accuracy(output, target)[0]\n",
        "            losses.update(loss.item(), input.size(0))\n",
        "            top1.update(prec.item(), input.size(0))\n",
        "\n",
        "            # compute gradient and do SGD step\n",
        "            optimizer.zero_grad()\n",
        "            loss.backward()\n",
        "            optimizer.step()\n",
        "\n",
        "            # measure elapsed time\n",
        "            batch_time.update(time.time() - end)\n",
        "            end = time.time()\n",
        "        \n",
        "        return {\n",
        "            'epoch': which_epoch,\n",
        "            'batch_time.avg': batch_time.avg,\n",
        "            'data_time.avg': data_time.avg,\n",
        "            'losses.avg': losses.avg,\n",
        "            'top1.avg': top1.avg}\n",
        "\n",
        "    def evaluate_model(self):\n",
        "        criterion = nn.CrossEntropyLoss().cuda()\n",
        "        batch_time = self.AverageMeter()\n",
        "        losses = self.AverageMeter()\n",
        "        top1 = self.AverageMeter()\n",
        "\n",
        "        # switch to evaluate mode\n",
        "        self.model.eval()\n",
        "\n",
        "        end = time.time()\n",
        "        with torch.no_grad():\n",
        "            for i, (input, target) in enumerate(self.dataloader):\n",
        "                input, target = input.cuda(), target.cuda()\n",
        "\n",
        "                # compute output\n",
        "                output = self.model(input)\n",
        "                loss = criterion(output, target)\n",
        "\n",
        "                # measure accuracy and record loss\n",
        "                prec = self.accuracy(output, target)[0]\n",
        "                losses.update(loss.item(), input.size(0))\n",
        "                top1.update(prec.item(), input.size(0))\n",
        "\n",
        "                # measure elapsed time\n",
        "                batch_time.update(time.time() - end)\n",
        "                end = time.time()\n",
        "\n",
        "        return {\n",
        "            'batch_time.avg': batch_time.avg,\n",
        "            'losses.avg': losses.avg,\n",
        "            'top1.avg': top1.avg}"
      ],
      "metadata": {
        "id": "B5R8BYQB_L9b"
      },
      "execution_count": null,
      "outputs": []
    },
    {
      "cell_type": "code",
      "source": [
        "CIFAR100_TRAIN_MEAN = [0.5070751592371323, 0.48654887331495095, 0.4409178433670343]\n",
        "CIFAR100_TRAIN_STD = [0.2673342858792401, 0.2564384629170883, 0.27615047132568404]\n",
        "\n",
        "train_dataset = torchvision.datasets.CIFAR100(\n",
        "  root='./data',\n",
        "  train=True,\n",
        "  download=True,\n",
        "  transform=transforms.Compose([\n",
        "    transforms.RandomCrop(32, padding=4),\n",
        "    transforms.RandomHorizontalFlip(),\n",
        "    transforms.RandomRotation(15),\n",
        "    transforms.ToTensor(),\n",
        "    transforms.Normalize(CIFAR100_TRAIN_MEAN, CIFAR100_TRAIN_STD)\n",
        "    ]))\n",
        "\n",
        "test_dataset = torchvision.datasets.CIFAR100(\n",
        "  root='./data',\n",
        "  train=False,\n",
        "  download=False,\n",
        "  transform=transforms.Compose([\n",
        "      transforms.ToTensor(),\n",
        "      transforms.Normalize(CIFAR100_TRAIN_MEAN, CIFAR100_TRAIN_STD)\n",
        "  ]))"
      ],
      "metadata": {
        "id": "kFQmLHq2yHyi",
        "colab": {
          "base_uri": "https://localhost:8080/",
          "height": 84,
          "referenced_widgets": [
            "1546227445c645c59d82d014bdcd2bec",
            "f7fc7083daaf4e48a59cb1cf49e270df",
            "a642c0c7894d4ee8a5ce81743ac5a80f",
            "5475a9c8322a47a48a6c9487299532ae",
            "2feb836ba2d643188120dcc97884c0f8",
            "8a00a963b1fa464db5cc95656610512a",
            "bf5b3ac61d274f43a0eee37f64f2be35",
            "b782b5fb2ad44741a207e6368534e63a",
            "25596011544c44ad976f6d07a7e4c8a3",
            "91076785e930410faa42995d76df3929",
            "338f32480caf4d5c8ff68946cf9b5c0c"
          ]
        },
        "outputId": "d80c5f51-9271-42d5-eabd-8853610aa721"
      },
      "execution_count": null,
      "outputs": [
        {
          "output_type": "stream",
          "name": "stdout",
          "text": [
            "Downloading https://www.cs.toronto.edu/~kriz/cifar-100-python.tar.gz to ./data/cifar-100-python.tar.gz\n"
          ]
        },
        {
          "output_type": "display_data",
          "data": {
            "application/vnd.jupyter.widget-view+json": {
              "model_id": "1546227445c645c59d82d014bdcd2bec",
              "version_minor": 0,
              "version_major": 2
            },
            "text/plain": [
              "  0%|          | 0/169001437 [00:00<?, ?it/s]"
            ]
          },
          "metadata": {}
        },
        {
          "output_type": "stream",
          "name": "stdout",
          "text": [
            "Extracting ./data/cifar-100-python.tar.gz to ./data\n"
          ]
        }
      ]
    },
    {
      "cell_type": "markdown",
      "source": [
        "CLASSIC TRAINING"
      ],
      "metadata": {
        "id": "3VKQIVNtN1Cf"
      }
    },
    {
      "cell_type": "code",
      "source": [
        "server_classic = Node(test_dataset, shuffle=False, batch_size=128)\n",
        "client_classic = Node(train_dataset, shuffle=True, batch_size=128)\n",
        "client_classic.create_model()\n",
        "training_logs, testing_logs = [], []"
      ],
      "metadata": {
        "id": "gBb5F8qMyAd8"
      },
      "execution_count": null,
      "outputs": []
    },
    {
      "cell_type": "code",
      "source": [
        "client_classic.set_more_hyperp(lr=0.1, mom=0.9, wd=5e-4)\n",
        "for epoch in range(1, 20+1):\n",
        "    training_logs.append(client_classic.train_model(epoch))\n",
        "    server_classic.load_model(client_classic)\n",
        "    testing_logs.append(server_classic.evaluate_model())\n",
        "    print(training_logs[-1])\n",
        "    print(testing_logs[-1])"
      ],
      "metadata": {
        "colab": {
          "base_uri": "https://localhost:8080/"
        },
        "id": "b9S1pBs7yAV1",
        "outputId": "e46e9b38-4ff9-4a56-f868-15bc982cec83"
      },
      "execution_count": null,
      "outputs": [
        {
          "output_type": "stream",
          "name": "stdout",
          "text": [
            "{'epoch': 1, 'batch_time.avg': 0.34748696854047456, 'data_time.avg': 0.00357284570289085, 'losses.avg': 3.962310236816406, 'top1.avg': 9.09}\n",
            "{'batch_time.avg': 0.10869331903095487, 'losses.avg': 3.614988480758667, 'top1.avg': 13.43}\n",
            "{'epoch': 2, 'batch_time.avg': 0.34866335934690196, 'data_time.avg': 0.0034339330385408135, 'losses.avg': 3.3654900790405273, 'top1.avg': 17.798}\n",
            "{'batch_time.avg': 0.10811860048318211, 'losses.avg': 3.336258583068848, 'top1.avg': 20.57}\n",
            "{'epoch': 3, 'batch_time.avg': 0.3486738918382493, 'data_time.avg': 0.003492673034863094, 'losses.avg': 2.921759614715576, 'top1.avg': 26.09}\n",
            "{'batch_time.avg': 0.10809768906122522, 'losses.avg': 2.7744102478027344, 'top1.avg': 29.33}\n",
            "{'epoch': 4, 'batch_time.avg': 0.3486125176519994, 'data_time.avg': 0.003409546049659514, 'losses.avg': 2.526426815032959, 'top1.avg': 34.144}\n",
            "{'batch_time.avg': 0.10822745214534711, 'losses.avg': 2.595032322692871, 'top1.avg': 33.26}\n",
            "{'epoch': 5, 'batch_time.avg': 0.3485636833073843, 'data_time.avg': 0.0034786276805126456, 'losses.avg': 2.2492850566864013, 'top1.avg': 39.89}\n",
            "{'batch_time.avg': 0.10832399356214306, 'losses.avg': 2.2404971046447755, 'top1.avg': 41.12}\n",
            "{'epoch': 6, 'batch_time.avg': 0.34855812833742106, 'data_time.avg': 0.0037174828522040715, 'losses.avg': 2.0519255361175537, 'top1.avg': 44.442}\n",
            "{'batch_time.avg': 0.10893653917916213, 'losses.avg': 2.005077088165283, 'top1.avg': 45.94}\n",
            "{'epoch': 7, 'batch_time.avg': 0.3468099872169592, 'data_time.avg': 0.003966150991142253, 'losses.avg': 1.916376053199768, 'top1.avg': 47.318}\n",
            "{'batch_time.avg': 0.10779165618027313, 'losses.avg': 2.16025115814209, 'top1.avg': 43.77}\n",
            "{'epoch': 8, 'batch_time.avg': 0.3475271057899651, 'data_time.avg': 0.0036826767884861784, 'losses.avg': 1.812551372642517, 'top1.avg': 49.916}\n",
            "{'batch_time.avg': 0.10860381548917747, 'losses.avg': 1.9397272134780883, 'top1.avg': 47.27}\n",
            "{'epoch': 9, 'batch_time.avg': 0.34876169390080836, 'data_time.avg': 0.0037796783935078577, 'losses.avg': 1.734459177017212, 'top1.avg': 51.922}\n",
            "{'batch_time.avg': 0.10877934588661677, 'losses.avg': 2.1758897426605226, 'top1.avg': 43.38}\n",
            "{'epoch': 10, 'batch_time.avg': 0.3486186488510093, 'data_time.avg': 0.0037620781022874293, 'losses.avg': 1.6718046517944336, 'top1.avg': 53.25}\n",
            "{'batch_time.avg': 0.10864252380177944, 'losses.avg': 1.9939263896942139, 'top1.avg': 47.26}\n",
            "{'epoch': 11, 'batch_time.avg': 0.34844913507056663, 'data_time.avg': 0.0038546125602234357, 'losses.avg': 1.6196465676879883, 'top1.avg': 54.568}\n",
            "{'batch_time.avg': 0.10853512679474263, 'losses.avg': 1.8281336874008178, 'top1.avg': 50.09}\n",
            "{'epoch': 12, 'batch_time.avg': 0.3484833246606695, 'data_time.avg': 0.003889118618977344, 'losses.avg': 1.5759108014297485, 'top1.avg': 55.54}\n",
            "{'batch_time.avg': 0.10915830769116365, 'losses.avg': 1.8631592811584472, 'top1.avg': 50.01}\n",
            "{'epoch': 13, 'batch_time.avg': 0.3483145297945613, 'data_time.avg': 0.0038659621382613318, 'losses.avg': 1.5318652313995362, 'top1.avg': 57.036}\n",
            "{'batch_time.avg': 0.10891313794292981, 'losses.avg': 1.8104103771209716, 'top1.avg': 52.4}\n",
            "{'epoch': 14, 'batch_time.avg': 0.34827719137186897, 'data_time.avg': 0.003942661578088161, 'losses.avg': 1.501822371444702, 'top1.avg': 57.546}\n",
            "{'batch_time.avg': 0.10831852804256391, 'losses.avg': 1.7624639944076539, 'top1.avg': 52.82}\n",
            "{'epoch': 15, 'batch_time.avg': 0.3482453371862621, 'data_time.avg': 0.0037059430271158436, 'losses.avg': 1.4737357851409911, 'top1.avg': 58.482}\n",
            "{'batch_time.avg': 0.1082888645461843, 'losses.avg': 1.7402755500793456, 'top1.avg': 53.41}\n",
            "{'epoch': 16, 'batch_time.avg': 0.34831003886659434, 'data_time.avg': 0.0037444034195921916, 'losses.avg': 1.4494028775024415, 'top1.avg': 58.836}\n",
            "{'batch_time.avg': 0.1079143481918528, 'losses.avg': 1.8025170152664185, 'top1.avg': 52.2}\n",
            "{'epoch': 17, 'batch_time.avg': 0.3481947125681221, 'data_time.avg': 0.0037045100765764867, 'losses.avg': 1.4368077039718627, 'top1.avg': 59.306}\n",
            "{'batch_time.avg': 0.10881873323947569, 'losses.avg': 1.8243794692993165, 'top1.avg': 52.88}\n",
            "{'epoch': 18, 'batch_time.avg': 0.3481947211048487, 'data_time.avg': 0.003668197280610614, 'losses.avg': 1.4079223603057862, 'top1.avg': 60.208}\n",
            "{'batch_time.avg': 0.10794798030128962, 'losses.avg': 1.7326696413040161, 'top1.avg': 53.04}\n",
            "{'epoch': 19, 'batch_time.avg': 0.3481655962326947, 'data_time.avg': 0.003554001488649022, 'losses.avg': 1.4037012523269654, 'top1.avg': 60.066}\n",
            "{'batch_time.avg': 0.10835353935821147, 'losses.avg': 1.7651971593856812, 'top1.avg': 53.51}\n",
            "{'epoch': 20, 'batch_time.avg': 0.34815579302170696, 'data_time.avg': 0.003472733680549485, 'losses.avg': 1.372617202720642, 'top1.avg': 60.972}\n",
            "{'batch_time.avg': 0.10823592354979696, 'losses.avg': 1.6943073080062867, 'top1.avg': 54.9}\n"
          ]
        }
      ]
    },
    {
      "cell_type": "code",
      "source": [
        "client_classic.save_model('trained-model-epoch-20')"
      ],
      "metadata": {
        "id": "B7Vuf6QxyAMu"
      },
      "execution_count": null,
      "outputs": []
    },
    {
      "cell_type": "code",
      "source": [
        "client_classic.set_more_hyperp(lr=0.1, mom=0.9, wd=5e-4)\n",
        "for epoch in range(21, 30+1):\n",
        "    training_logs.append(client_classic.train_model(epoch))\n",
        "    server_classic.load_model(client_classic)\n",
        "    testing_logs.append(server_classic.evaluate_model())\n",
        "    print(training_logs[-1])\n",
        "    print(testing_logs[-1])"
      ],
      "metadata": {
        "id": "4ByHDuXbMGIJ",
        "colab": {
          "base_uri": "https://localhost:8080/"
        },
        "outputId": "87be4ca7-d5f7-4f2c-cbb9-f919880da62c"
      },
      "execution_count": null,
      "outputs": [
        {
          "output_type": "stream",
          "name": "stdout",
          "text": [
            "{'epoch': 21, 'batch_time.avg': 0.34732557989447316, 'data_time.avg': 0.0036392882656868155, 'losses.avg': 1.3557959514617919, 'top1.avg': 61.432}\n",
            "{'batch_time.avg': 0.10803548595573328, 'losses.avg': 1.6294720294952392, 'top1.avg': 56.63}\n",
            "{'epoch': 22, 'batch_time.avg': 0.34836134093496807, 'data_time.avg': 0.003665012471816119, 'losses.avg': 1.3512666953277588, 'top1.avg': 61.682}\n",
            "{'batch_time.avg': 0.10809960546372813, 'losses.avg': 1.7013730962753295, 'top1.avg': 55.29}\n",
            "{'epoch': 23, 'batch_time.avg': 0.3499395414386564, 'data_time.avg': 0.0036105518145939275, 'losses.avg': 1.3383345281219483, 'top1.avg': 61.772}\n",
            "{'batch_time.avg': 0.10952035384842113, 'losses.avg': 1.5601480533599854, 'top1.avg': 57.57}\n",
            "{'epoch': 24, 'batch_time.avg': 0.35101334823062047, 'data_time.avg': 0.0035216369287437185, 'losses.avg': 1.3258705700683593, 'top1.avg': 62.072}\n",
            "{'batch_time.avg': 0.10926208616812018, 'losses.avg': 1.5714661674499513, 'top1.avg': 56.91}\n",
            "{'epoch': 25, 'batch_time.avg': 0.35119297986140335, 'data_time.avg': 0.0035297614534187806, 'losses.avg': 1.3167549941635133, 'top1.avg': 62.406}\n",
            "{'batch_time.avg': 0.10957062093517449, 'losses.avg': 1.7301571899414063, 'top1.avg': 55.02}\n",
            "{'epoch': 26, 'batch_time.avg': 0.3503629569812199, 'data_time.avg': 0.004200458526611328, 'losses.avg': 1.3078146593093871, 'top1.avg': 62.602}\n",
            "{'batch_time.avg': 0.10896647730960121, 'losses.avg': 1.771028862762451, 'top1.avg': 53.69}\n",
            "{'epoch': 27, 'batch_time.avg': 0.3501530352150998, 'data_time.avg': 0.0036763254638827974, 'losses.avg': 1.2868104861831664, 'top1.avg': 63.194}\n",
            "{'batch_time.avg': 0.10965055453626416, 'losses.avg': 2.1900670251846313, 'top1.avg': 47.08}\n",
            "{'epoch': 28, 'batch_time.avg': 0.34993132240022234, 'data_time.avg': 0.0037391521131900874, 'losses.avg': 1.299520069503784, 'top1.avg': 62.864}\n",
            "{'batch_time.avg': 0.10959326768223243, 'losses.avg': 1.609636491394043, 'top1.avg': 56.95}\n",
            "{'epoch': 29, 'batch_time.avg': 0.3498293719328273, 'data_time.avg': 0.0038034940314719745, 'losses.avg': 1.2789983729553223, 'top1.avg': 63.306}\n",
            "{'batch_time.avg': 0.10957641842999036, 'losses.avg': 1.8297868003845215, 'top1.avg': 52.3}\n",
            "{'epoch': 30, 'batch_time.avg': 0.3499058518568268, 'data_time.avg': 0.0036222056659591167, 'losses.avg': 1.2742777904510498, 'top1.avg': 63.556}\n",
            "{'batch_time.avg': 0.10961864568010161, 'losses.avg': 1.6858421649932862, 'top1.avg': 55.62}\n"
          ]
        }
      ]
    },
    {
      "cell_type": "code",
      "source": [
        "client_classic.save_model('trained-model-epoch-30')"
      ],
      "metadata": {
        "id": "VWFFUs7aEAxg"
      },
      "execution_count": null,
      "outputs": []
    },
    {
      "cell_type": "code",
      "source": [
        "client_classic.set_more_hyperp(lr=0.02, mom=0.9, wd=5e-4)\n",
        "for epoch in range(31, 40+1):\n",
        "    training_logs.append(client_classic.train_model(epoch))\n",
        "    server_classic.load_model(client_classic)\n",
        "    testing_logs.append(server_classic.evaluate_model())\n",
        "    print(training_logs[-1])\n",
        "    print(testing_logs[-1])"
      ],
      "metadata": {
        "id": "Q8D--_JqEDpo",
        "outputId": "2002d24a-1c0b-495d-8724-36d24fd5de74",
        "colab": {
          "base_uri": "https://localhost:8080/"
        }
      },
      "execution_count": null,
      "outputs": [
        {
          "output_type": "stream",
          "name": "stdout",
          "text": [
            "{'epoch': 31, 'batch_time.avg': 0.3503056639600593, 'data_time.avg': 0.003823669365299937, 'losses.avg': 0.8110101011657714, 'top1.avg': 76.152}\n",
            "{'batch_time.avg': 0.10901822923104974, 'losses.avg': 1.010975661277771, 'top1.avg': 70.69}\n",
            "{'epoch': 32, 'batch_time.avg': 0.3495160667487727, 'data_time.avg': 0.0038308889969535494, 'losses.avg': 0.6677106137657165, 'top1.avg': 79.986}\n",
            "{'batch_time.avg': 0.10937377470958082, 'losses.avg': 1.0129452381134034, 'top1.avg': 71.26}\n",
            "{'epoch': 33, 'batch_time.avg': 0.3498897924447608, 'data_time.avg': 0.003686883565410019, 'losses.avg': 0.6028931803321839, 'top1.avg': 82.122}\n",
            "{'batch_time.avg': 0.11003841025919854, 'losses.avg': 1.0202454795837403, 'top1.avg': 71.32}\n",
            "{'epoch': 34, 'batch_time.avg': 0.3510475353816586, 'data_time.avg': 0.004162974979566491, 'losses.avg': 0.5527554134559631, 'top1.avg': 83.216}\n",
            "{'batch_time.avg': 0.10940356797809843, 'losses.avg': 1.0846254504203796, 'top1.avg': 69.9}\n",
            "{'epoch': 35, 'batch_time.avg': 0.3499576844217832, 'data_time.avg': 0.0040610348781966185, 'losses.avg': 0.5214387754249573, 'top1.avg': 84.216}\n",
            "{'batch_time.avg': 0.10899711862395081, 'losses.avg': 1.053156280517578, 'top1.avg': 71.26}\n",
            "{'epoch': 36, 'batch_time.avg': 0.34998813492562764, 'data_time.avg': 0.003616179956499573, 'losses.avg': 0.5006988153457642, 'top1.avg': 84.696}\n",
            "{'batch_time.avg': 0.10878304288357118, 'losses.avg': 1.1045762210845946, 'top1.avg': 69.78}\n",
            "{'epoch': 37, 'batch_time.avg': 0.3505694494223046, 'data_time.avg': 0.003812428935409507, 'losses.avg': 0.47937646814346313, 'top1.avg': 85.262}\n",
            "{'batch_time.avg': 0.10868332054041609, 'losses.avg': 1.1135155889511108, 'top1.avg': 70.11}\n",
            "{'epoch': 38, 'batch_time.avg': 0.3501466960858201, 'data_time.avg': 0.0035825556196520092, 'losses.avg': 0.46271540061950683, 'top1.avg': 85.83}\n",
            "{'batch_time.avg': 0.10905492154857781, 'losses.avg': 1.121229759979248, 'top1.avg': 70.11}\n",
            "{'epoch': 39, 'batch_time.avg': 0.3498984822226912, 'data_time.avg': 0.003714327312186551, 'losses.avg': 0.45158746671676636, 'top1.avg': 86.048}\n",
            "{'batch_time.avg': 0.10915786103357243, 'losses.avg': 1.1911291223526002, 'top1.avg': 68.81}\n",
            "{'epoch': 40, 'batch_time.avg': 0.3499969429981983, 'data_time.avg': 0.0036337887844466185, 'losses.avg': 0.4427806119155884, 'top1.avg': 86.262}\n",
            "{'batch_time.avg': 0.10900150975094566, 'losses.avg': 1.1813104721069336, 'top1.avg': 69.38}\n"
          ]
        }
      ]
    },
    {
      "cell_type": "code",
      "source": [
        "client_classic.save_model('trained-model-epoch-40')"
      ],
      "metadata": {
        "id": "E12tOR8OJtCs"
      },
      "execution_count": null,
      "outputs": []
    },
    {
      "cell_type": "code",
      "source": [
        "import json\n",
        "with open('classic_logs.json', 'w') as outfile:\n",
        "    outfile.write(str(json.dumps({'training_logs': training_logs, 'testing_logs': testing_logs})))"
      ],
      "metadata": {
        "id": "lqfD--8iKGbK"
      },
      "execution_count": null,
      "outputs": []
    },
    {
      "cell_type": "code",
      "source": [
        "import matplotlib.pyplot as plt\n",
        "\n",
        "plt.plot([x['losses.avg'] for x in training_logs], label='classic_train_loss')\n",
        "plt.plot([x['losses.avg'] for x in testing_logs], label='classic_test_loss')\n",
        "plt.legend()\n",
        "plt.show()\n",
        "\n",
        "plt.plot([x['top1.avg'] for x in training_logs], label='classic_train_acc')\n",
        "plt.plot([x['top1.avg'] for x in testing_logs], label='classic_test_acc')\n",
        "plt.legend()\n",
        "plt.show()"
      ],
      "metadata": {
        "id": "OYWS7v0NK7rZ",
        "outputId": "3adcf6c4-7ffe-446a-d14b-412687db508c",
        "colab": {
          "base_uri": "https://localhost:8080/",
          "height": 517
        }
      },
      "execution_count": null,
      "outputs": [
        {
          "output_type": "display_data",
          "data": {
            "image/png": "[encoded data removed]",
            "text/plain": [
              "<Figure size 432x288 with 1 Axes>"
            ]
          },
          "metadata": {
            "needs_background": "light"
          }
        },
        {
          "output_type": "display_data",
          "data": {
            "image/png": "[encoded data removed]",
            "text/plain": [
              "<Figure size 432x288 with 1 Axes>"
            ]
          },
          "metadata": {
            "needs_background": "light"
          }
        }
      ]
    },
    {
      "cell_type": "markdown",
      "source": [
        "DISTRIBUTED SYNCHRONOUS TRAINING - 5 Clients"
      ],
      "metadata": {
        "id": "NE6ndT6QOQtz"
      }
    },
    {
      "cell_type": "code",
      "source": [
        "train_split_datasest = random_split(train_dataset, [10000, 10000, 10000, 10000, 10000])\n",
        "clients_subsets = [Node(data, shuffle=True) for data in train_split_datasest]\n",
        "server_federator = Node(test_dataset, shuffle=False)\n",
        "server_federator.create_model()\n",
        "\n",
        "training_logs, testing_logs = [], []"
      ],
      "metadata": {
        "id": "Tjm-zhcUVELE"
      },
      "execution_count": null,
      "outputs": []
    },
    {
      "cell_type": "code",
      "source": [
        "for client in clients_subsets:\n",
        "    client.set_more_hyperp(lr=0.1, mom=0.9, wd=5e-4)\n",
        "\n",
        "for epoch in range(1, 20+1):\n",
        "    all_client_logs = {}\n",
        "    for client_idx in range(len(clients_subsets)):\n",
        "        client = clients_subsets[client_idx]\n",
        "        client.load_model(server_federator)\n",
        "        all_client_logs[str(client_idx)] = client.train_model(epoch)\n",
        "    training_logs.append(all_client_logs)\n",
        "    server_federator.aggregate_then_load_model(clients_subsets)\n",
        "    testing_logs.append(server_federator.evaluate_model())\n",
        "    print(training_logs[-1])\n",
        "    print(testing_logs[-1])"
      ],
      "metadata": {
        "colab": {
          "base_uri": "https://localhost:8080/"
        },
        "id": "fuQ1mhqgWw6s",
        "outputId": "380224a5-4a25-48a9-e9fb-a5cea0f27cbe"
      },
      "execution_count": null,
      "outputs": [
        {
          "output_type": "stream",
          "name": "stdout",
          "text": [
            "{'0': {'epoch': 1, 'batch_time.avg': 0.35175741775126396, 'data_time.avg': 0.006270828126352044, 'losses.avg': 4.494729347991943, 'top1.avg': 4.11}, '1': {'epoch': 1, 'batch_time.avg': 0.3520713093914563, 'data_time.avg': 0.005992086627815343, 'losses.avg': 4.668322801971436, 'top1.avg': 3.21}, '2': {'epoch': 1, 'batch_time.avg': 0.3564066404028784, 'data_time.avg': 0.005333782751348954, 'losses.avg': 4.471716317367553, 'top1.avg': 3.9}, '3': {'epoch': 1, 'batch_time.avg': 0.35565025595170036, 'data_time.avg': 0.0051940573921686484, 'losses.avg': 4.456500876617431, 'top1.avg': 3.82}, '4': {'epoch': 1, 'batch_time.avg': 0.3556616004509262, 'data_time.avg': 0.005821315548087977, 'losses.avg': 4.5506383880615235, 'top1.avg': 3.55}}\n",
            "{'batch_time.avg': 0.11048891876317278, 'losses.avg': 4.712153092193604, 'top1.avg': 1.0}\n",
            "{'0': {'epoch': 2, 'batch_time.avg': 0.3550529419621335, 'data_time.avg': 0.005151932752585109, 'losses.avg': 4.123700642395019, 'top1.avg': 6.16}, '1': {'epoch': 2, 'batch_time.avg': 0.3549071987972984, 'data_time.avg': 0.005241822592819793, 'losses.avg': 4.146385641860962, 'top1.avg': 6.43}, '2': {'epoch': 2, 'batch_time.avg': 0.3549219294439388, 'data_time.avg': 0.005258237259297431, 'losses.avg': 4.141344575881958, 'top1.avg': 6.03}, '3': {'epoch': 2, 'batch_time.avg': 0.3550982052766824, 'data_time.avg': 0.005191627937027171, 'losses.avg': 4.153541581344604, 'top1.avg': 5.57}, '4': {'epoch': 2, 'batch_time.avg': 0.35498254510420785, 'data_time.avg': 0.005079586294632924, 'losses.avg': 4.113172657775879, 'top1.avg': 6.62}}\n",
            "{'batch_time.avg': 0.11080869843688192, 'losses.avg': 4.040693700408935, 'top1.avg': 7.15}\n",
            "{'0': {'epoch': 3, 'batch_time.avg': 0.3552763703503186, 'data_time.avg': 0.00583401209191431, 'losses.avg': 3.934539579772949, 'top1.avg': 8.27}, '1': {'epoch': 3, 'batch_time.avg': 0.3541458135918726, 'data_time.avg': 0.005072669137882281, 'losses.avg': 3.929322286224365, 'top1.avg': 7.63}, '2': {'epoch': 3, 'batch_time.avg': 0.353761920446082, 'data_time.avg': 0.005136716214916374, 'losses.avg': 3.9355729629516603, 'top1.avg': 8.17}, '3': {'epoch': 3, 'batch_time.avg': 0.3536683094652393, 'data_time.avg': 0.0049503362631496, 'losses.avg': 3.952677470397949, 'top1.avg': 7.7}, '4': {'epoch': 3, 'batch_time.avg': 0.3539415914801103, 'data_time.avg': 0.005477063263518901, 'losses.avg': 3.9162133743286134, 'top1.avg': 8.32}}\n",
            "{'batch_time.avg': 0.1103336690347406, 'losses.avg': 3.80617280960083, 'top1.avg': 9.71}\n",
            "{'0': {'epoch': 4, 'batch_time.avg': 0.35412314873707446, 'data_time.avg': 0.00531004652192321, 'losses.avg': 3.7965383346557617, 'top1.avg': 10.2}, '1': {'epoch': 4, 'batch_time.avg': 0.3541858377335947, 'data_time.avg': 0.005087976214251941, 'losses.avg': 3.8039733821868897, 'top1.avg': 10.05}, '2': {'epoch': 4, 'batch_time.avg': 0.354172027563747, 'data_time.avg': 0.005363871779622911, 'losses.avg': 3.8264791347503664, 'top1.avg': 9.99}, '3': {'epoch': 4, 'batch_time.avg': 0.3539466948448857, 'data_time.avg': 0.0054048405417913125, 'losses.avg': 3.8176394767761233, 'top1.avg': 9.9}, '4': {'epoch': 4, 'batch_time.avg': 0.3546597957611084, 'data_time.avg': 0.005458919307853602, 'losses.avg': 3.7916025039672854, 'top1.avg': 10.8}}\n",
            "{'batch_time.avg': 0.11038331140445758, 'losses.avg': 3.640153619003296, 'top1.avg': 13.43}\n",
            "{'0': {'epoch': 5, 'batch_time.avg': 0.3544638337968271, 'data_time.avg': 0.005852077580705474, 'losses.avg': 3.7046615516662595, 'top1.avg': 11.98}, '1': {'epoch': 5, 'batch_time.avg': 0.35451879682420173, 'data_time.avg': 0.005317959604384024, 'losses.avg': 3.692008591079712, 'top1.avg': 12.22}, '2': {'epoch': 5, 'batch_time.avg': 0.3545296614683127, 'data_time.avg': 0.00533992731118504, 'losses.avg': 3.692906761932373, 'top1.avg': 11.98}, '3': {'epoch': 5, 'batch_time.avg': 0.354597517206699, 'data_time.avg': 0.005283379856544205, 'losses.avg': 3.7029372383117676, 'top1.avg': 11.76}, '4': {'epoch': 5, 'batch_time.avg': 0.3545454152022736, 'data_time.avg': 0.005508208576636978, 'losses.avg': 3.6813105266571045, 'top1.avg': 13.07}}\n",
            "{'batch_time.avg': 0.11075007161007652, 'losses.avg': 3.5216321083068847, 'top1.avg': 15.95}\n",
            "{'0': {'epoch': 6, 'batch_time.avg': 0.35437283938444114, 'data_time.avg': 0.005359969561613059, 'losses.avg': 3.570544845581055, 'top1.avg': 14.67}, '1': {'epoch': 6, 'batch_time.avg': 0.3543285448339921, 'data_time.avg': 0.005202438257917573, 'losses.avg': 3.583960314941406, 'top1.avg': 13.55}, '2': {'epoch': 6, 'batch_time.avg': 0.354530865633035, 'data_time.avg': 0.005763138396830498, 'losses.avg': 3.605133088684082, 'top1.avg': 13.48}, '3': {'epoch': 6, 'batch_time.avg': 0.3539710588093045, 'data_time.avg': 0.005303708812858485, 'losses.avg': 3.5913285652160645, 'top1.avg': 14.26}, '4': {'epoch': 6, 'batch_time.avg': 0.3542603329767155, 'data_time.avg': 0.005506913873213756, 'losses.avg': 3.5907668956756593, 'top1.avg': 14.34}}\n",
            "{'batch_time.avg': 0.11115960833392566, 'losses.avg': 3.4063220294952394, 'top1.avg': 17.66}\n",
            "{'0': {'epoch': 7, 'batch_time.avg': 0.35444670387461213, 'data_time.avg': 0.00532648231409773, 'losses.avg': 3.4530835845947268, 'top1.avg': 16.43}, '1': {'epoch': 7, 'batch_time.avg': 0.35480664349809476, 'data_time.avg': 0.005357838884184632, 'losses.avg': 3.4853092727661132, 'top1.avg': 15.97}, '2': {'epoch': 7, 'batch_time.avg': 0.3545737779593166, 'data_time.avg': 0.005653085587899896, 'losses.avg': 3.4921947498321533, 'top1.avg': 15.58}, '3': {'epoch': 7, 'batch_time.avg': 0.35413421256632743, 'data_time.avg': 0.005487245849416226, 'losses.avg': 3.4947991828918457, 'top1.avg': 15.32}, '4': {'epoch': 7, 'batch_time.avg': 0.3540078597732737, 'data_time.avg': 0.005491649048237861, 'losses.avg': 3.4588972301483154, 'top1.avg': 16.41}}\n",
            "{'batch_time.avg': 0.10992110228236718, 'losses.avg': 3.2340688247680665, 'top1.avg': 21.16}\n",
            "{'0': {'epoch': 8, 'batch_time.avg': 0.3543171248858488, 'data_time.avg': 0.005340316627599016, 'losses.avg': 3.3479003761291506, 'top1.avg': 18.53}, '1': {'epoch': 8, 'batch_time.avg': 0.3535965696165833, 'data_time.avg': 0.004832521269593058, 'losses.avg': 3.338767894744873, 'top1.avg': 18.3}, '2': {'epoch': 8, 'batch_time.avg': 0.35349515721767766, 'data_time.avg': 0.005051265788983695, 'losses.avg': 3.3702829273223878, 'top1.avg': 17.49}, '3': {'epoch': 8, 'batch_time.avg': 0.35363441781152655, 'data_time.avg': 0.005300322665443904, 'losses.avg': 3.371975262451172, 'top1.avg': 18.0}, '4': {'epoch': 8, 'batch_time.avg': 0.35391159299053726, 'data_time.avg': 0.00509084930902795, 'losses.avg': 3.3439705280303955, 'top1.avg': 18.61}}\n",
            "{'batch_time.avg': 0.11003280591361131, 'losses.avg': 3.165852370452881, 'top1.avg': 22.19}\n",
            "{'0': {'epoch': 9, 'batch_time.avg': 0.3536841145044641, 'data_time.avg': 0.004937482785574997, 'losses.avg': 3.239659011077881, 'top1.avg': 20.02}, '1': {'epoch': 9, 'batch_time.avg': 0.3541075790984721, 'data_time.avg': 0.005083539817906633, 'losses.avg': 3.2563563899993895, 'top1.avg': 19.75}, '2': {'epoch': 9, 'batch_time.avg': 0.35446377645564986, 'data_time.avg': 0.005738946455943433, 'losses.avg': 3.27297649307251, 'top1.avg': 19.45}, '3': {'epoch': 9, 'batch_time.avg': 0.35405468035347853, 'data_time.avg': 0.00514991373955449, 'losses.avg': 3.303858515548706, 'top1.avg': 18.92}, '4': {'epoch': 9, 'batch_time.avg': 0.3540675791004036, 'data_time.avg': 0.0056841554521005365, 'losses.avg': 3.247324797821045, 'top1.avg': 20.8}}\n",
            "{'batch_time.avg': 0.1104414312145378, 'losses.avg': 3.010324213027954, 'top1.avg': 25.37}\n",
            "{'0': {'epoch': 10, 'batch_time.avg': 0.3541414586803581, 'data_time.avg': 0.005260093302666386, 'losses.avg': 3.130526956176758, 'top1.avg': 22.32}, '1': {'epoch': 10, 'batch_time.avg': 0.3542504129530508, 'data_time.avg': 0.00483440447457229, 'losses.avg': 3.156991251373291, 'top1.avg': 22.12}, '2': {'epoch': 10, 'batch_time.avg': 0.35437570040739036, 'data_time.avg': 0.005312651018553142, 'losses.avg': 3.165749019622803, 'top1.avg': 21.13}, '3': {'epoch': 10, 'batch_time.avg': 0.3540326945389373, 'data_time.avg': 0.005049729649024674, 'losses.avg': 3.196825715637207, 'top1.avg': 20.9}, '4': {'epoch': 10, 'batch_time.avg': 0.3541065982625454, 'data_time.avg': 0.005309521397457847, 'losses.avg': 3.1491506870269776, 'top1.avg': 21.84}}\n",
            "{'batch_time.avg': 0.11003102531915979, 'losses.avg': 2.948851462173462, 'top1.avg': 26.19}\n",
            "{'0': {'epoch': 11, 'batch_time.avg': 0.35363465321214893, 'data_time.avg': 0.005061394051660465, 'losses.avg': 3.0531990142822267, 'top1.avg': 23.82}, '1': {'epoch': 11, 'batch_time.avg': 0.3551427714432342, 'data_time.avg': 0.006204991400996341, 'losses.avg': 3.062979556655884, 'top1.avg': 22.88}, '2': {'epoch': 11, 'batch_time.avg': 0.35387467130830014, 'data_time.avg': 0.004845208759549298, 'losses.avg': 3.0744537490844728, 'top1.avg': 22.77}, '3': {'epoch': 11, 'batch_time.avg': 0.35421465620209897, 'data_time.avg': 0.005165878730484202, 'losses.avg': 3.1214603610992433, 'top1.avg': 22.23}, '4': {'epoch': 11, 'batch_time.avg': 0.3540421890307076, 'data_time.avg': 0.005271733561648598, 'losses.avg': 3.0695879661560057, 'top1.avg': 23.54}}\n",
            "{'batch_time.avg': 0.110616723193398, 'losses.avg': 2.7967668643951415, 'top1.avg': 29.31}\n",
            "{'0': {'epoch': 12, 'batch_time.avg': 0.35431697398801393, 'data_time.avg': 0.005251477036295058, 'losses.avg': 2.968186381149292, 'top1.avg': 25.74}, '1': {'epoch': 12, 'batch_time.avg': 0.35427538654472257, 'data_time.avg': 0.005363808402532264, 'losses.avg': 2.9920081672668455, 'top1.avg': 24.95}, '2': {'epoch': 12, 'batch_time.avg': 0.3537795754927623, 'data_time.avg': 0.004748368565040299, 'losses.avg': 2.9879573181152344, 'top1.avg': 24.83}, '3': {'epoch': 12, 'batch_time.avg': 0.3536285629755334, 'data_time.avg': 0.005560425263416918, 'losses.avg': 3.003840747833252, 'top1.avg': 24.58}, '4': {'epoch': 12, 'batch_time.avg': 0.35393678387509114, 'data_time.avg': 0.00522116166126879, 'losses.avg': 2.987450883102417, 'top1.avg': 25.08}}\n",
            "{'batch_time.avg': 0.11037558543531201, 'losses.avg': 2.6885979331970216, 'top1.avg': 31.23}\n",
            "{'0': {'epoch': 13, 'batch_time.avg': 0.3547439062142674, 'data_time.avg': 0.005300911166999913, 'losses.avg': 2.8847365989685056, 'top1.avg': 27.37}, '1': {'epoch': 13, 'batch_time.avg': 0.35472087015079545, 'data_time.avg': 0.005210381519945362, 'losses.avg': 2.885624848175049, 'top1.avg': 26.51}, '2': {'epoch': 13, 'batch_time.avg': 0.35447362103039703, 'data_time.avg': 0.00474052187762683, 'losses.avg': 2.908180680465698, 'top1.avg': 26.38}, '3': {'epoch': 13, 'batch_time.avg': 0.35494006434573405, 'data_time.avg': 0.005445272107667561, 'losses.avg': 2.9216881057739257, 'top1.avg': 26.14}, '4': {'epoch': 13, 'batch_time.avg': 0.35452074340627165, 'data_time.avg': 0.0049965079826644705, 'losses.avg': 2.8994115253448487, 'top1.avg': 26.55}}\n",
            "{'batch_time.avg': 0.1105094408687157, 'losses.avg': 2.6581423027038573, 'top1.avg': 31.84}\n",
            "{'0': {'epoch': 14, 'batch_time.avg': 0.35420074945763697, 'data_time.avg': 0.005197962628135198, 'losses.avg': 2.785644215774536, 'top1.avg': 28.88}, '1': {'epoch': 14, 'batch_time.avg': 0.35382792919496947, 'data_time.avg': 0.004945160467413407, 'losses.avg': 2.8258131408691405, 'top1.avg': 28.38}, '2': {'epoch': 14, 'batch_time.avg': 0.3545049836363974, 'data_time.avg': 0.004983265188675892, 'losses.avg': 2.8208840785980223, 'top1.avg': 28.5}, '3': {'epoch': 14, 'batch_time.avg': 0.3536071596266348, 'data_time.avg': 0.005022842672806752, 'losses.avg': 2.8536576599121095, 'top1.avg': 27.46}, '4': {'epoch': 14, 'batch_time.avg': 0.3541791861570334, 'data_time.avg': 0.005192168151276021, 'losses.avg': 2.792694743728638, 'top1.avg': 28.56}}\n",
            "{'batch_time.avg': 0.11084050770047345, 'losses.avg': 2.510318734741211, 'top1.avg': 34.75}\n",
            "{'0': {'epoch': 15, 'batch_time.avg': 0.35430518584915355, 'data_time.avg': 0.005002682722067531, 'losses.avg': 2.699778692626953, 'top1.avg': 30.58}, '1': {'epoch': 15, 'batch_time.avg': 0.35463668726667574, 'data_time.avg': 0.004993722408632689, 'losses.avg': 2.723119268798828, 'top1.avg': 29.94}, '2': {'epoch': 15, 'batch_time.avg': 0.35412355314327193, 'data_time.avg': 0.004987861536726167, 'losses.avg': 2.740010569000244, 'top1.avg': 29.57}, '3': {'epoch': 15, 'batch_time.avg': 0.3537205020083657, 'data_time.avg': 0.005144816410692432, 'losses.avg': 2.7403994400024416, 'top1.avg': 29.79}, '4': {'epoch': 15, 'batch_time.avg': 0.3544225119337251, 'data_time.avg': 0.005445042742958552, 'losses.avg': 2.720530907058716, 'top1.avg': 29.96}}\n",
            "{'batch_time.avg': 0.11135101620155045, 'losses.avg': 2.3873995330810547, 'top1.avg': 37.41}\n",
            "{'0': {'epoch': 16, 'batch_time.avg': 0.35432713544821437, 'data_time.avg': 0.005420072169243535, 'losses.avg': 2.5939225193023683, 'top1.avg': 32.98}, '1': {'epoch': 16, 'batch_time.avg': 0.35454646846916105, 'data_time.avg': 0.005307924898364876, 'losses.avg': 2.6217779777526857, 'top1.avg': 32.3}, '2': {'epoch': 16, 'batch_time.avg': 0.3543631396716154, 'data_time.avg': 0.005610312087626397, 'losses.avg': 2.6394169830322265, 'top1.avg': 30.69}, '3': {'epoch': 16, 'batch_time.avg': 0.3537405533126638, 'data_time.avg': 0.005190698406364345, 'losses.avg': 2.6495778114318846, 'top1.avg': 31.4}, '4': {'epoch': 16, 'batch_time.avg': 0.35453296613089647, 'data_time.avg': 0.0053693554069422465, 'losses.avg': 2.6098233604431154, 'top1.avg': 32.55}}\n",
            "{'batch_time.avg': 0.1103909739965125, 'losses.avg': 2.363193662261963, 'top1.avg': 38.12}\n",
            "{'0': {'epoch': 17, 'batch_time.avg': 0.3539876696429675, 'data_time.avg': 0.005011555514758146, 'losses.avg': 2.511028010559082, 'top1.avg': 34.15}, '1': {'epoch': 17, 'batch_time.avg': 0.35416474221627925, 'data_time.avg': 0.00525799884071833, 'losses.avg': 2.5160601898193358, 'top1.avg': 34.13}, '2': {'epoch': 17, 'batch_time.avg': 0.35472509227221527, 'data_time.avg': 0.0051968490021138255, 'losses.avg': 2.5633660671234133, 'top1.avg': 33.55}, '3': {'epoch': 17, 'batch_time.avg': 0.35416991499405875, 'data_time.avg': 0.00523889517482323, 'losses.avg': 2.5913420925140382, 'top1.avg': 33.12}, '4': {'epoch': 17, 'batch_time.avg': 0.3536143634892717, 'data_time.avg': 0.005051685284964646, 'losses.avg': 2.551054912185669, 'top1.avg': 33.17}}\n",
            "{'batch_time.avg': 0.11003518708144562, 'losses.avg': 2.2746164100646973, 'top1.avg': 39.86}\n",
            "{'0': {'epoch': 18, 'batch_time.avg': 0.3546240088305896, 'data_time.avg': 0.005090342292302772, 'losses.avg': 2.430474927139282, 'top1.avg': 35.74}, '1': {'epoch': 18, 'batch_time.avg': 0.35443182233013687, 'data_time.avg': 0.00517138348350042, 'losses.avg': 2.4585072843551634, 'top1.avg': 34.99}, '2': {'epoch': 18, 'batch_time.avg': 0.35471222370485717, 'data_time.avg': 0.0049109157127670095, 'losses.avg': 2.483201340866089, 'top1.avg': 34.69}, '3': {'epoch': 18, 'batch_time.avg': 0.35526803173596344, 'data_time.avg': 0.005096716216847866, 'losses.avg': 2.5196353378295897, 'top1.avg': 34.5}, '4': {'epoch': 18, 'batch_time.avg': 0.35439534428753433, 'data_time.avg': 0.005058427400226834, 'losses.avg': 2.4551216716766358, 'top1.avg': 35.42}}\n",
            "{'batch_time.avg': 0.1107609060746205, 'losses.avg': 2.207629285430908, 'top1.avg': 41.12}\n",
            "{'0': {'epoch': 19, 'batch_time.avg': 0.35535116738910916, 'data_time.avg': 0.005511027348192432, 'losses.avg': 2.3667117336273193, 'top1.avg': 37.8}, '1': {'epoch': 19, 'batch_time.avg': 0.3550397202938418, 'data_time.avg': 0.004978726181802871, 'losses.avg': 2.3975242395401, 'top1.avg': 36.9}, '2': {'epoch': 19, 'batch_time.avg': 0.35489136056055, 'data_time.avg': 0.0053696722923954835, 'losses.avg': 2.4136772491455076, 'top1.avg': 36.48}, '3': {'epoch': 19, 'batch_time.avg': 0.3545930506307868, 'data_time.avg': 0.005097878130176399, 'losses.avg': 2.440821078491211, 'top1.avg': 35.78}, '4': {'epoch': 19, 'batch_time.avg': 0.35475250135494185, 'data_time.avg': 0.005055349084395397, 'losses.avg': 2.4107182737350463, 'top1.avg': 36.97}}\n",
            "{'batch_time.avg': 0.11084364033952544, 'losses.avg': 2.1251132104873656, 'top1.avg': 43.0}\n",
            "{'0': {'epoch': 20, 'batch_time.avg': 0.35457214222678657, 'data_time.avg': 0.0051187593725663194, 'losses.avg': 2.3069799919128418, 'top1.avg': 38.86}, '1': {'epoch': 20, 'batch_time.avg': 0.35465529900562914, 'data_time.avg': 0.005445830429656596, 'losses.avg': 2.3263126426696776, 'top1.avg': 38.29}, '2': {'epoch': 20, 'batch_time.avg': 0.35473812380923503, 'data_time.avg': 0.005488628073583675, 'losses.avg': 2.3503057052612304, 'top1.avg': 37.31}, '3': {'epoch': 20, 'batch_time.avg': 0.35479633717597286, 'data_time.avg': 0.005231730545623393, 'losses.avg': 2.388922027206421, 'top1.avg': 37.15}, '4': {'epoch': 20, 'batch_time.avg': 0.3546280710003044, 'data_time.avg': 0.004931238633167895, 'losses.avg': 2.325286038970947, 'top1.avg': 38.53}}\n",
            "{'batch_time.avg': 0.1107851795003384, 'losses.avg': 2.0284656658172606, 'top1.avg': 45.09}\n"
          ]
        }
      ]
    },
    {
      "cell_type": "code",
      "source": [
        "server_federator.save_model('/content/drive/MyDrive/ColabData/server_federator_model-epoch-20')"
      ],
      "metadata": {
        "id": "w_ZAEe71jVbL"
      },
      "execution_count": null,
      "outputs": []
    },
    {
      "cell_type": "code",
      "source": [
        "for client in clients_subsets:\n",
        "    client.set_more_hyperp(lr=0.1, mom=0.9, wd=5e-4)\n",
        "\n",
        "for epoch in range(21, 30+1):\n",
        "    all_client_logs = {}\n",
        "    for client_idx in range(len(clients_subsets)):\n",
        "        client = clients_subsets[client_idx]\n",
        "        client.load_model(server_federator)\n",
        "        all_client_logs[str(client_idx)] = client.train_model(epoch)\n",
        "    training_logs.append(all_client_logs)\n",
        "    server_federator.aggregate_then_load_model(clients_subsets)\n",
        "    testing_logs.append(server_federator.evaluate_model())\n",
        "    print(training_logs[-1])\n",
        "    print(testing_logs[-1])"
      ],
      "metadata": {
        "colab": {
          "base_uri": "https://localhost:8080/"
        },
        "id": "fttl456IYDMV",
        "outputId": "34ddf6ab-2d84-47de-84d4-0d183c72ea1f"
      },
      "execution_count": null,
      "outputs": [
        {
          "output_type": "stream",
          "name": "stdout",
          "text": [
            "{'0': {'epoch': 21, 'batch_time.avg': 0.35635950897313373, 'data_time.avg': 0.005019184909289396, 'losses.avg': 2.230468118286133, 'top1.avg': 40.16}, '1': {'epoch': 21, 'batch_time.avg': 0.3550312066379982, 'data_time.avg': 0.005028133150897449, 'losses.avg': 2.253281065368652, 'top1.avg': 39.6}, '2': {'epoch': 21, 'batch_time.avg': 0.3552688405483584, 'data_time.avg': 0.0051552374151688585, 'losses.avg': 2.2818061130523684, 'top1.avg': 39.4}, '3': {'epoch': 21, 'batch_time.avg': 0.3547463205796254, 'data_time.avg': 0.005066865607153011, 'losses.avg': 2.3008174533843992, 'top1.avg': 38.78}, '4': {'epoch': 21, 'batch_time.avg': 0.35483969314188896, 'data_time.avg': 0.004868775983399983, 'losses.avg': 2.2688147918701174, 'top1.avg': 39.92}}\n",
            "{'batch_time.avg': 0.11030969136877905, 'losses.avg': 2.0082332405090333, 'top1.avg': 45.75}\n",
            "{'0': {'epoch': 22, 'batch_time.avg': 0.3555302499215814, 'data_time.avg': 0.0051757866823220556, 'losses.avg': 2.1676310684204103, 'top1.avg': 42.21}, '1': {'epoch': 22, 'batch_time.avg': 0.3549713062334664, 'data_time.avg': 0.005093067507200603, 'losses.avg': 2.19226722946167, 'top1.avg': 41.08}, '2': {'epoch': 22, 'batch_time.avg': 0.35535609873035284, 'data_time.avg': 0.005203216890745525, 'losses.avg': 2.2264548431396483, 'top1.avg': 40.32}, '3': {'epoch': 22, 'batch_time.avg': 0.3549528514282613, 'data_time.avg': 0.005029937889002547, 'losses.avg': 2.256869552230835, 'top1.avg': 39.56}, '4': {'epoch': 22, 'batch_time.avg': 0.35598135899893846, 'data_time.avg': 0.005442064019698131, 'losses.avg': 2.219355827331543, 'top1.avg': 40.67}}\n",
            "{'batch_time.avg': 0.11107170732715461, 'losses.avg': 1.9572856725692749, 'top1.avg': 46.9}\n",
            "{'0': {'epoch': 23, 'batch_time.avg': 0.354536931725997, 'data_time.avg': 0.0058604493925843056, 'losses.avg': 2.1101163650512693, 'top1.avg': 43.13}, '1': {'epoch': 23, 'batch_time.avg': 0.3548547527458094, 'data_time.avg': 0.0055570964571795885, 'losses.avg': 2.122375045967102, 'top1.avg': 43.23}, '2': {'epoch': 23, 'batch_time.avg': 0.35487419744081133, 'data_time.avg': 0.0055448344991176944, 'losses.avg': 2.1472538940429686, 'top1.avg': 41.79}, '3': {'epoch': 23, 'batch_time.avg': 0.3547251828109162, 'data_time.avg': 0.005172877372065677, 'losses.avg': 2.1799263633728025, 'top1.avg': 41.69}, '4': {'epoch': 23, 'batch_time.avg': 0.3542034082774875, 'data_time.avg': 0.005109077767480778, 'losses.avg': 2.1337362258911132, 'top1.avg': 43.49}}\n",
            "{'batch_time.avg': 0.11033971098404896, 'losses.avg': 1.888181674194336, 'top1.avg': 48.36}\n",
            "{'0': {'epoch': 24, 'batch_time.avg': 0.35413448116447355, 'data_time.avg': 0.005083557925646818, 'losses.avg': 2.06891614112854, 'top1.avg': 44.17}, '1': {'epoch': 24, 'batch_time.avg': 0.3550664865517918, 'data_time.avg': 0.004883446270906472, 'losses.avg': 2.08151894569397, 'top1.avg': 43.97}, '2': {'epoch': 24, 'batch_time.avg': 0.35464955583403385, 'data_time.avg': 0.005307939988148364, 'losses.avg': 2.114800032424927, 'top1.avg': 42.73}, '3': {'epoch': 24, 'batch_time.avg': 0.35517294195633903, 'data_time.avg': 0.005247022532209565, 'losses.avg': 2.1126764194488525, 'top1.avg': 43.46}, '4': {'epoch': 24, 'batch_time.avg': 0.35497513602051556, 'data_time.avg': 0.0054262529445599905, 'losses.avg': 2.077075224685669, 'top1.avg': 43.97}}\n",
            "{'batch_time.avg': 0.1103866341747815, 'losses.avg': 1.8298286666870118, 'top1.avg': 49.92}\n",
            "{'0': {'epoch': 25, 'batch_time.avg': 0.35494765148887153, 'data_time.avg': 0.005218288566492781, 'losses.avg': 1.981123210144043, 'top1.avg': 45.92}, '1': {'epoch': 25, 'batch_time.avg': 0.3546820290480988, 'data_time.avg': 0.005521167682695992, 'losses.avg': 2.0093666065216063, 'top1.avg': 45.61}, '2': {'epoch': 25, 'batch_time.avg': 0.354465949384472, 'data_time.avg': 0.0047901944269107865, 'losses.avg': 2.0404195846557616, 'top1.avg': 44.91}, '3': {'epoch': 25, 'batch_time.avg': 0.35481212410745744, 'data_time.avg': 0.004986612102653407, 'losses.avg': 2.087812871170044, 'top1.avg': 43.42}, '4': {'epoch': 25, 'batch_time.avg': 0.35452735273143915, 'data_time.avg': 0.0052063193502305425, 'losses.avg': 2.021685863494873, 'top1.avg': 44.96}}\n",
            "{'batch_time.avg': 0.11038485961624339, 'losses.avg': 1.8046820796966552, 'top1.avg': 50.51}\n",
            "{'0': {'epoch': 26, 'batch_time.avg': 0.3547546229785002, 'data_time.avg': 0.00534254689759846, 'losses.avg': 1.959898105239868, 'top1.avg': 46.17}, '1': {'epoch': 26, 'batch_time.avg': 0.35471886622754834, 'data_time.avg': 0.004686497434785095, 'losses.avg': 1.9724774684906006, 'top1.avg': 46.11}, '2': {'epoch': 26, 'batch_time.avg': 0.3541468215894096, 'data_time.avg': 0.004768039606794526, 'losses.avg': 1.9870073444366456, 'top1.avg': 45.89}, '3': {'epoch': 26, 'batch_time.avg': 0.3546408912803553, 'data_time.avg': 0.005105697655979591, 'losses.avg': 1.9927984394073486, 'top1.avg': 45.21}, '4': {'epoch': 26, 'batch_time.avg': 0.3543536602696286, 'data_time.avg': 0.005043826525724387, 'losses.avg': 1.9774336963653565, 'top1.avg': 46.03}}\n",
            "{'batch_time.avg': 0.11077559748782387, 'losses.avg': 1.723999773979187, 'top1.avg': 52.13}\n",
            "{'0': {'epoch': 27, 'batch_time.avg': 0.3545918072326274, 'data_time.avg': 0.005415889281260816, 'losses.avg': 1.9246891975402831, 'top1.avg': 46.73}, '1': {'epoch': 27, 'batch_time.avg': 0.3545848357526562, 'data_time.avg': 0.004841065105003647, 'losses.avg': 1.9109830326080322, 'top1.avg': 47.7}, '2': {'epoch': 27, 'batch_time.avg': 0.35421108897728254, 'data_time.avg': 0.005086053775835641, 'losses.avg': 1.9442417991638183, 'top1.avg': 47.13}, '3': {'epoch': 27, 'batch_time.avg': 0.35448013076299356, 'data_time.avg': 0.00518927393080313, 'losses.avg': 1.9526176746368409, 'top1.avg': 46.51}, '4': {'epoch': 27, 'batch_time.avg': 0.3549057109446465, 'data_time.avg': 0.00522674789911584, 'losses.avg': 1.9310366312026979, 'top1.avg': 47.45}}\n",
            "{'batch_time.avg': 0.11098969737185707, 'losses.avg': 1.703419291305542, 'top1.avg': 53.18}\n",
            "{'0': {'epoch': 28, 'batch_time.avg': 0.3559906965569605, 'data_time.avg': 0.005644245992732953, 'losses.avg': 1.845996467590332, 'top1.avg': 48.94}, '1': {'epoch': 28, 'batch_time.avg': 0.35502194151093686, 'data_time.avg': 0.0054574193833749505, 'losses.avg': 1.8579401817321777, 'top1.avg': 49.1}, '2': {'epoch': 28, 'batch_time.avg': 0.3548469784893567, 'data_time.avg': 0.00552362128149105, 'losses.avg': 1.8953073665618896, 'top1.avg': 48.03}, '3': {'epoch': 28, 'batch_time.avg': 0.35456793217719357, 'data_time.avg': 0.005083017711397968, 'losses.avg': 1.9250995738983154, 'top1.avg': 47.28}, '4': {'epoch': 28, 'batch_time.avg': 0.3544298455685, 'data_time.avg': 0.005079006846947006, 'losses.avg': 1.8799542358398438, 'top1.avg': 48.99}}\n",
            "{'batch_time.avg': 0.1103224724153929, 'losses.avg': 1.6165013435363769, 'top1.avg': 54.59}\n",
            "{'0': {'epoch': 29, 'batch_time.avg': 0.35369401340243184, 'data_time.avg': 0.005141182790828656, 'losses.avg': 1.805294571685791, 'top1.avg': 49.74}, '1': {'epoch': 29, 'batch_time.avg': 0.35396687893927853, 'data_time.avg': 0.0049202019655251806, 'losses.avg': 1.8314147365570068, 'top1.avg': 49.4}, '2': {'epoch': 29, 'batch_time.avg': 0.35402947739709784, 'data_time.avg': 0.00525015215330486, 'losses.avg': 1.845524161529541, 'top1.avg': 48.92}, '3': {'epoch': 29, 'batch_time.avg': 0.3544124108326586, 'data_time.avg': 0.005471199373655681, 'losses.avg': 1.8622741710662842, 'top1.avg': 49.01}, '4': {'epoch': 29, 'batch_time.avg': 0.3543821196012859, 'data_time.avg': 0.005270619935627225, 'losses.avg': 1.8529554821014405, 'top1.avg': 49.62}}\n",
            "{'batch_time.avg': 0.11091785189471667, 'losses.avg': 1.6024935230255126, 'top1.avg': 55.27}\n",
            "{'0': {'epoch': 30, 'batch_time.avg': 0.3548283607144899, 'data_time.avg': 0.005276185047777393, 'losses.avg': 1.7590970621109008, 'top1.avg': 51.08}, '1': {'epoch': 30, 'batch_time.avg': 0.3545293113853358, 'data_time.avg': 0.005083168609232842, 'losses.avg': 1.7715265584945679, 'top1.avg': 51.16}, '2': {'epoch': 30, 'batch_time.avg': 0.35433353049845634, 'data_time.avg': 0.005235083495514302, 'losses.avg': 1.7930867229461669, 'top1.avg': 50.35}, '3': {'epoch': 30, 'batch_time.avg': 0.3544210723683804, 'data_time.avg': 0.005393176139155521, 'losses.avg': 1.8426275066375732, 'top1.avg': 48.79}, '4': {'epoch': 30, 'batch_time.avg': 0.3547393551355676, 'data_time.avg': 0.005528688430786133, 'losses.avg': 1.803511137008667, 'top1.avg': 50.01}}\n",
            "{'batch_time.avg': 0.11102383046210566, 'losses.avg': 1.5784045930862427, 'top1.avg': 55.68}\n"
          ]
        }
      ]
    },
    {
      "cell_type": "code",
      "source": [
        "server_federator.save_model('/content/drive/MyDrive/ColabData/server_federator_model-epoch-30')"
      ],
      "metadata": {
        "id": "VoIvJ2ump8k8"
      },
      "execution_count": null,
      "outputs": []
    },
    {
      "cell_type": "code",
      "source": [
        "server_federator.load_saved_model('/content/drive/MyDrive/ColabData/server_federator_model-epoch-30')\n",
        "\n",
        "for client in clients_subsets:\n",
        "    client.set_more_hyperp(lr=0.1, mom=0.9, wd=5e-4)\n",
        "\n",
        "for epoch in range(31, 40+1):\n",
        "    all_client_logs = {}\n",
        "    for client_idx in range(len(clients_subsets)):\n",
        "        client = clients_subsets[client_idx]\n",
        "        client.load_model(server_federator)\n",
        "        all_client_logs[str(client_idx)] = client.train_model(epoch)\n",
        "    training_logs.append(all_client_logs)\n",
        "    server_federator.aggregate_then_load_model(clients_subsets)\n",
        "    testing_logs.append(server_federator.evaluate_model())\n",
        "    print(training_logs[-1])\n",
        "    print(testing_logs[-1])"
      ],
      "metadata": {
        "colab": {
          "base_uri": "https://localhost:8080/"
        },
        "id": "sZMZq4z8wUWq",
        "outputId": "6155a3e6-8859-4804-d74e-77a79acf31f4"
      },
      "execution_count": 17,
      "outputs": [
        {
          "output_type": "stream",
          "name": "stdout",
          "text": [
            "{'0': {'epoch': 31, 'batch_time.avg': 0.35662402684175515, 'data_time.avg': 0.0053041826320599905, 'losses.avg': 1.7276952533721923, 'top1.avg': 50.9}, '1': {'epoch': 31, 'batch_time.avg': 0.355999949612195, 'data_time.avg': 0.005191875409476365, 'losses.avg': 1.7405339466094971, 'top1.avg': 51.3}, '2': {'epoch': 31, 'batch_time.avg': 0.35502199583415744, 'data_time.avg': 0.005215949650052227, 'losses.avg': 1.757961434173584, 'top1.avg': 51.16}, '3': {'epoch': 31, 'batch_time.avg': 0.3547745384747469, 'data_time.avg': 0.0052428215364866615, 'losses.avg': 1.7910679954528808, 'top1.avg': 50.14}, '4': {'epoch': 31, 'batch_time.avg': 0.35478381265567827, 'data_time.avg': 0.005317703078064738, 'losses.avg': 1.7581936336517334, 'top1.avg': 51.46}}\n",
            "{'batch_time.avg': 0.11088102678709393, 'losses.avg': 1.5985440700531006, 'top1.avg': 55.34}\n",
            "{'0': {'epoch': 32, 'batch_time.avg': 0.35514780841296234, 'data_time.avg': 0.005568670321114456, 'losses.avg': 1.7015948984146119, 'top1.avg': 52.63}, '1': {'epoch': 32, 'batch_time.avg': 0.35463628286047827, 'data_time.avg': 0.004904155489764636, 'losses.avg': 1.7053813766479493, 'top1.avg': 52.76}, '2': {'epoch': 32, 'batch_time.avg': 0.35478650165509573, 'data_time.avg': 0.0048865366585647005, 'losses.avg': 1.7438516633987426, 'top1.avg': 51.83}, '3': {'epoch': 32, 'batch_time.avg': 0.3546934188166751, 'data_time.avg': 0.005176191088519519, 'losses.avg': 1.7593095546722413, 'top1.avg': 51.29}, '4': {'epoch': 32, 'batch_time.avg': 0.3550048598760291, 'data_time.avg': 0.005329132080078125, 'losses.avg': 1.7289053886413575, 'top1.avg': 51.95}}\n",
            "{'batch_time.avg': 0.11050101171565961, 'losses.avg': 1.5174574800491334, 'top1.avg': 57.16}\n",
            "{'0': {'epoch': 33, 'batch_time.avg': 0.35510351386251326, 'data_time.avg': 0.004942217959633357, 'losses.avg': 1.6647758277893066, 'top1.avg': 53.53}, '1': {'epoch': 33, 'batch_time.avg': 0.35478788991517657, 'data_time.avg': 0.0049460960339896285, 'losses.avg': 1.6849444736480712, 'top1.avg': 53.11}, '2': {'epoch': 33, 'batch_time.avg': 0.35449851313723796, 'data_time.avg': 0.005042531822301164, 'losses.avg': 1.7216532730102538, 'top1.avg': 52.03}, '3': {'epoch': 33, 'batch_time.avg': 0.3548626054691363, 'data_time.avg': 0.005090840255157857, 'losses.avg': 1.7614993980407714, 'top1.avg': 51.28}, '4': {'epoch': 33, 'batch_time.avg': 0.3548218087304997, 'data_time.avg': 0.005362039879907536, 'losses.avg': 1.697474782180786, 'top1.avg': 52.62}}\n",
            "{'batch_time.avg': 0.11040687259239486, 'losses.avg': 1.4857234632492065, 'top1.avg': 58.07}\n",
            "{'0': {'epoch': 34, 'batch_time.avg': 0.354739460764052, 'data_time.avg': 0.005238928372346902, 'losses.avg': 1.639271171951294, 'top1.avg': 53.75}, '1': {'epoch': 34, 'batch_time.avg': 0.3547380061089238, 'data_time.avg': 0.005055590520931195, 'losses.avg': 1.6564045078277587, 'top1.avg': 53.81}, '2': {'epoch': 34, 'batch_time.avg': 0.35488959807383863, 'data_time.avg': 0.004715656932396225, 'losses.avg': 1.6746840927124023, 'top1.avg': 53.61}, '3': {'epoch': 34, 'batch_time.avg': 0.3545082581194141, 'data_time.avg': 0.004916486860830573, 'losses.avg': 1.7052558446884156, 'top1.avg': 52.45}, '4': {'epoch': 34, 'batch_time.avg': 0.3546065891845317, 'data_time.avg': 0.005209587797333923, 'losses.avg': 1.6532233379364014, 'top1.avg': 53.88}}\n",
            "{'batch_time.avg': 0.11056442803974394, 'losses.avg': 1.4620297176361083, 'top1.avg': 58.82}\n",
            "{'0': {'epoch': 35, 'batch_time.avg': 0.35482406314415266, 'data_time.avg': 0.004926756967472125, 'losses.avg': 1.6068649267196655, 'top1.avg': 54.88}, '1': {'epoch': 35, 'batch_time.avg': 0.3542073889623714, 'data_time.avg': 0.004866578910924211, 'losses.avg': 1.5952133964538575, 'top1.avg': 55.06}, '2': {'epoch': 35, 'batch_time.avg': 0.3541186067122447, 'data_time.avg': 0.005213692218442506, 'losses.avg': 1.670321375656128, 'top1.avg': 53.78}, '3': {'epoch': 35, 'batch_time.avg': 0.3543337025219881, 'data_time.avg': 0.004994235461271262, 'losses.avg': 1.6802824462890624, 'top1.avg': 53.08}, '4': {'epoch': 35, 'batch_time.avg': 0.35437825963466985, 'data_time.avg': 0.004814902438393122, 'losses.avg': 1.6485825550079345, 'top1.avg': 54.24}}\n",
            "{'batch_time.avg': 0.11059939710399773, 'losses.avg': 1.4787272605895996, 'top1.avg': 58.78}\n",
            "{'0': {'epoch': 36, 'batch_time.avg': 0.35468943511383444, 'data_time.avg': 0.0051379716849025295, 'losses.avg': 1.5721832500457764, 'top1.avg': 55.34}, '1': {'epoch': 36, 'batch_time.avg': 0.354555896565884, 'data_time.avg': 0.005102335652218589, 'losses.avg': 1.5964384593963623, 'top1.avg': 55.1}, '2': {'epoch': 36, 'batch_time.avg': 0.35476550874830803, 'data_time.avg': 0.004824236978458453, 'losses.avg': 1.609867702293396, 'top1.avg': 54.75}, '3': {'epoch': 36, 'batch_time.avg': 0.35473757755907276, 'data_time.avg': 0.00490705876410762, 'losses.avg': 1.6500668006896972, 'top1.avg': 53.65}, '4': {'epoch': 36, 'batch_time.avg': 0.354857480978664, 'data_time.avg': 0.004859776436528073, 'losses.avg': 1.5890858131408692, 'top1.avg': 55.0}}\n",
            "{'batch_time.avg': 0.1109380088274992, 'losses.avg': 1.423853458404541, 'top1.avg': 59.7}\n",
            "{'0': {'epoch': 37, 'batch_time.avg': 0.3543354800984829, 'data_time.avg': 0.005015324942673309, 'losses.avg': 1.5525152635574342, 'top1.avg': 56.4}, '1': {'epoch': 37, 'batch_time.avg': 0.354695724535592, 'data_time.avg': 0.0052819553809829905, 'losses.avg': 1.5846371742248535, 'top1.avg': 55.53}, '2': {'epoch': 37, 'batch_time.avg': 0.3540599979931795, 'data_time.avg': 0.005240929277637337, 'losses.avg': 1.5986123670578003, 'top1.avg': 55.45}, '3': {'epoch': 37, 'batch_time.avg': 0.35359520851811277, 'data_time.avg': 0.0045949567722368845, 'losses.avg': 1.6270407472610473, 'top1.avg': 54.13}, '4': {'epoch': 37, 'batch_time.avg': 0.35360996330840677, 'data_time.avg': 0.0047571659088134766, 'losses.avg': 1.577636075592041, 'top1.avg': 55.53}}\n",
            "{'batch_time.avg': 0.11028850833071938, 'losses.avg': 1.4174692987442017, 'top1.avg': 60.03}\n",
            "{'0': {'epoch': 38, 'batch_time.avg': 0.3545709863493714, 'data_time.avg': 0.004948102975193458, 'losses.avg': 1.520453630065918, 'top1.avg': 56.18}, '1': {'epoch': 38, 'batch_time.avg': 0.3539704884154887, 'data_time.avg': 0.005159390123584602, 'losses.avg': 1.5443525423049926, 'top1.avg': 56.59}, '2': {'epoch': 38, 'batch_time.avg': 0.3538594728783716, 'data_time.avg': 0.0049643214744857595, 'losses.avg': 1.5440174503326416, 'top1.avg': 56.36}, '3': {'epoch': 38, 'batch_time.avg': 0.3548312338092659, 'data_time.avg': 0.005078161819071709, 'losses.avg': 1.5920161632537841, 'top1.avg': 55.4}, '4': {'epoch': 38, 'batch_time.avg': 0.3547277963614162, 'data_time.avg': 0.005059218104881576, 'losses.avg': 1.546988092803955, 'top1.avg': 56.52}}\n",
            "{'batch_time.avg': 0.11028699633441394, 'losses.avg': 1.3994854619979857, 'top1.avg': 60.21}\n",
            "{'0': {'epoch': 39, 'batch_time.avg': 0.3540502681007868, 'data_time.avg': 0.004804762103889562, 'losses.avg': 1.50318286819458, 'top1.avg': 57.07}, '1': {'epoch': 39, 'batch_time.avg': 0.35352746746208097, 'data_time.avg': 0.004681934284258492, 'losses.avg': 1.50796392288208, 'top1.avg': 57.38}, '2': {'epoch': 39, 'batch_time.avg': 0.35377447212798685, 'data_time.avg': 0.004875002028066901, 'losses.avg': 1.5469431032180787, 'top1.avg': 56.5}, '3': {'epoch': 39, 'batch_time.avg': 0.3542422584340542, 'data_time.avg': 0.0047530433799647075, 'losses.avg': 1.5726052869796754, 'top1.avg': 55.99}, '4': {'epoch': 39, 'batch_time.avg': 0.35439671443987497, 'data_time.avg': 0.005130985115147844, 'losses.avg': 1.536546346282959, 'top1.avg': 57.06}}\n",
            "{'batch_time.avg': 0.11008007616936406, 'losses.avg': 1.3558662853240966, 'top1.avg': 61.68}\n",
            "{'0': {'epoch': 40, 'batch_time.avg': 0.35448225238655184, 'data_time.avg': 0.005208972134167635, 'losses.avg': 1.4789232290267944, 'top1.avg': 58.11}, '1': {'epoch': 40, 'batch_time.avg': 0.35452347767503956, 'data_time.avg': 0.0051723039602931545, 'losses.avg': 1.5095221292495729, 'top1.avg': 57.16}, '2': {'epoch': 40, 'batch_time.avg': 0.35401034355163574, 'data_time.avg': 0.005235871182212346, 'losses.avg': 1.5395497053146363, 'top1.avg': 57.08}, '3': {'epoch': 40, 'batch_time.avg': 0.35398835170118115, 'data_time.avg': 0.004802592193024068, 'losses.avg': 1.5469606378555298, 'top1.avg': 56.1}, '4': {'epoch': 40, 'batch_time.avg': 0.3538332951219776, 'data_time.avg': 0.004836670960052104, 'losses.avg': 1.5138087505340576, 'top1.avg': 57.67}}\n",
            "{'batch_time.avg': 0.10984286779089819, 'losses.avg': 1.3500061687469482, 'top1.avg': 61.71}\n"
          ]
        }
      ]
    },
    {
      "cell_type": "code",
      "source": [
        "server_federator.save_model('/content/drive/MyDrive/ColabData/server_federator_model-epoch-40')"
      ],
      "metadata": {
        "id": "_GPRHN5H2Y_D"
      },
      "execution_count": 18,
      "outputs": []
    },
    {
      "cell_type": "code",
      "source": [
        "server_federator.load_saved_model('/content/drive/MyDrive/ColabData/server_federator_model-epoch-40')\n",
        "\n",
        "for client in clients_subsets:\n",
        "    client.set_more_hyperp(lr=0.1, mom=0.9, wd=5e-4)\n",
        "\n",
        "for epoch in range(41, 50+1):\n",
        "    all_client_logs = {}\n",
        "    for client_idx in range(len(clients_subsets)):\n",
        "        client = clients_subsets[client_idx]\n",
        "        client.load_model(server_federator)\n",
        "        all_client_logs[str(client_idx)] = client.train_model(epoch)\n",
        "    training_logs.append(all_client_logs)\n",
        "    server_federator.aggregate_then_load_model(clients_subsets)\n",
        "    testing_logs.append(server_federator.evaluate_model())\n",
        "    print(training_logs[-1])\n",
        "    print(testing_logs[-1])"
      ],
      "metadata": {
        "colab": {
          "base_uri": "https://localhost:8080/"
        },
        "id": "Fdyf_PrM2jwp",
        "outputId": "e3b63a55-9d4d-46c4-b070-e934fa75f7dd"
      },
      "execution_count": 19,
      "outputs": [
        {
          "output_type": "stream",
          "name": "stdout",
          "text": [
            "{'0': {'epoch': 41, 'batch_time.avg': 0.35617229304736175, 'data_time.avg': 0.005097935471353652, 'losses.avg': 1.4539156700134277, 'top1.avg': 58.59}, '1': {'epoch': 41, 'batch_time.avg': 0.3559974266003959, 'data_time.avg': 0.004804170584376854, 'losses.avg': 1.473900043296814, 'top1.avg': 58.24}, '2': {'epoch': 41, 'batch_time.avg': 0.35480992703498165, 'data_time.avg': 0.004855113693430454, 'losses.avg': 1.522556209564209, 'top1.avg': 56.86}, '3': {'epoch': 41, 'batch_time.avg': 0.3546006830432747, 'data_time.avg': 0.005016338976123665, 'losses.avg': 1.5266427192687988, 'top1.avg': 56.64}, '4': {'epoch': 41, 'batch_time.avg': 0.35451820832264574, 'data_time.avg': 0.005089684377742719, 'losses.avg': 1.4895632246017456, 'top1.avg': 58.35}}\n",
            "{'batch_time.avg': 0.11064072500301313, 'losses.avg': 1.3697725704193116, 'top1.avg': 61.12}\n",
            "{'0': {'epoch': 42, 'batch_time.avg': 0.35471798498419266, 'data_time.avg': 0.0047298051133940495, 'losses.avg': 1.4205538583755493, 'top1.avg': 59.06}, '1': {'epoch': 42, 'batch_time.avg': 0.3543448508540286, 'data_time.avg': 0.005025266092034835, 'losses.avg': 1.4735254669189453, 'top1.avg': 58.62}, '2': {'epoch': 42, 'batch_time.avg': 0.3541802333880074, 'data_time.avg': 0.005236915395229678, 'losses.avg': 1.4552803003311157, 'top1.avg': 59.01}, '3': {'epoch': 42, 'batch_time.avg': 0.3545620230179799, 'data_time.avg': 0.005282009704203545, 'losses.avg': 1.5165287380218506, 'top1.avg': 56.8}, '4': {'epoch': 42, 'batch_time.avg': 0.35432726823830907, 'data_time.avg': 0.005189705498610871, 'losses.avg': 1.4490882461547852, 'top1.avg': 59.14}}\n",
            "{'batch_time.avg': 0.10999944843823396, 'losses.avg': 1.3019025047302246, 'top1.avg': 62.97}\n",
            "{'0': {'epoch': 43, 'batch_time.avg': 0.35391350637508345, 'data_time.avg': 0.0052058183694187595, 'losses.avg': 1.4187951753616332, 'top1.avg': 59.8}, '1': {'epoch': 43, 'batch_time.avg': 0.3542853850352613, 'data_time.avg': 0.005250167243088348, 'losses.avg': 1.4275583511352539, 'top1.avg': 58.94}, '2': {'epoch': 43, 'batch_time.avg': 0.35463051856318606, 'data_time.avg': 0.005307939988148364, 'losses.avg': 1.4560440868377686, 'top1.avg': 58.17}, '3': {'epoch': 43, 'batch_time.avg': 0.3543927216831642, 'data_time.avg': 0.004985679554033883, 'losses.avg': 1.4774918176651002, 'top1.avg': 58.68}, '4': {'epoch': 43, 'batch_time.avg': 0.3544139711162712, 'data_time.avg': 0.004952430725097656, 'losses.avg': 1.467680845928192, 'top1.avg': 58.1}}\n",
            "{'batch_time.avg': 0.11023320427423791, 'losses.avg': 1.3466553951263427, 'top1.avg': 61.97}\n",
            "{'0': {'epoch': 44, 'batch_time.avg': 0.3544120698035518, 'data_time.avg': 0.004891757723651355, 'losses.avg': 1.3978006187438965, 'top1.avg': 60.36}, '1': {'epoch': 44, 'batch_time.avg': 0.3548638247236421, 'data_time.avg': 0.004988908767700195, 'losses.avg': 1.3861436645507812, 'top1.avg': 60.28}, '2': {'epoch': 44, 'batch_time.avg': 0.35419943061056014, 'data_time.avg': 0.004786455178562599, 'losses.avg': 1.436105459022522, 'top1.avg': 58.87}, '3': {'epoch': 44, 'batch_time.avg': 0.354598884341083, 'data_time.avg': 0.004740618452241149, 'losses.avg': 1.4826980854034424, 'top1.avg': 58.17}, '4': {'epoch': 44, 'batch_time.avg': 0.3542533132094371, 'data_time.avg': 0.004940549029579646, 'losses.avg': 1.445193137741089, 'top1.avg': 59.05}}\n",
            "{'batch_time.avg': 0.11032506484019605, 'losses.avg': 1.3218040075302124, 'top1.avg': 62.39}\n",
            "{'0': {'epoch': 45, 'batch_time.avg': 0.3547222885904433, 'data_time.avg': 0.005071712445609177, 'losses.avg': 1.3991184387207032, 'top1.avg': 59.96}, '1': {'epoch': 45, 'batch_time.avg': 0.3546470871454553, 'data_time.avg': 0.004805495467367051, 'losses.avg': 1.398424905204773, 'top1.avg': 59.6}, '2': {'epoch': 45, 'batch_time.avg': 0.3540584527993504, 'data_time.avg': 0.004837639724151997, 'losses.avg': 1.4189494255065918, 'top1.avg': 59.11}, '3': {'epoch': 45, 'batch_time.avg': 0.3536678628076481, 'data_time.avg': 0.005007101010672654, 'losses.avg': 1.4397456455230713, 'top1.avg': 58.66}, '4': {'epoch': 45, 'batch_time.avg': 0.35446991497957253, 'data_time.avg': 0.004735146896748603, 'losses.avg': 1.4078592357635498, 'top1.avg': 60.33}}\n",
            "{'batch_time.avg': 0.1104043194010288, 'losses.avg': 1.2941652936935424, 'top1.avg': 63.13}\n",
            "{'0': {'epoch': 46, 'batch_time.avg': 0.35489544083800495, 'data_time.avg': 0.005196894271464287, 'losses.avg': 1.3798055337905883, 'top1.avg': 60.38}, '1': {'epoch': 46, 'batch_time.avg': 0.3545644766167749, 'data_time.avg': 0.005284351638600796, 'losses.avg': 1.3824963806152344, 'top1.avg': 61.17}, '2': {'epoch': 46, 'batch_time.avg': 0.3545783743073669, 'data_time.avg': 0.004948670351052586, 'losses.avg': 1.4155819734573365, 'top1.avg': 59.6}, '3': {'epoch': 46, 'batch_time.avg': 0.3541200975828533, 'data_time.avg': 0.0048734296726275095, 'losses.avg': 1.432752476119995, 'top1.avg': 59.2}, '4': {'epoch': 46, 'batch_time.avg': 0.35449321360527714, 'data_time.avg': 0.004858119578301152, 'losses.avg': 1.4177661617279054, 'top1.avg': 59.71}}\n",
            "{'batch_time.avg': 0.11012883427776868, 'losses.avg': 1.2800086463928222, 'top1.avg': 63.61}\n",
            "{'0': {'epoch': 47, 'batch_time.avg': 0.3543066737018054, 'data_time.avg': 0.0053421696530112734, 'losses.avg': 1.3626527618408204, 'top1.avg': 61.02}, '1': {'epoch': 47, 'batch_time.avg': 0.3536947558197794, 'data_time.avg': 0.005302057990544959, 'losses.avg': 1.3791071613311767, 'top1.avg': 60.89}, '2': {'epoch': 47, 'batch_time.avg': 0.35382683971260165, 'data_time.avg': 0.005098985720284378, 'losses.avg': 1.3780944511413573, 'top1.avg': 60.61}, '3': {'epoch': 47, 'batch_time.avg': 0.35419403450398507, 'data_time.avg': 0.004777884181541733, 'losses.avg': 1.4320191497802734, 'top1.avg': 59.48}, '4': {'epoch': 47, 'batch_time.avg': 0.3545992344240599, 'data_time.avg': 0.005275841000713879, 'losses.avg': 1.3640857858657838, 'top1.avg': 61.1}}\n",
            "{'batch_time.avg': 0.11064168471324293, 'losses.avg': 1.300163511276245, 'top1.avg': 63.76}\n",
            "{'0': {'epoch': 48, 'batch_time.avg': 0.3555707327927215, 'data_time.avg': 0.006106476240520236, 'losses.avg': 1.3420283784866334, 'top1.avg': 61.15}, '1': {'epoch': 48, 'batch_time.avg': 0.35419028016585336, 'data_time.avg': 0.004885872708091253, 'losses.avg': 1.3593980838775634, 'top1.avg': 61.34}, '2': {'epoch': 48, 'batch_time.avg': 0.3538766631597205, 'data_time.avg': 0.005020748210858695, 'losses.avg': 1.369170857810974, 'top1.avg': 60.73}, '3': {'epoch': 48, 'batch_time.avg': 0.3543114752709111, 'data_time.avg': 0.005273378348048729, 'losses.avg': 1.41297941570282, 'top1.avg': 59.73}, '4': {'epoch': 48, 'batch_time.avg': 0.3541180604620825, 'data_time.avg': 0.004791377465936202, 'losses.avg': 1.364906667137146, 'top1.avg': 61.8}}\n",
            "{'batch_time.avg': 0.11031486112860185, 'losses.avg': 1.2553360776901246, 'top1.avg': 64.13}\n",
            "{'0': {'epoch': 49, 'batch_time.avg': 0.3550015944468824, 'data_time.avg': 0.005185205725174916, 'losses.avg': 1.2972779737472535, 'top1.avg': 62.66}, '1': {'epoch': 49, 'batch_time.avg': 0.35463127607031714, 'data_time.avg': 0.004958964601347718, 'losses.avg': 1.352424243927002, 'top1.avg': 61.62}, '2': {'epoch': 49, 'batch_time.avg': 0.35422238820715796, 'data_time.avg': 0.005042580109608325, 'losses.avg': 1.3569939706802367, 'top1.avg': 61.6}, '3': {'epoch': 49, 'batch_time.avg': 0.35467784012420267, 'data_time.avg': 0.004937340941610215, 'losses.avg': 1.4022264310836792, 'top1.avg': 60.01}, '4': {'epoch': 49, 'batch_time.avg': 0.3546350515341457, 'data_time.avg': 0.005069557624527171, 'losses.avg': 1.3628341892242433, 'top1.avg': 60.84}}\n",
            "{'batch_time.avg': 0.11008948314039013, 'losses.avg': 1.2520475616455078, 'top1.avg': 64.17}\n",
            "{'0': {'epoch': 50, 'batch_time.avg': 0.3545122840736486, 'data_time.avg': 0.005232270759872243, 'losses.avg': 1.3053374977111816, 'top1.avg': 62.03}, '1': {'epoch': 50, 'batch_time.avg': 0.35436323926418645, 'data_time.avg': 0.005007761943189404, 'losses.avg': 1.3192844869613647, 'top1.avg': 61.98}, '2': {'epoch': 50, 'batch_time.avg': 0.35464613950705226, 'data_time.avg': 0.004826150363004661, 'losses.avg': 1.32312885761261, 'top1.avg': 61.56}, '3': {'epoch': 50, 'batch_time.avg': 0.35449101955075807, 'data_time.avg': 0.004924001573007318, 'losses.avg': 1.3666042810440064, 'top1.avg': 60.77}, '4': {'epoch': 50, 'batch_time.avg': 0.35441735424572907, 'data_time.avg': 0.0047571689267701745, 'losses.avg': 1.354714538192749, 'top1.avg': 61.14}}\n",
            "{'batch_time.avg': 0.11040687259239486, 'losses.avg': 1.258146572303772, 'top1.avg': 64.5}\n"
          ]
        }
      ]
    },
    {
      "cell_type": "code",
      "source": [
        "server_federator.save_model('/content/drive/MyDrive/ColabData/server_federator_model-epoch-50')"
      ],
      "metadata": {
        "id": "044jocJl9FJD"
      },
      "execution_count": 20,
      "outputs": []
    },
    {
      "cell_type": "code",
      "source": [
        "server_federator.load_saved_model('/content/drive/MyDrive/ColabData/server_federator_model-epoch-50')\n",
        "\n",
        "for client in clients_subsets:\n",
        "    client.set_more_hyperp(lr=0.02, mom=0.9, wd=5e-4)\n",
        "\n",
        "for epoch in range(51, 60+1):\n",
        "    all_client_logs = {}\n",
        "    for client_idx in range(len(clients_subsets)):\n",
        "        client = clients_subsets[client_idx]\n",
        "        client.load_model(server_federator)\n",
        "        all_client_logs[str(client_idx)] = client.train_model(epoch)\n",
        "    training_logs.append(all_client_logs)\n",
        "    server_federator.aggregate_then_load_model(clients_subsets)\n",
        "    testing_logs.append(server_federator.evaluate_model())\n",
        "    print(training_logs[-1])\n",
        "    print(testing_logs[-1])"
      ],
      "metadata": {
        "colab": {
          "base_uri": "https://localhost:8080/"
        },
        "id": "wB5Dbdxe9E5L",
        "outputId": "ee243960-abdb-4c6c-8fb1-da8a95919b30"
      },
      "execution_count": 21,
      "outputs": [
        {
          "output_type": "stream",
          "name": "stdout",
          "text": [
            "{'0': {'epoch': 51, 'batch_time.avg': 0.3560702076441125, 'data_time.avg': 0.004950052575220036, 'losses.avg': 0.8532016199111938, 'top1.avg': 74.78}, '1': {'epoch': 51, 'batch_time.avg': 0.3546935003015059, 'data_time.avg': 0.004909080795094937, 'losses.avg': 0.8770643642425537, 'top1.avg': 74.6}, '2': {'epoch': 51, 'batch_time.avg': 0.3545760625525366, 'data_time.avg': 0.004995877229714695, 'losses.avg': 0.8949547733306885, 'top1.avg': 73.9}, '3': {'epoch': 51, 'batch_time.avg': 0.354367144500153, 'data_time.avg': 0.0054590702056884766, 'losses.avg': 0.9091730938911438, 'top1.avg': 72.95}, '4': {'epoch': 51, 'batch_time.avg': 0.3541613198533843, 'data_time.avg': 0.005364348616781114, 'losses.avg': 0.88061630153656, 'top1.avg': 74.87}}\n",
            "{'batch_time.avg': 0.11027060882954658, 'losses.avg': 1.08081711769104, 'top1.avg': 68.9}\n",
            "{'0': {'epoch': 52, 'batch_time.avg': 0.3540266193921053, 'data_time.avg': 0.005130001261264463, 'losses.avg': 0.7835181324005127, 'top1.avg': 77.02}, '1': {'epoch': 52, 'batch_time.avg': 0.35343421863604196, 'data_time.avg': 0.0048575190049183516, 'losses.avg': 0.8024452548980713, 'top1.avg': 76.4}, '2': {'epoch': 52, 'batch_time.avg': 0.3541597535338583, 'data_time.avg': 0.005196381218825714, 'losses.avg': 0.8123164279937745, 'top1.avg': 76.26}, '3': {'epoch': 52, 'batch_time.avg': 0.35406835169731815, 'data_time.avg': 0.005199580252925052, 'losses.avg': 0.8243972633361817, 'top1.avg': 75.75}, '4': {'epoch': 52, 'batch_time.avg': 0.3546092812019058, 'data_time.avg': 0.005206962175007108, 'losses.avg': 0.8073170759201049, 'top1.avg': 76.77}}\n",
            "{'batch_time.avg': 0.11097467096546028, 'losses.avg': 1.064215665245056, 'top1.avg': 69.59}\n",
            "{'0': {'epoch': 53, 'batch_time.avg': 0.35468412954596024, 'data_time.avg': 0.005249817160111439, 'losses.avg': 0.7410873096466064, 'top1.avg': 78.27}, '1': {'epoch': 53, 'batch_time.avg': 0.3545171701455418, 'data_time.avg': 0.005108253865302364, 'losses.avg': 0.7618391319274902, 'top1.avg': 77.76}, '2': {'epoch': 53, 'batch_time.avg': 0.35362227355377585, 'data_time.avg': 0.005170224588128585, 'losses.avg': 0.7701480270385742, 'top1.avg': 77.69}, '3': {'epoch': 53, 'batch_time.avg': 0.3540184859988056, 'data_time.avg': 0.005581019799920577, 'losses.avg': 0.7933672739028931, 'top1.avg': 77.3}, '4': {'epoch': 53, 'batch_time.avg': 0.35413144208207914, 'data_time.avg': 0.00546763214883925, 'losses.avg': 0.7650610931396484, 'top1.avg': 78.0}}\n",
            "{'batch_time.avg': 0.11020656477046918, 'losses.avg': 1.052603060722351, 'top1.avg': 69.94}\n",
            "{'0': {'epoch': 54, 'batch_time.avg': 0.35388005836100517, 'data_time.avg': 0.005032140997391713, 'losses.avg': 0.7123292761802673, 'top1.avg': 78.65}, '1': {'epoch': 54, 'batch_time.avg': 0.3542449112179913, 'data_time.avg': 0.005109563658509074, 'losses.avg': 0.7257022407531738, 'top1.avg': 78.83}, '2': {'epoch': 54, 'batch_time.avg': 0.35434508625465105, 'data_time.avg': 0.005181131483633307, 'losses.avg': 0.745504965019226, 'top1.avg': 78.17}, '3': {'epoch': 54, 'batch_time.avg': 0.35404264172421224, 'data_time.avg': 0.005558910249154779, 'losses.avg': 0.7595282320976258, 'top1.avg': 77.28}, '4': {'epoch': 54, 'batch_time.avg': 0.35397095016286345, 'data_time.avg': 0.0051660175564922865, 'losses.avg': 0.7314490686416626, 'top1.avg': 78.88}}\n",
            "{'batch_time.avg': 0.11007109473023234, 'losses.avg': 1.0420323370933533, 'top1.avg': 70.23}\n",
            "{'0': {'epoch': 55, 'batch_time.avg': 0.3547011689294743, 'data_time.avg': 0.004986639264263684, 'losses.avg': 0.6995201324462891, 'top1.avg': 79.3}, '1': {'epoch': 55, 'batch_time.avg': 0.3548343936099282, 'data_time.avg': 0.00518725491777251, 'losses.avg': 0.7221680740356445, 'top1.avg': 78.56}, '2': {'epoch': 55, 'batch_time.avg': 0.35473640055596073, 'data_time.avg': 0.0053232289567778385, 'losses.avg': 0.7133111860275269, 'top1.avg': 78.65}, '3': {'epoch': 55, 'batch_time.avg': 0.35387779187552537, 'data_time.avg': 0.004862522777122787, 'losses.avg': 0.7294107624053955, 'top1.avg': 78.9}, '4': {'epoch': 55, 'batch_time.avg': 0.35387754440307617, 'data_time.avg': 0.005087547664400898, 'losses.avg': 0.7175400630950928, 'top1.avg': 78.64}}\n",
            "{'batch_time.avg': 0.11020237282861638, 'losses.avg': 1.0382339835166932, 'top1.avg': 70.38}\n",
            "{'0': {'epoch': 56, 'batch_time.avg': 0.35393391983418526, 'data_time.avg': 0.004981022846849659, 'losses.avg': 0.6651328748703003, 'top1.avg': 80.09}, '1': {'epoch': 56, 'batch_time.avg': 0.35378261759311336, 'data_time.avg': 0.005127276046366631, 'losses.avg': 0.6738455848693847, 'top1.avg': 80.3}, '2': {'epoch': 56, 'batch_time.avg': 0.3539348674725883, 'data_time.avg': 0.005269077759754809, 'losses.avg': 0.7051503156661987, 'top1.avg': 79.38}, '3': {'epoch': 56, 'batch_time.avg': 0.3536169196985945, 'data_time.avg': 0.004957021037234536, 'losses.avg': 0.7111199298858643, 'top1.avg': 79.15}, '4': {'epoch': 56, 'batch_time.avg': 0.35370939592771894, 'data_time.avg': 0.004985097088391268, 'losses.avg': 0.7039750549316406, 'top1.avg': 79.21}}\n",
            "{'batch_time.avg': 0.11018285570265371, 'losses.avg': 1.0382709707260132, 'top1.avg': 70.48}\n",
            "{'0': {'epoch': 57, 'batch_time.avg': 0.3541875881484792, 'data_time.avg': 0.005006886735747132, 'losses.avg': 0.6409729679107666, 'top1.avg': 81.13}, '1': {'epoch': 57, 'batch_time.avg': 0.3540697761728794, 'data_time.avg': 0.005328498309171653, 'losses.avg': 0.6770574165344239, 'top1.avg': 79.67}, '2': {'epoch': 57, 'batch_time.avg': 0.35430157033702997, 'data_time.avg': 0.005435475820227515, 'losses.avg': 0.6768081600189209, 'top1.avg': 79.46}, '3': {'epoch': 57, 'batch_time.avg': 0.3546872169156618, 'data_time.avg': 0.005104206785371032, 'losses.avg': 0.6825026451110839, 'top1.avg': 79.92}, '4': {'epoch': 57, 'batch_time.avg': 0.35443914087512823, 'data_time.avg': 0.005345175537881972, 'losses.avg': 0.6666810467720031, 'top1.avg': 80.61}}\n",
            "{'batch_time.avg': 0.11023952085760576, 'losses.avg': 1.0299870292663573, 'top1.avg': 70.9}\n",
            "{'0': {'epoch': 58, 'batch_time.avg': 0.35406922690476045, 'data_time.avg': 0.0049057851863812795, 'losses.avg': 0.6332192571640015, 'top1.avg': 81.11}, '1': {'epoch': 58, 'batch_time.avg': 0.35466811023181, 'data_time.avg': 0.005121825616570968, 'losses.avg': 0.643165711402893, 'top1.avg': 80.47}, '2': {'epoch': 58, 'batch_time.avg': 0.35436866555032853, 'data_time.avg': 0.004982975464832934, 'losses.avg': 0.6541968615531921, 'top1.avg': 80.2}, '3': {'epoch': 58, 'batch_time.avg': 0.354390847532055, 'data_time.avg': 0.004865420015552376, 'losses.avg': 0.6604944295883178, 'top1.avg': 80.29}, '4': {'epoch': 58, 'batch_time.avg': 0.3540297278875037, 'data_time.avg': 0.005046901823599128, 'losses.avg': 0.6590956439971923, 'top1.avg': 79.89}}\n",
            "{'batch_time.avg': 0.11035908626604683, 'losses.avg': 1.0304088674545289, 'top1.avg': 71.2}\n",
            "{'0': {'epoch': 59, 'batch_time.avg': 0.3539998169186749, 'data_time.avg': 0.005280361899846717, 'losses.avg': 0.6061051892757415, 'top1.avg': 81.79}, '1': {'epoch': 59, 'batch_time.avg': 0.35451134548911567, 'data_time.avg': 0.004677989814854875, 'losses.avg': 0.6317961026191712, 'top1.avg': 81.34}, '2': {'epoch': 59, 'batch_time.avg': 0.35445899903019773, 'data_time.avg': 0.004936197136021867, 'losses.avg': 0.6440588995933533, 'top1.avg': 80.78}, '3': {'epoch': 59, 'batch_time.avg': 0.35438412654248974, 'data_time.avg': 0.005175321916990642, 'losses.avg': 0.6757352184295654, 'top1.avg': 80.12}, '4': {'epoch': 59, 'batch_time.avg': 0.3547191257718243, 'data_time.avg': 0.00501902495758443, 'losses.avg': 0.6408929953575134, 'top1.avg': 80.85}}\n",
            "{'batch_time.avg': 0.11105679258515563, 'losses.avg': 1.033500459098816, 'top1.avg': 71.0}\n",
            "{'0': {'epoch': 60, 'batch_time.avg': 0.3544600885125655, 'data_time.avg': 0.005144427094278457, 'losses.avg': 0.5879095162391662, 'top1.avg': 82.67}, '1': {'epoch': 60, 'batch_time.avg': 0.35391230824627457, 'data_time.avg': 0.004976151864739913, 'losses.avg': 0.6019499710083008, 'top1.avg': 82.13}, '2': {'epoch': 60, 'batch_time.avg': 0.3545879321762278, 'data_time.avg': 0.004760829708244227, 'losses.avg': 0.6326791066169739, 'top1.avg': 81.32}, '3': {'epoch': 60, 'batch_time.avg': 0.3540895649149448, 'data_time.avg': 0.004641493664512151, 'losses.avg': 0.6353693617820739, 'top1.avg': 80.8}, '4': {'epoch': 60, 'batch_time.avg': 0.35439516924604586, 'data_time.avg': 0.005117790608466426, 'losses.avg': 0.6158860885620118, 'top1.avg': 81.32}}\n",
            "{'batch_time.avg': 0.11039997052542772, 'losses.avg': 1.036121632385254, 'top1.avg': 70.98}\n"
          ]
        }
      ]
    },
    {
      "cell_type": "code",
      "source": [
        "import json\n",
        "with open('/content/drive/MyDrive/ColabData/fed_5clientIID-1ClientEpoch_logs.json', 'w') as outfile:\n",
        "    outfile.write(str(json.dumps({'training_logs': training_logs, 'testing_logs': testing_logs})))"
      ],
      "metadata": {
        "id": "C6FhaQOpERIc"
      },
      "execution_count": 45,
      "outputs": []
    },
    {
      "cell_type": "code",
      "source": [
        "import matplotlib.pyplot as plt\n",
        "\n",
        "plt.plot([np.mean([x[str(i)]['losses.avg'] for i in range(5)]) for x in training_logs], label='fed_5clientIID-1ClientEpoch_train_loss')\n",
        "plt.plot([x['losses.avg'] for x in testing_logs], label='fed_5clientIID-1ClientEpoch_test_loss')\n",
        "plt.legend()\n",
        "plt.show()\n",
        "plt.plot([np.mean([x[str(i)]['top1.avg'] for i in range(5)]) for x in training_logs], label='fed_5clientIID-1ClientEpoch_train_acc')\n",
        "plt.plot([x['top1.avg'] for x in testing_logs], label='fed_5clientIID-1ClientEpoch_test_acc')\n",
        "plt.legend()\n",
        "plt.show()"
      ],
      "metadata": {
        "colab": {
          "base_uri": "https://localhost:8080/",
          "height": 513
        },
        "id": "WjRmL9t_DzcM",
        "outputId": "6fa446eb-4e06-486f-ca2a-7ec924cd839f"
      },
      "execution_count": 46,
      "outputs": [
        {
          "output_type": "display_data",
          "data": {
            "image/png": "[encoded data removed]",
            "text/plain": [
              "<Figure size 432x288 with 1 Axes>"
            ]
          },
          "metadata": {
            "needs_background": "light"
          }
        },
        {
          "output_type": "display_data",
          "data": {
            "image/png": "[encoded data removed]",
            "text/plain": [
              "<Figure size 432x288 with 1 Axes>"
            ]
          },
          "metadata": {
            "needs_background": "light"
          }
        }
      ]
    }
  ]
}